{
 "cells": [
  {
   "cell_type": "markdown",
   "id": "d36f4897ff957ff9",
   "metadata": {},
   "source": [
    "# Homework 2\n",
    "## Question 2\n",
    "### Part A"
   ]
  },
  {
   "cell_type": "code",
   "execution_count": 1,
   "id": "initial_id",
   "metadata": {
    "ExecuteTime": {
     "start_time": "2023-10-23T15:36:06.708279Z"
    }
   },
   "outputs": [
    {
     "name": "stdout",
     "output_type": "stream",
     "text": [
      "   age          job  marital  education default  balance housing loan  \\\n",
      "0   41     services  married  secondary      no        0     yes   no   \n",
      "1   48  blue-collar   single  secondary      no      312     yes  yes   \n",
      "2   55   technician  married  secondary      no     1938      no  yes   \n",
      "3   54       admin.  married   tertiary      no       59     yes   no   \n",
      "4   34   management   single   tertiary      no     2646      no   no   \n",
      "\n",
      "    contact  day month  duration  campaign  pdays  previous poutcome    y  \n",
      "0   unknown    5   may       114         2     -1         0  unknown   no  \n",
      "1  cellular    3   feb       369         2     -1         0  unknown   no  \n",
      "2  cellular   18   aug       193         1    386         3  success  yes  \n",
      "3  cellular   10   jul       268         1     -1         0  unknown   no  \n",
      "4  cellular   14   apr       142         1     -1         0  unknown  yes  \n"
     ]
    }
   ],
   "source": [
    "from AdaBoost import AdaBoost\n",
    "import pandas as pd\n",
    "\n",
    "\n",
    "bank_train: pd.DataFrame = pd.read_csv(\n",
    "      \"/Users/divytripathy/PycharmProjects/Machine Learning/DecisionTreePackage/bank/train.csv\",\n",
    "      names=[\"age\", \"job\", \"marital\", \"education\", \"default\", \"balance\", \"housing\",\n",
    "             \"loan\", \"contact\", \"day\", \"month\", \"duration\", \"campaign\", \"pdays\",\n",
    "             \"previous\", \"poutcome\", \"y\"])\n",
    "print(bank_train.head())"
   ]
  },
  {
   "cell_type": "code",
   "execution_count": 2,
   "id": "276ae1c4cac323bb",
   "metadata": {
    "ExecuteTime": {
     "end_time": "2023-10-23T15:36:06.709555Z",
     "start_time": "2023-10-23T15:36:06.709099Z"
    }
   },
   "outputs": [
    {
     "name": "stdout",
     "output_type": "stream",
     "text": [
      "   age           job  marital  education default  balance housing loan  \\\n",
      "0   41    management   single  secondary      no      764      no   no   \n",
      "1   39   blue-collar  married  secondary      no       49     yes   no   \n",
      "2   60       retired  married    primary      no        0      no   no   \n",
      "3   31  entrepreneur   single   tertiary      no      247     yes  yes   \n",
      "4   26       student   single    unknown      no     2020      no   no   \n",
      "\n",
      "     contact  day month  duration  campaign  pdays  previous poutcome   y  \n",
      "0   cellular   12   jun       230         2     -1         0  unknown  no  \n",
      "1   cellular   14   may       566         1    370         2  failure  no  \n",
      "2  telephone   30   jul       130         3     -1         0  unknown  no  \n",
      "3    unknown    2   jun       273         1     -1         0  unknown  no  \n",
      "4  telephone   28   jan        42         3     -1         0  unknown  no  \n"
     ]
    }
   ],
   "source": [
    "bank_test: pd.DataFrame = pd.read_csv(\n",
    "      \"/Users/divytripathy/PycharmProjects/Machine Learning/DecisionTreePackage/bank/test.csv\",\n",
    "      names=[\"age\", \"job\", \"marital\", \"education\", \"default\", \"balance\", \"housing\",\n",
    "             \"loan\", \"contact\", \"day\", \"month\", \"duration\", \"campaign\", \"pdays\",\n",
    "             \"previous\", \"poutcome\", \"y\"])\n",
    "print(bank_test.head())"
   ]
  },
  {
   "cell_type": "markdown",
   "id": "9c3f89351b023d95",
   "metadata": {},
   "source": [
    "Lets write a function that makes the numerical variables binary."
   ]
  },
  {
   "cell_type": "code",
   "execution_count": 3,
   "id": "816973824943b438",
   "metadata": {
    "ExecuteTime": {
     "start_time": "2023-10-23T15:36:06.710636Z"
    }
   },
   "outputs": [],
   "source": [
    "def make_numerical_attributes_binary(data):\n",
    "      column_types: dict[str, str] = data.dtypes.to_dict()\n",
    "      for column in column_types:\n",
    "        if column_types[column] == \"int64\" or column_types[column] == \"float64\":\n",
    "          data[column] = data[column].apply(lambda x: x >= data[column].median())"
   ]
  },
  {
   "cell_type": "code",
   "execution_count": 4,
   "id": "a4ba145984ba3534",
   "metadata": {
    "ExecuteTime": {
     "start_time": "2023-10-23T15:36:06.711791Z"
    }
   },
   "outputs": [],
   "source": [
    "make_numerical_attributes_binary(bank_test)\n",
    "make_numerical_attributes_binary(bank_train)"
   ]
  },
  {
   "cell_type": "markdown",
   "id": "10229bab11c41827",
   "metadata": {},
   "source": [
    "Let's also make a helper function that would calculate the training and the testing errors."
   ]
  },
  {
   "cell_type": "code",
   "execution_count": 5,
   "id": "f3893d5e2c37d77a",
   "metadata": {
    "ExecuteTime": {
     "start_time": "2023-10-23T15:36:06.712329Z"
    }
   },
   "outputs": [],
   "source": [
    "def predict_dataframe(model: AdaBoost, test_data: pd.DataFrame, label: str) -> float:\n",
    "      accuracy_count: int = 0  # represents the count of correct predictions\n",
    "      for j in range(test_data.shape[0]):\n",
    "        if model.predict(test_data, j) == test_data[label].iloc[j]:\n",
    "          accuracy_count += 1\n",
    "      return accuracy_count / len(test_data)"
   ]
  },
  {
   "cell_type": "markdown",
   "id": "7cfbe7c66959f51d",
   "metadata": {},
   "source": [
    "Lets train our trees and visualize the errors."
   ]
  },
  {
   "cell_type": "code",
   "execution_count": null,
   "id": "600d617ed0984aed",
   "metadata": {
    "ExecuteTime": {
     "start_time": "2023-10-23T15:36:06.712826Z"
    }
   },
   "outputs": [],
   "source": [
    "accuracies_train = []\n",
    "accuracies_test = []\n",
    "num_trees = 500\n",
    "for i in range(1, num_trees + 1):\n",
    "    tree: AdaBoost = AdaBoost(bank_train)\n",
    "    tree.build(attributes=set(bank_train.columns) - {\"y\"}, label=\"y\", splitting_criteria=tree.ENTROPY,\n",
    "               num_trees=i)\n",
    "    accuracies_train.append(predict_dataframe(tree, bank_train, \"y\"))\n",
    "    accuracies_test.append(predict_dataframe(tree, bank_test, \"y\"))"
   ]
  },
  {
   "cell_type": "markdown",
   "id": "235c798fd12cbd3a",
   "metadata": {},
   "source": [
    "Lets visualize the accuracies."
   ]
  },
  {
   "cell_type": "code",
   "execution_count": null,
   "id": "61041587efebc753",
   "metadata": {
    "ExecuteTime": {
     "start_time": "2023-10-23T15:36:06.713354Z"
    }
   },
   "outputs": [],
   "source": [
    "from matplotlib import pyplot as plt\n",
    "\n",
    "plt.scatter(list(range(num_trees)), accuracies_train)\n",
    "plt.scatter(list(range(num_trees)), accuracies_test)\n",
    "print(accuracies_train)\n",
    "plt.show()"
   ]
  }
 ],
 "metadata": {
  "kernelspec": {
   "display_name": "Python 3",
   "language": "python",
   "name": "python3"
  },
  "language_info": {
   "codemirror_mode": {
    "name": "ipython",
    "version": 3
   },
   "file_extension": ".py",
   "mimetype": "text/x-python",
   "name": "python",
   "nbconvert_exporter": "python",
   "pygments_lexer": "ipython3",
   "version": "3.11.4"
  }
 },
 "nbformat": 4,
 "nbformat_minor": 5
}
