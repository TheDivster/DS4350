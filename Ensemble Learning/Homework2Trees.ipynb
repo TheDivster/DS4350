{
 "cells": [
  {
   "cell_type": "markdown",
   "id": "d36f4897ff957ff9",
   "metadata": {},
   "source": [
    "# Homework 2\n",
    "## Question 2\n",
    "### Part A"
   ]
  },
  {
   "cell_type": "code",
   "execution_count": 1,
   "id": "initial_id",
   "metadata": {
    "ExecuteTime": {
     "end_time": "2023-10-24T01:22:54.150543Z",
     "start_time": "2023-10-24T01:22:53.815558Z"
    }
   },
   "outputs": [
    {
     "name": "stdout",
     "output_type": "stream",
     "text": [
      "   age          job  marital  education default  balance housing loan  \\\n",
      "0   41     services  married  secondary      no        0     yes   no   \n",
      "1   48  blue-collar   single  secondary      no      312     yes  yes   \n",
      "2   55   technician  married  secondary      no     1938      no  yes   \n",
      "3   54       admin.  married   tertiary      no       59     yes   no   \n",
      "4   34   management   single   tertiary      no     2646      no   no   \n",
      "\n",
      "    contact  day month  duration  campaign  pdays  previous poutcome    y  \n",
      "0   unknown    5   may       114         2     -1         0  unknown   no  \n",
      "1  cellular    3   feb       369         2     -1         0  unknown   no  \n",
      "2  cellular   18   aug       193         1    386         3  success  yes  \n",
      "3  cellular   10   jul       268         1     -1         0  unknown   no  \n",
      "4  cellular   14   apr       142         1     -1         0  unknown  yes  \n"
     ]
    }
   ],
   "source": [
    "from AdaBoost import AdaBoost\n",
    "import pandas as pd\n",
    "\n",
    "\n",
    "bank_train: pd.DataFrame = pd.read_csv(\n",
    "      \"/Users/divytripathy/PycharmProjects/Machine Learning/DecisionTreePackage/bank/train.csv\",\n",
    "      names=[\"age\", \"job\", \"marital\", \"education\", \"default\", \"balance\", \"housing\",\n",
    "             \"loan\", \"contact\", \"day\", \"month\", \"duration\", \"campaign\", \"pdays\",\n",
    "             \"previous\", \"poutcome\", \"y\"])\n",
    "print(bank_train.head())"
   ]
  },
  {
   "cell_type": "code",
   "execution_count": 2,
   "id": "276ae1c4cac323bb",
   "metadata": {
    "ExecuteTime": {
     "end_time": "2023-10-24T01:22:54.161263Z",
     "start_time": "2023-10-24T01:22:54.150428Z"
    }
   },
   "outputs": [
    {
     "name": "stdout",
     "output_type": "stream",
     "text": [
      "   age           job  marital  education default  balance housing loan  \\\n",
      "0   41    management   single  secondary      no      764      no   no   \n",
      "1   39   blue-collar  married  secondary      no       49     yes   no   \n",
      "2   60       retired  married    primary      no        0      no   no   \n",
      "3   31  entrepreneur   single   tertiary      no      247     yes  yes   \n",
      "4   26       student   single    unknown      no     2020      no   no   \n",
      "\n",
      "     contact  day month  duration  campaign  pdays  previous poutcome   y  \n",
      "0   cellular   12   jun       230         2     -1         0  unknown  no  \n",
      "1   cellular   14   may       566         1    370         2  failure  no  \n",
      "2  telephone   30   jul       130         3     -1         0  unknown  no  \n",
      "3    unknown    2   jun       273         1     -1         0  unknown  no  \n",
      "4  telephone   28   jan        42         3     -1         0  unknown  no  \n"
     ]
    }
   ],
   "source": [
    "bank_test: pd.DataFrame = pd.read_csv(\n",
    "      \"/Users/divytripathy/PycharmProjects/Machine Learning/DecisionTreePackage/bank/test.csv\",\n",
    "      names=[\"age\", \"job\", \"marital\", \"education\", \"default\", \"balance\", \"housing\",\n",
    "             \"loan\", \"contact\", \"day\", \"month\", \"duration\", \"campaign\", \"pdays\",\n",
    "             \"previous\", \"poutcome\", \"y\"])\n",
    "print(bank_test.head())"
   ]
  },
  {
   "cell_type": "markdown",
   "id": "9c3f89351b023d95",
   "metadata": {},
   "source": [
    "Lets write a function that makes the numerical variables binary."
   ]
  },
  {
   "cell_type": "code",
   "execution_count": 3,
   "id": "816973824943b438",
   "metadata": {
    "ExecuteTime": {
     "end_time": "2023-10-24T01:22:54.168680Z",
     "start_time": "2023-10-24T01:22:54.161172Z"
    }
   },
   "outputs": [],
   "source": [
    "def make_numerical_attributes_binary(data):\n",
    "      column_types: dict[str, str] = data.dtypes.to_dict()\n",
    "      for column in column_types:\n",
    "        if column_types[column] == \"int64\" or column_types[column] == \"float64\":\n",
    "          data[column] = data[column].apply(lambda x: x >= data[column].median())"
   ]
  },
  {
   "cell_type": "code",
   "execution_count": 4,
   "id": "a4ba145984ba3534",
   "metadata": {
    "ExecuteTime": {
     "end_time": "2023-10-24T01:22:55.235099Z",
     "start_time": "2023-10-24T01:22:54.165144Z"
    }
   },
   "outputs": [],
   "source": [
    "make_numerical_attributes_binary(bank_test)\n",
    "make_numerical_attributes_binary(bank_train)"
   ]
  },
  {
   "cell_type": "markdown",
   "id": "10229bab11c41827",
   "metadata": {},
   "source": [
    "Let's also make a helper function that would calculate the training and the testing errors."
   ]
  },
  {
   "cell_type": "code",
   "execution_count": 13,
   "id": "f3893d5e2c37d77a",
   "metadata": {
    "ExecuteTime": {
     "end_time": "2023-10-24T03:02:43.434588Z",
     "start_time": "2023-10-24T03:02:43.431589Z"
    }
   },
   "outputs": [],
   "source": [
    "def predict_dataframe(model: AdaBoost, test_data: pd.DataFrame, label: str) -> float:\n",
    "      accuracy_count: int = 0  # represents the count of correct predictions\n",
    "      for j in range(test_data.shape[0]):\n",
    "        if model.predict(test_data, j) == test_data[label].iloc[j]:\n",
    "          accuracy_count += 1\n",
    "      return accuracy_count / len(test_data)"
   ]
  },
  {
   "cell_type": "markdown",
   "id": "7cfbe7c66959f51d",
   "metadata": {},
   "source": [
    "Lets train our trees and visualize the errors."
   ]
  },
  {
   "cell_type": "code",
   "execution_count": 6,
   "id": "600d617ed0984aed",
   "metadata": {
    "ExecuteTime": {
     "end_time": "2023-10-24T02:42:01.006734Z",
     "start_time": "2023-10-24T01:22:55.241325Z"
    }
   },
   "outputs": [
    {
     "name": "stdout",
     "output_type": "stream",
     "text": [
      "finished 1\n",
      "finished 101\n",
      "finished 201\n",
      "finished 301\n",
      "finished 401\n"
     ]
    }
   ],
   "source": [
    "accuracies_train = []\n",
    "accuracies_test = []\n",
    "num_trees = range(1, 500 + 1, 100)\n",
    "for i in num_trees:\n",
    "    tree: AdaBoost = AdaBoost(bank_train)\n",
    "    tree.build(attributes=set(bank_train.columns) - {\"y\"}, label=\"y\", splitting_criteria=tree.ENTROPY,\n",
    "               num_trees=i)\n",
    "    accuracies_train.append(predict_dataframe(tree, bank_train, \"y\"))\n",
    "    accuracies_test.append(predict_dataframe(tree, bank_test, \"y\"))\n",
    "    print(\"finished\",  i)"
   ]
  },
  {
   "cell_type": "markdown",
   "id": "235c798fd12cbd3a",
   "metadata": {},
   "source": [
    "Lets visualize the accuracies."
   ]
  },
  {
   "cell_type": "code",
   "execution_count": 12,
   "id": "61041587efebc753",
   "metadata": {
    "ExecuteTime": {
     "end_time": "2023-10-24T02:51:35.006281Z",
     "start_time": "2023-10-24T02:51:34.960463Z"
    }
   },
   "outputs": [
    {
     "data": {
      "text/plain": "<Figure size 432x288 with 1 Axes>",
      "image/png": "[encoded data removed]"
     },
     "metadata": {
      "needs_background": "light"
     },
     "output_type": "display_data"
    }
   ],
   "source": [
    "from matplotlib import pyplot as plt\n",
    "import numpy as np\n",
    "\n",
    "train = plt.scatter(list(num_trees), np.array(accuracies_train)/5000)\n",
    "test = plt.scatter(list(num_trees), np.array(accuracies_test)/5000)\n",
    "plt.xlabel(\"iterations\")\n",
    "plt.ylabel(\"accuracy\")\n",
    "plt.legend((train, test), (\"train\", 'test'))\n",
    "plt.show()"
   ]
  },
  {
   "cell_type": "markdown",
   "source": [
    "### Part B"
   ],
   "metadata": {
    "collapsed": false
   },
   "id": "ae6a80c4db1e7cc1"
  },
  {
   "cell_type": "code",
   "execution_count": 14,
   "outputs": [],
   "source": [
    "from BaggedTree import BaggedTree\n",
    "def predict_dataframe(model: BaggedTree, test_data: pd.DataFrame, label: str) -> float:\n",
    "      accuracy_count: int = 0  # represents the count of correct predictions\n",
    "      for j in range(test_data.shape[0]):\n",
    "        if model.predict(test_data, j) == test_data[label].iloc[j]:\n",
    "          accuracy_count += 1\n",
    "      return accuracy_count / len(test_data)"
   ],
   "metadata": {
    "collapsed": false,
    "ExecuteTime": {
     "end_time": "2023-10-24T03:04:04.075618Z",
     "start_time": "2023-10-24T03:04:04.060014Z"
    }
   },
   "id": "2082aacb6dca67de"
  },
  {
   "cell_type": "code",
   "execution_count": 16,
   "outputs": [
    {
     "name": "stdout",
     "output_type": "stream",
     "text": [
      "finished 1\n",
      "finished 101\n",
      "finished 201\n",
      "finished 301\n",
      "finished 401\n"
     ]
    }
   ],
   "source": [
    "accuracies_train = []\n",
    "accuracies_test = []\n",
    "num_trees = range(1, 500 + 1, 100)\n",
    "for i in num_trees:\n",
    "    tree: BaggedTree = BaggedTree(bank_train)\n",
    "    tree.build(attributes=set(bank_train.columns) - {\"y\"}, label=\"y\", splitting_criteria=tree.ENTROPY,\n",
    "               num_trees=i, num_samples=bank_train.shape[0])\n",
    "    accuracies_train.append(predict_dataframe(tree, bank_train, \"y\"))\n",
    "    accuracies_test.append(predict_dataframe(tree, bank_test, \"y\"))\n",
    "    print(\"finished\",  i)"
   ],
   "metadata": {
    "collapsed": false,
    "ExecuteTime": {
     "end_time": "2023-10-24T03:58:05.780557Z",
     "start_time": "2023-10-24T03:04:22.544593Z"
    }
   },
   "id": "fb0e96ff9789f62"
  },
  {
   "cell_type": "code",
   "execution_count": 20,
   "outputs": [
    {
     "data": {
      "text/plain": "<Figure size 432x288 with 1 Axes>",
      "image/png": "[encoded data removed]"
     },
     "metadata": {
      "needs_background": "light"
     },
     "output_type": "display_data"
    }
   ],
   "source": [
    "from matplotlib import pyplot as plt\n",
    "import numpy as np\n",
    "\n",
    "train = plt.scatter(list(num_trees), np.array(accuracies_train))\n",
    "plt.plot(list(num_trees), np.array(accuracies_train))\n",
    "test = plt.scatter(list(num_trees), np.array(accuracies_test))\n",
    "plt.plot(list(num_trees), np.array(accuracies_test))\n",
    "plt.xlabel(\"iterations\")\n",
    "plt.ylabel(\"accuracy\")\n",
    "plt.legend((train, test), (\"train\", 'test'))\n",
    "plt.show()"
   ],
   "metadata": {
    "collapsed": false,
    "ExecuteTime": {
     "end_time": "2023-10-24T04:00:06.124538Z",
     "start_time": "2023-10-24T04:00:06.056910Z"
    }
   },
   "id": "637b35e1f45ea71c"
  },
  {
   "cell_type": "markdown",
   "source": [
    "### Part C"
   ],
   "metadata": {
    "collapsed": false
   },
   "id": "37e4b017a28f596d"
  },
  {
   "cell_type": "code",
   "execution_count": 21,
   "outputs": [],
   "source": [
    "from RandomForest import RandomForest\n",
    "def predict_dataframe(model: RandomForest, test_data: pd.DataFrame, label: str) -> float:\n",
    "      accuracy_count: int = 0  # represents the count of correct predictions\n",
    "      for j in range(test_data.shape[0]):\n",
    "        if model.predict(test_data, j) == test_data[label].iloc[j]:\n",
    "          accuracy_count += 1\n",
    "      return accuracy_count / len(test_data)"
   ],
   "metadata": {
    "collapsed": false,
    "ExecuteTime": {
     "end_time": "2023-10-24T04:06:40.985767Z",
     "start_time": "2023-10-24T04:06:40.982203Z"
    }
   },
   "id": "f03fb701f50b493"
  },
  {
   "cell_type": "code",
   "execution_count": 22,
   "outputs": [
    {
     "name": "stdout",
     "output_type": "stream",
     "text": [
      "finished 1\n",
      "finished 101\n",
      "finished 201\n",
      "finished 301\n",
      "finished 401\n",
      "finished 501\n"
     ]
    }
   ],
   "source": [
    "accuracies_train = []\n",
    "accuracies_test = []\n",
    "num_trees = range(1, 500 + 2, 100)\n",
    "for i in num_trees:\n",
    "    tree: RandomForest = RandomForest(bank_train)\n",
    "    tree.build(attributes=set(bank_train.columns) - {\"y\"}, label=\"y\", splitting_criteria=tree.ENTROPY,\n",
    "               num_trees=i, num_samples=bank_train.shape[0], num_attributes=2)\n",
    "    accuracies_train.append(predict_dataframe(tree, bank_train, \"y\"))\n",
    "    accuracies_test.append(predict_dataframe(tree, bank_test, \"y\"))\n",
    "    print(\"finished\",  i)"
   ],
   "metadata": {
    "collapsed": false,
    "ExecuteTime": {
     "end_time": "2023-10-24T04:18:32.928321Z",
     "start_time": "2023-10-24T04:06:43.359666Z"
    }
   },
   "id": "bd3c6682bfb94b3b"
  },
  {
   "cell_type": "code",
   "execution_count": 24,
   "outputs": [
    {
     "data": {
      "text/plain": "<Figure size 432x288 with 1 Axes>",
      "image/png": "[encoded data removed]"
     },
     "metadata": {
      "needs_background": "light"
     },
     "output_type": "display_data"
    }
   ],
   "source": [
    "from matplotlib import pyplot as plt\n",
    "import numpy as np\n",
    "\n",
    "train = plt.scatter(list(num_trees), np.array(accuracies_train))\n",
    "plt.plot(list(num_trees), np.array(accuracies_train))\n",
    "test = plt.scatter(list(num_trees), np.array(accuracies_test))\n",
    "plt.plot(list(num_trees), np.array(accuracies_test))\n",
    "plt.xlabel(\"iterations\")\n",
    "plt.ylabel(\"accuracy\")\n",
    "plt.title(\"Number of attributes = 2\")\n",
    "plt.legend((train, test), (\"train\", 'test'))\n",
    "plt.show()"
   ],
   "metadata": {
    "collapsed": false,
    "ExecuteTime": {
     "end_time": "2023-10-24T04:22:30.415181Z",
     "start_time": "2023-10-24T04:22:30.347518Z"
    }
   },
   "id": "6d3a96472b1e5a3d"
  },
  {
   "cell_type": "code",
   "execution_count": 25,
   "outputs": [
    {
     "name": "stdout",
     "output_type": "stream",
     "text": [
      "finished 1\n",
      "finished 101\n",
      "finished 201\n",
      "finished 301\n",
      "finished 401\n",
      "finished 501\n"
     ]
    }
   ],
   "source": [
    "accuracies_train = []\n",
    "accuracies_test = []\n",
    "num_trees = range(1, 500 + 2, 100)\n",
    "for i in num_trees:\n",
    "    tree: RandomForest = RandomForest(bank_train)\n",
    "    tree.build(attributes=set(bank_train.columns) - {\"y\"}, label=\"y\", splitting_criteria=tree.ENTROPY,\n",
    "               num_trees=i, num_samples=bank_train.shape[0], num_attributes=4)\n",
    "    accuracies_train.append(predict_dataframe(tree, bank_train, \"y\"))\n",
    "    accuracies_test.append(predict_dataframe(tree, bank_test, \"y\"))\n",
    "    print(\"finished\",  i)"
   ],
   "metadata": {
    "collapsed": false,
    "ExecuteTime": {
     "end_time": "2023-10-24T04:45:26.428567Z",
     "start_time": "2023-10-24T04:22:42.156550Z"
    }
   },
   "id": "ccfaf0e085b3c374"
  },
  {
   "cell_type": "code",
   "execution_count": 30,
   "outputs": [
    {
     "data": {
      "text/plain": "<Figure size 432x288 with 1 Axes>",
      "image/png": "[encoded data removed]"
     },
     "metadata": {
      "needs_background": "light"
     },
     "output_type": "display_data"
    }
   ],
   "source": [
    "from matplotlib import pyplot as plt\n",
    "import numpy as np\n",
    "\n",
    "train = plt.scatter(list(num_trees), np.array(accuracies_train))\n",
    "plt.plot(list(num_trees), np.array(accuracies_train))\n",
    "test = plt.scatter(list(num_trees), np.array(accuracies_test))\n",
    "plt.plot(list(num_trees), np.array(accuracies_test))\n",
    "plt.xlabel(\"iterations\")\n",
    "plt.ylabel(\"accuracy\")\n",
    "plt.title(\"Number of attributes = 4\")\n",
    "plt.legend((train, test), (\"train\", 'test'))\n",
    "plt.show()"
   ],
   "metadata": {
    "collapsed": false,
    "ExecuteTime": {
     "end_time": "2023-10-24T05:49:55.006720Z",
     "start_time": "2023-10-24T05:49:54.935872Z"
    }
   },
   "id": "50442a4268ccd3d8"
  },
  {
   "cell_type": "code",
   "execution_count": 27,
   "outputs": [
    {
     "name": "stdout",
     "output_type": "stream",
     "text": [
      "finished 1\n",
      "finished 101\n",
      "finished 201\n",
      "finished 301\n",
      "finished 401\n"
     ]
    }
   ],
   "source": [
    "accuracies_train = []\n",
    "accuracies_test = []\n",
    "num_trees = range(1, 500 + 1, 100)\n",
    "for i in num_trees:\n",
    "    tree: RandomForest = RandomForest(bank_train)\n",
    "    tree.build(attributes=set(bank_train.columns) - {\"y\"}, label=\"y\", splitting_criteria=tree.ENTROPY,\n",
    "               num_trees=i, num_samples=bank_train.shape[0], num_attributes=6)\n",
    "    accuracies_train.append(predict_dataframe(tree, bank_train, \"y\"))\n",
    "    accuracies_test.append(predict_dataframe(tree, bank_test, \"y\"))\n",
    "    print(\"finished\",  i)"
   ],
   "metadata": {
    "collapsed": false,
    "ExecuteTime": {
     "end_time": "2023-10-24T05:14:44.794752Z",
     "start_time": "2023-10-24T04:52:28.172674Z"
    }
   },
   "id": "e4963010fd8f3ba9"
  },
  {
   "cell_type": "code",
   "execution_count": 29,
   "outputs": [
    {
     "data": {
      "text/plain": "<Figure size 432x288 with 1 Axes>",
      "image/png": "[encoded data removed]"
     },
     "metadata": {
      "needs_background": "light"
     },
     "output_type": "display_data"
    }
   ],
   "source": [
    "from matplotlib import pyplot as plt\n",
    "import numpy as np\n",
    "\n",
    "train = plt.scatter(list(num_trees), np.array(accuracies_train))\n",
    "plt.plot(list(num_trees), np.array(accuracies_train))\n",
    "test = plt.scatter(list(num_trees), np.array(accuracies_test))\n",
    "plt.plot(list(num_trees), np.array(accuracies_test))\n",
    "plt.xlabel(\"iterations\")\n",
    "plt.ylabel(\"accuracy\")\n",
    "plt.title(\"Number of attributes = 6\")\n",
    "plt.legend((train, test), (\"train\", 'test'))\n",
    "plt.show()"
   ],
   "metadata": {
    "collapsed": false,
    "ExecuteTime": {
     "end_time": "2023-10-24T05:49:29.288562Z",
     "start_time": "2023-10-24T05:49:29.213977Z"
    }
   },
   "id": "cea54e10df12d0c"
  }
 ],
 "metadata": {
  "kernelspec": {
   "display_name": "Python 3",
   "language": "python",
   "name": "python3"
  },
  "language_info": {
   "codemirror_mode": {
    "name": "ipython",
    "version": 3
   },
   "file_extension": ".py",
   "mimetype": "text/x-python",
   "name": "python",
   "nbconvert_exporter": "python",
   "pygments_lexer": "ipython3",
   "version": "3.11.4"
  }
 },
 "nbformat": 4,
 "nbformat_minor": 5
}
