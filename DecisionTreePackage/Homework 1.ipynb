{
 "cells": [
  {
   "cell_type": "markdown",
   "id": "9ace33a44caced6a",
   "metadata": {},
   "source": [
    "# Homework 1"
   ]
  },
  {
   "cell_type": "code",
   "execution_count": 22,
   "id": "initial_id",
   "metadata": {
    "ExecuteTime": {
     "end_time": "2023-09-23T21:07:29.481794900Z",
     "start_time": "2023-09-23T21:07:29.132886200Z"
    }
   },
   "outputs": [],
   "source": [
    "import pandas as pd\n",
    "from DecisionTree import DecisionTree"
   ]
  },
  {
   "cell_type": "markdown",
   "id": "8196d580987da70d",
   "metadata": {},
   "source": [
    "## Question 1\n",
    "### Part a\n",
    "Part a is done in DecisionTree.py\n",
    "\n",
    "### Part b"
   ]
  },
  {
   "cell_type": "code",
   "execution_count": 23,
   "id": "84fce659de2f3e3",
   "metadata": {
    "ExecuteTime": {
     "start_time": "2023-09-23T21:07:29.154566600Z"
    }
   },
   "outputs": [
    {
     "data": {
      "text/html": [
       "<div>\n",
       "<style scoped>\n",
       "    .dataframe tbody tr th:only-of-type {\n",
       "        vertical-align: middle;\n",
       "    }\n",
       "\n",
       "    .dataframe tbody tr th {\n",
       "        vertical-align: top;\n",
       "    }\n",
       "\n",
       "    .dataframe thead th {\n",
       "        text-align: right;\n",
       "    }\n",
       "</style>\n",
       "<table border=\"1\" class=\"dataframe\">\n",
       "  <thead>\n",
       "    <tr style=\"text-align: right;\">\n",
       "      <th></th>\n",
       "      <th>buying</th>\n",
       "      <th>maint</th>\n",
       "      <th>doors</th>\n",
       "      <th>persons</th>\n",
       "      <th>lug_boot</th>\n",
       "      <th>safety</th>\n",
       "      <th>label</th>\n",
       "    </tr>\n",
       "  </thead>\n",
       "  <tbody>\n",
       "    <tr>\n",
       "      <th>0</th>\n",
       "      <td>low</td>\n",
       "      <td>vhigh</td>\n",
       "      <td>4</td>\n",
       "      <td>4</td>\n",
       "      <td>big</td>\n",
       "      <td>med</td>\n",
       "      <td>acc</td>\n",
       "    </tr>\n",
       "    <tr>\n",
       "      <th>1</th>\n",
       "      <td>low</td>\n",
       "      <td>high</td>\n",
       "      <td>5more</td>\n",
       "      <td>4</td>\n",
       "      <td>med</td>\n",
       "      <td>high</td>\n",
       "      <td>vgood</td>\n",
       "    </tr>\n",
       "    <tr>\n",
       "      <th>2</th>\n",
       "      <td>vhigh</td>\n",
       "      <td>med</td>\n",
       "      <td>2</td>\n",
       "      <td>2</td>\n",
       "      <td>big</td>\n",
       "      <td>high</td>\n",
       "      <td>unacc</td>\n",
       "    </tr>\n",
       "    <tr>\n",
       "      <th>3</th>\n",
       "      <td>high</td>\n",
       "      <td>high</td>\n",
       "      <td>2</td>\n",
       "      <td>2</td>\n",
       "      <td>small</td>\n",
       "      <td>high</td>\n",
       "      <td>unacc</td>\n",
       "    </tr>\n",
       "    <tr>\n",
       "      <th>4</th>\n",
       "      <td>vhigh</td>\n",
       "      <td>low</td>\n",
       "      <td>3</td>\n",
       "      <td>2</td>\n",
       "      <td>big</td>\n",
       "      <td>low</td>\n",
       "      <td>unacc</td>\n",
       "    </tr>\n",
       "  </tbody>\n",
       "</table>\n",
       "</div>"
      ],
      "text/plain": [
       "  buying  maint  doors persons lug_boot safety  label\n",
       "0    low  vhigh      4       4      big    med    acc\n",
       "1    low   high  5more       4      med   high  vgood\n",
       "2  vhigh    med      2       2      big   high  unacc\n",
       "3   high   high      2       2    small   high  unacc\n",
       "4  vhigh    low      3       2      big    low  unacc"
      ]
     },
     "execution_count": 23,
     "metadata": {},
     "output_type": "execute_result"
    }
   ],
   "source": [
    "car_train: pd.DataFrame = pd.read_csv(\"Car/train.csv\", names=[\"buying\", \"maint\", \"doors\", \"persons\", \"lug_boot\", \"safety\", \"label\"])\n",
    "car_train.head()"
   ]
  },
  {
   "cell_type": "code",
   "execution_count": 24,
   "id": "4096c11074769e53",
   "metadata": {
    "ExecuteTime": {
     "start_time": "2023-09-23T21:07:29.154566600Z"
    }
   },
   "outputs": [
    {
     "data": {
      "text/html": [
       "<div>\n",
       "<style scoped>\n",
       "    .dataframe tbody tr th:only-of-type {\n",
       "        vertical-align: middle;\n",
       "    }\n",
       "\n",
       "    .dataframe tbody tr th {\n",
       "        vertical-align: top;\n",
       "    }\n",
       "\n",
       "    .dataframe thead th {\n",
       "        text-align: right;\n",
       "    }\n",
       "</style>\n",
       "<table border=\"1\" class=\"dataframe\">\n",
       "  <thead>\n",
       "    <tr style=\"text-align: right;\">\n",
       "      <th></th>\n",
       "      <th>buying</th>\n",
       "      <th>maint</th>\n",
       "      <th>doors</th>\n",
       "      <th>persons</th>\n",
       "      <th>lug_boot</th>\n",
       "      <th>safety</th>\n",
       "      <th>label</th>\n",
       "    </tr>\n",
       "  </thead>\n",
       "  <tbody>\n",
       "    <tr>\n",
       "      <th>723</th>\n",
       "      <td>high</td>\n",
       "      <td>high</td>\n",
       "      <td>4</td>\n",
       "      <td>more</td>\n",
       "      <td>small</td>\n",
       "      <td>low</td>\n",
       "      <td>unacc</td>\n",
       "    </tr>\n",
       "    <tr>\n",
       "      <th>724</th>\n",
       "      <td>med</td>\n",
       "      <td>high</td>\n",
       "      <td>5more</td>\n",
       "      <td>more</td>\n",
       "      <td>big</td>\n",
       "      <td>low</td>\n",
       "      <td>unacc</td>\n",
       "    </tr>\n",
       "    <tr>\n",
       "      <th>725</th>\n",
       "      <td>low</td>\n",
       "      <td>high</td>\n",
       "      <td>4</td>\n",
       "      <td>2</td>\n",
       "      <td>big</td>\n",
       "      <td>med</td>\n",
       "      <td>unacc</td>\n",
       "    </tr>\n",
       "    <tr>\n",
       "      <th>726</th>\n",
       "      <td>vhigh</td>\n",
       "      <td>high</td>\n",
       "      <td>2</td>\n",
       "      <td>2</td>\n",
       "      <td>med</td>\n",
       "      <td>high</td>\n",
       "      <td>unacc</td>\n",
       "    </tr>\n",
       "    <tr>\n",
       "      <th>727</th>\n",
       "      <td>med</td>\n",
       "      <td>med</td>\n",
       "      <td>4</td>\n",
       "      <td>more</td>\n",
       "      <td>med</td>\n",
       "      <td>high</td>\n",
       "      <td>vgood</td>\n",
       "    </tr>\n",
       "  </tbody>\n",
       "</table>\n",
       "</div>"
      ],
      "text/plain": [
       "    buying maint  doors persons lug_boot safety  label\n",
       "723   high  high      4    more    small    low  unacc\n",
       "724    med  high  5more    more      big    low  unacc\n",
       "725    low  high      4       2      big    med  unacc\n",
       "726  vhigh  high      2       2      med   high  unacc\n",
       "727    med   med      4    more      med   high  vgood"
      ]
     },
     "execution_count": 24,
     "metadata": {},
     "output_type": "execute_result"
    }
   ],
   "source": [
    "car_test: pd.DataFrame = pd.read_csv(\"Car/test.csv\", names=[\"buying\", \"maint\", \"doors\", \"persons\", \"lug_boot\", \"safety\", \"label\"])\n",
    "car_test.tail()"
   ]
  },
  {
   "cell_type": "markdown",
   "id": "a90095bd6d3295aa",
   "metadata": {},
   "source": [
    "Below is a helper function that will come in handy for predicting accuracy for large batches of data."
   ]
  },
  {
   "cell_type": "code",
   "execution_count": 25,
   "id": "a04f0ffc963d528f",
   "metadata": {
    "ExecuteTime": {
     "start_time": "2023-09-23T21:07:29.154566600Z"
    }
   },
   "outputs": [],
   "source": [
    "def predict_dataframe(model: DecisionTree, test_data: pd.DataFrame, label: str) -> float:\n",
    "    accuracy_count: int = 0 # represents the count of correct predictions\n",
    "    for j in range(test_data.shape[0]):\n",
    "        if model.predict(test_data, j) == test_data[label].iloc[j]:\n",
    "            accuracy_count += 1\n",
    "    return accuracy_count / test_data.shape[0]\n"
   ]
  },
  {
   "cell_type": "markdown",
   "id": "1d7de3149614603c",
   "metadata": {},
   "source": [
    "Helper to build trees in tabular format."
   ]
  },
  {
   "cell_type": "code",
   "execution_count": 26,
   "id": "8322f74347d7c002",
   "metadata": {
    "ExecuteTime": {
     "start_time": "2023-09-23T21:07:29.172784100Z"
    }
   },
   "outputs": [],
   "source": [
    "def build_trees(depth: int, train: pd.DataFrame, test: pd.DataFrame, target_label: str) -> pd.DataFrame:\n",
    "    output_list: list[\"any\"] = []\n",
    "    output_list.append([\"error_test\", \"error_train\", \"depth\", \"purity\"])\n",
    "    for i in range (1, depth + 1):\n",
    "        tree: DecisionTree = DecisionTree(train)\n",
    "        tree.build(attributes=set(train.columns) - {target_label}, label=target_label, splitting_criteria=tree.entropy, set_depth=i)\n",
    "        output_list.append([1 - predict_dataframe(tree, test, target_label), 1 - predict_dataframe(tree, train, target_label), i,\n",
    "                            \"entropy\"])\n",
    "        \n",
    "    for i in range (1, depth + 1):\n",
    "        tree: DecisionTree = DecisionTree(train)\n",
    "        tree.build(attributes=set(train.columns) - {target_label}, label=target_label, splitting_criteria=tree.ginni_index, set_depth=i)\n",
    "        output_list.append([1 - predict_dataframe(tree, test, target_label), 1 - predict_dataframe(tree, train, target_label), i,\n",
    "                            \"ginni\"])\n",
    "    for i in range (1, depth + 1):\n",
    "        tree: DecisionTree = DecisionTree(train)\n",
    "        tree.build(attributes=set(train.columns) - {target_label}, label=target_label, splitting_criteria=tree.majority_error, set_depth=i)\n",
    "        output_list.append([1 - predict_dataframe(tree, test, target_label), 1 - predict_dataframe(tree, train, target_label), i,\n",
    "                            \"majority\"])\n",
    "    return output_list\n",
    "    "
   ]
  },
  {
   "cell_type": "markdown",
   "id": "86462d716d27cdb6",
   "metadata": {},
   "source": []
  },
  {
   "cell_type": "markdown",
   "id": "8f5b080e1e2553cc",
   "metadata": {},
   "source": [
    "Lets build out table for cars"
   ]
  },
  {
   "cell_type": "code",
   "execution_count": 27,
   "id": "bdb918ccc96fdfc4",
   "metadata": {
    "ExecuteTime": {
     "start_time": "2023-09-23T21:07:29.172784100Z"
    }
   },
   "outputs": [
    {
     "data": {
      "text/plain": [
       "[['error_test', 'error_train', 'depth', 'purity'],\n",
       " [0.29670329670329665, 0.30200000000000005, 1, 'entropy'],\n",
       " [0.22252747252747251, 0.22199999999999998, 2, 'entropy'],\n",
       " [0.1964285714285714, 0.18100000000000005, 3, 'entropy'],\n",
       " [0.15109890109890112, 0.08199999999999996, 4, 'entropy'],\n",
       " [0.08379120879120883, 0.027000000000000024, 5, 'entropy'],\n",
       " [0.08379120879120883, 0.0, 6, 'entropy'],\n",
       " [0.29670329670329665, 0.30200000000000005, 1, 'ginni'],\n",
       " [0.22252747252747251, 0.22199999999999998, 2, 'ginni'],\n",
       " [0.18406593406593408, 0.17600000000000005, 3, 'ginni'],\n",
       " [0.13736263736263732, 0.08899999999999997, 4, 'ginni'],\n",
       " [0.08379120879120883, 0.027000000000000024, 5, 'ginni'],\n",
       " [0.08379120879120883, 0.0, 6, 'ginni'],\n",
       " [0.29670329670329665, 0.30200000000000005, 1, 'majority'],\n",
       " [0.3159340659340659, 0.30100000000000005, 2, 'majority'],\n",
       " [0.2554945054945055, 0.22699999999999998, 3, 'majority'],\n",
       " [0.22390109890109888, 0.126, 4, 'majority'],\n",
       " [0.16346153846153844, 0.04200000000000004, 5, 'majority'],\n",
       " [0.16346153846153844, 0.0, 6, 'majority']]"
      ]
     },
     "execution_count": 27,
     "metadata": {},
     "output_type": "execute_result"
    }
   ],
   "source": [
    "build_trees(6, car_train, car_test, \"label\")"
   ]
  },
  {
   "cell_type": "markdown",
   "id": "df2fde506530c4cb",
   "metadata": {},
   "source": [
    "Let's first build the trees varying from depth 1 to depth 6 for entropy as the splitting criterion."
   ]
  },
  {
   "cell_type": "code",
   "execution_count": 28,
   "id": "b2f73ea9b7c0f4dd",
   "metadata": {
    "ExecuteTime": {
     "start_time": "2023-09-23T21:07:29.186284100Z"
    }
   },
   "outputs": [],
   "source": [
    "trees: list[DecisionTree] = []\n",
    "for i in range (1, 7):\n",
    "    tree: DecisionTree = DecisionTree(car_train)\n",
    "    tree.build(attributes=set(car_train.columns) - {\"label\"}, label=\"label\", splitting_criteria=tree.entropy, set_depth=i)\n",
    "    trees.append(tree)"
   ]
  },
  {
   "cell_type": "markdown",
   "id": "44f20dff8cf0743d",
   "metadata": {},
   "source": [
    "Below is the sequentially printed output for depths 1 though 6 for entropy as the splitting criteria. The predictions are for the test data in test.csv."
   ]
  },
  {
   "cell_type": "code",
   "execution_count": 29,
   "id": "90717302871b4877",
   "metadata": {
    "ExecuteTime": {
     "start_time": "2023-09-23T21:07:29.186284100Z"
    }
   },
   "outputs": [
    {
     "name": "stdout",
     "output_type": "stream",
     "text": [
      "0.29670329670329665\n",
      "0.22252747252747251\n",
      "0.1964285714285714\n",
      "0.15109890109890112\n",
      "0.08379120879120883\n",
      "0.08379120879120883\n"
     ]
    }
   ],
   "source": [
    "for tree in trees:\n",
    "    print(1 - predict_dataframe(tree, car_test, \"label\"))"
   ]
  },
  {
   "cell_type": "markdown",
   "id": "b74a2b546b5af7cd",
   "metadata": {},
   "source": [
    "Below is the sequentially printed output for depths 1 though 6 for entropy as the splitting criteria. The predictions are for the train data in train.csv."
   ]
  },
  {
   "cell_type": "code",
   "execution_count": 30,
   "id": "c9333c9317d3c21b",
   "metadata": {
    "ExecuteTime": {
     "start_time": "2023-09-23T21:07:29.201498Z"
    }
   },
   "outputs": [
    {
     "name": "stdout",
     "output_type": "stream",
     "text": [
      "0.30200000000000005\n",
      "0.22199999999999998\n",
      "0.18100000000000005\n",
      "0.08199999999999996\n",
      "0.027000000000000024\n",
      "0.0\n"
     ]
    }
   ],
   "source": [
    "for tree in trees:\n",
    "    print(1 - predict_dataframe(tree, car_train, \"label\"))"
   ]
  },
  {
   "cell_type": "markdown",
   "id": "68070bd63a9dc18e",
   "metadata": {},
   "source": [
    "Let's build the trees varying from depth 1 to depth 6 for ginni_index as the splitting criterion."
   ]
  },
  {
   "cell_type": "code",
   "execution_count": 31,
   "id": "74b7b377f762975c",
   "metadata": {
    "ExecuteTime": {
     "start_time": "2023-09-23T21:07:29.201498Z"
    }
   },
   "outputs": [],
   "source": [
    "trees: list[DecisionTree] = []\n",
    "for i in range (1, 7):\n",
    "    tree: DecisionTree = DecisionTree(car_train)\n",
    "    tree.build(attributes=set(car_train.columns) - {\"label\"}, label=\"label\", splitting_criteria=tree.ginni_index, set_depth=i)\n",
    "    trees.append(tree)"
   ]
  },
  {
   "cell_type": "markdown",
   "id": "bdac33b0ba042d7b",
   "metadata": {},
   "source": [
    "Below is the sequentially printed output for depths 1 though 6 for ginni index as the splitting criteria. The predictions are for the test data in test.csv."
   ]
  },
  {
   "cell_type": "code",
   "execution_count": 32,
   "id": "46250a43ac023f32",
   "metadata": {
    "ExecuteTime": {
     "start_time": "2023-09-23T21:07:29.201498Z"
    }
   },
   "outputs": [
    {
     "name": "stdout",
     "output_type": "stream",
     "text": [
      "0.29670329670329665\n",
      "0.22252747252747251\n",
      "0.18406593406593408\n",
      "0.13736263736263732\n",
      "0.08379120879120883\n",
      "0.08379120879120883\n"
     ]
    }
   ],
   "source": [
    "for tree in trees:\n",
    "    print(1 - predict_dataframe(tree, car_test, \"label\"))"
   ]
  },
  {
   "cell_type": "markdown",
   "id": "a15393d1b7651ef8",
   "metadata": {},
   "source": [
    "Below is the sequentially printed output for depths 1 though 6 for ginni index as the splitting criteria. The predictions are for the train data in train.csv."
   ]
  },
  {
   "cell_type": "code",
   "execution_count": 33,
   "id": "8c768796af39827f",
   "metadata": {
    "ExecuteTime": {
     "start_time": "2023-09-23T21:07:29.221970100Z"
    }
   },
   "outputs": [
    {
     "name": "stdout",
     "output_type": "stream",
     "text": [
      "0.30200000000000005\n",
      "0.22199999999999998\n",
      "0.17600000000000005\n",
      "0.08899999999999997\n",
      "0.027000000000000024\n",
      "0.0\n"
     ]
    }
   ],
   "source": [
    "for tree in trees:\n",
    "    print(1 - predict_dataframe(tree, car_train, \"label\"))"
   ]
  },
  {
   "cell_type": "markdown",
   "id": "62e899fcf0cedd27",
   "metadata": {},
   "source": [
    "Let's build the trees varying from depth 1 to depth 6 for ginni_index as the splitting criterion."
   ]
  },
  {
   "cell_type": "code",
   "execution_count": 34,
   "id": "fa50b9569bc881e2",
   "metadata": {
    "ExecuteTime": {
     "start_time": "2023-09-23T21:07:29.221970100Z"
    }
   },
   "outputs": [],
   "source": [
    "trees: list[DecisionTree] = []\n",
    "for i in range (1, 7):\n",
    "    tree: DecisionTree = DecisionTree(car_train)\n",
    "    tree.build(attributes=set(car_train.columns) - {\"label\"}, label=\"label\", splitting_criteria=tree.majority_error, set_depth=i)\n",
    "    trees.append(tree)"
   ]
  },
  {
   "cell_type": "markdown",
   "id": "faed70dce842cdbb",
   "metadata": {},
   "source": [
    "Below is the sequentially printed output for depths 1 though 6 for majority error as the splitting criteria. The predictions are for the test data in test.csv."
   ]
  },
  {
   "cell_type": "code",
   "execution_count": 35,
   "id": "c0ff563a915499b5",
   "metadata": {
    "ExecuteTime": {
     "start_time": "2023-09-23T21:07:29.234550200Z"
    }
   },
   "outputs": [
    {
     "name": "stdout",
     "output_type": "stream",
     "text": [
      "0.29670329670329665\n",
      "0.3159340659340659\n",
      "0.2554945054945055\n",
      "0.22390109890109888\n",
      "0.16346153846153844\n",
      "0.16346153846153844\n"
     ]
    }
   ],
   "source": [
    "for tree in trees:\n",
    "    print(1 - predict_dataframe(tree, car_test, \"label\"))"
   ]
  },
  {
   "cell_type": "markdown",
   "id": "459b839e66741cad",
   "metadata": {},
   "source": [
    "Below is the sequentially printed output for depths 1 though 6 for majority error as the splitting criteria. The predictions are for the train data in train.csv."
   ]
  },
  {
   "cell_type": "code",
   "execution_count": 36,
   "id": "fdd2a9f7d2144e48",
   "metadata": {
    "ExecuteTime": {
     "start_time": "2023-09-23T21:07:29.237554800Z"
    }
   },
   "outputs": [
    {
     "name": "stdout",
     "output_type": "stream",
     "text": [
      "0.30200000000000005\n",
      "0.30100000000000005\n",
      "0.22699999999999998\n",
      "0.126\n",
      "0.04200000000000004\n",
      "0.0\n"
     ]
    }
   ],
   "source": [
    "for tree in trees:\n",
    "    print(1 - predict_dataframe(tree, car_train, \"label\"))"
   ]
  },
  {
   "cell_type": "markdown",
   "id": "e8a969c781301a4f",
   "metadata": {},
   "source": [
    "### Part c\n",
    "Looking at the results calculated above, we can see that as the depth of the tree increased, we saw a decrease in misclassification. However, all heuristics showed no significant decrease in misclassification after a point (tree depth = 5). This is due to the tree already reaching its max depth, so, setting the depth to a higher number won't change how the tree would classify points. In addition, we notice that at tree depth 6, all heuristics completely fit the training data even though there is about an 8% misclassificatin on the test data."
   ]
  },
  {
   "cell_type": "markdown",
   "id": "4c436306716273e1",
   "metadata": {},
   "source": [
    "## Question 3\n",
    "Let's first load our data set."
   ]
  },
  {
   "cell_type": "code",
   "execution_count": 37,
   "id": "6695099c9ea085a4",
   "metadata": {
    "ExecuteTime": {
     "start_time": "2023-09-23T21:07:29.237554800Z"
    }
   },
   "outputs": [
    {
     "data": {
      "text/html": [
       "<div>\n",
       "<style scoped>\n",
       "    .dataframe tbody tr th:only-of-type {\n",
       "        vertical-align: middle;\n",
       "    }\n",
       "\n",
       "    .dataframe tbody tr th {\n",
       "        vertical-align: top;\n",
       "    }\n",
       "\n",
       "    .dataframe thead th {\n",
       "        text-align: right;\n",
       "    }\n",
       "</style>\n",
       "<table border=\"1\" class=\"dataframe\">\n",
       "  <thead>\n",
       "    <tr style=\"text-align: right;\">\n",
       "      <th></th>\n",
       "      <th>age</th>\n",
       "      <th>job</th>\n",
       "      <th>marital</th>\n",
       "      <th>education</th>\n",
       "      <th>default</th>\n",
       "      <th>balance</th>\n",
       "      <th>housing</th>\n",
       "      <th>loan</th>\n",
       "      <th>contact</th>\n",
       "      <th>day</th>\n",
       "      <th>month</th>\n",
       "      <th>duration</th>\n",
       "      <th>campaign</th>\n",
       "      <th>pdays</th>\n",
       "      <th>previous</th>\n",
       "      <th>poutcome</th>\n",
       "      <th>y</th>\n",
       "    </tr>\n",
       "  </thead>\n",
       "  <tbody>\n",
       "    <tr>\n",
       "      <th>0</th>\n",
       "      <td>41</td>\n",
       "      <td>services</td>\n",
       "      <td>married</td>\n",
       "      <td>secondary</td>\n",
       "      <td>no</td>\n",
       "      <td>0</td>\n",
       "      <td>yes</td>\n",
       "      <td>no</td>\n",
       "      <td>unknown</td>\n",
       "      <td>5</td>\n",
       "      <td>may</td>\n",
       "      <td>114</td>\n",
       "      <td>2</td>\n",
       "      <td>-1</td>\n",
       "      <td>0</td>\n",
       "      <td>unknown</td>\n",
       "      <td>no</td>\n",
       "    </tr>\n",
       "    <tr>\n",
       "      <th>1</th>\n",
       "      <td>48</td>\n",
       "      <td>blue-collar</td>\n",
       "      <td>single</td>\n",
       "      <td>secondary</td>\n",
       "      <td>no</td>\n",
       "      <td>312</td>\n",
       "      <td>yes</td>\n",
       "      <td>yes</td>\n",
       "      <td>cellular</td>\n",
       "      <td>3</td>\n",
       "      <td>feb</td>\n",
       "      <td>369</td>\n",
       "      <td>2</td>\n",
       "      <td>-1</td>\n",
       "      <td>0</td>\n",
       "      <td>unknown</td>\n",
       "      <td>no</td>\n",
       "    </tr>\n",
       "    <tr>\n",
       "      <th>2</th>\n",
       "      <td>55</td>\n",
       "      <td>technician</td>\n",
       "      <td>married</td>\n",
       "      <td>secondary</td>\n",
       "      <td>no</td>\n",
       "      <td>1938</td>\n",
       "      <td>no</td>\n",
       "      <td>yes</td>\n",
       "      <td>cellular</td>\n",
       "      <td>18</td>\n",
       "      <td>aug</td>\n",
       "      <td>193</td>\n",
       "      <td>1</td>\n",
       "      <td>386</td>\n",
       "      <td>3</td>\n",
       "      <td>success</td>\n",
       "      <td>yes</td>\n",
       "    </tr>\n",
       "    <tr>\n",
       "      <th>3</th>\n",
       "      <td>54</td>\n",
       "      <td>admin.</td>\n",
       "      <td>married</td>\n",
       "      <td>tertiary</td>\n",
       "      <td>no</td>\n",
       "      <td>59</td>\n",
       "      <td>yes</td>\n",
       "      <td>no</td>\n",
       "      <td>cellular</td>\n",
       "      <td>10</td>\n",
       "      <td>jul</td>\n",
       "      <td>268</td>\n",
       "      <td>1</td>\n",
       "      <td>-1</td>\n",
       "      <td>0</td>\n",
       "      <td>unknown</td>\n",
       "      <td>no</td>\n",
       "    </tr>\n",
       "    <tr>\n",
       "      <th>4</th>\n",
       "      <td>34</td>\n",
       "      <td>management</td>\n",
       "      <td>single</td>\n",
       "      <td>tertiary</td>\n",
       "      <td>no</td>\n",
       "      <td>2646</td>\n",
       "      <td>no</td>\n",
       "      <td>no</td>\n",
       "      <td>cellular</td>\n",
       "      <td>14</td>\n",
       "      <td>apr</td>\n",
       "      <td>142</td>\n",
       "      <td>1</td>\n",
       "      <td>-1</td>\n",
       "      <td>0</td>\n",
       "      <td>unknown</td>\n",
       "      <td>yes</td>\n",
       "    </tr>\n",
       "  </tbody>\n",
       "</table>\n",
       "</div>"
      ],
      "text/plain": [
       "   age          job  marital  education default  balance housing loan  \\\n",
       "0   41     services  married  secondary      no        0     yes   no   \n",
       "1   48  blue-collar   single  secondary      no      312     yes  yes   \n",
       "2   55   technician  married  secondary      no     1938      no  yes   \n",
       "3   54       admin.  married   tertiary      no       59     yes   no   \n",
       "4   34   management   single   tertiary      no     2646      no   no   \n",
       "\n",
       "    contact  day month  duration  campaign  pdays  previous poutcome    y  \n",
       "0   unknown    5   may       114         2     -1         0  unknown   no  \n",
       "1  cellular    3   feb       369         2     -1         0  unknown   no  \n",
       "2  cellular   18   aug       193         1    386         3  success  yes  \n",
       "3  cellular   10   jul       268         1     -1         0  unknown   no  \n",
       "4  cellular   14   apr       142         1     -1         0  unknown  yes  "
      ]
     },
     "execution_count": 37,
     "metadata": {},
     "output_type": "execute_result"
    }
   ],
   "source": [
    "bank_train = pd.read_csv(\"bank/train.csv\", names=[\"age\", \"job\", \"marital\", \"education\", \"default\", \"balance\", \"housing\", \"loan\", \"contact\", \"day\", \"month\", \"duration\", \"campaign\", \"pdays\", \"previous\", \"poutcome\", \"y\"])\n",
    "bank_train.head()"
   ]
  },
  {
   "cell_type": "code",
   "execution_count": 38,
   "id": "2261766709819d1d",
   "metadata": {
    "ExecuteTime": {
     "end_time": "2023-09-23T21:07:29.952468700Z",
     "start_time": "2023-09-23T21:07:29.664532700Z"
    }
   },
   "outputs": [
    {
     "data": {
      "text/html": [
       "<div>\n",
       "<style scoped>\n",
       "    .dataframe tbody tr th:only-of-type {\n",
       "        vertical-align: middle;\n",
       "    }\n",
       "\n",
       "    .dataframe tbody tr th {\n",
       "        vertical-align: top;\n",
       "    }\n",
       "\n",
       "    .dataframe thead th {\n",
       "        text-align: right;\n",
       "    }\n",
       "</style>\n",
       "<table border=\"1\" class=\"dataframe\">\n",
       "  <thead>\n",
       "    <tr style=\"text-align: right;\">\n",
       "      <th></th>\n",
       "      <th>age</th>\n",
       "      <th>job</th>\n",
       "      <th>marital</th>\n",
       "      <th>education</th>\n",
       "      <th>default</th>\n",
       "      <th>balance</th>\n",
       "      <th>housing</th>\n",
       "      <th>loan</th>\n",
       "      <th>contact</th>\n",
       "      <th>day</th>\n",
       "      <th>month</th>\n",
       "      <th>duration</th>\n",
       "      <th>campaign</th>\n",
       "      <th>pdays</th>\n",
       "      <th>previous</th>\n",
       "      <th>poutcome</th>\n",
       "      <th>y</th>\n",
       "    </tr>\n",
       "  </thead>\n",
       "  <tbody>\n",
       "    <tr>\n",
       "      <th>0</th>\n",
       "      <td>41</td>\n",
       "      <td>management</td>\n",
       "      <td>single</td>\n",
       "      <td>secondary</td>\n",
       "      <td>no</td>\n",
       "      <td>764</td>\n",
       "      <td>no</td>\n",
       "      <td>no</td>\n",
       "      <td>cellular</td>\n",
       "      <td>12</td>\n",
       "      <td>jun</td>\n",
       "      <td>230</td>\n",
       "      <td>2</td>\n",
       "      <td>-1</td>\n",
       "      <td>0</td>\n",
       "      <td>unknown</td>\n",
       "      <td>no</td>\n",
       "    </tr>\n",
       "    <tr>\n",
       "      <th>1</th>\n",
       "      <td>39</td>\n",
       "      <td>blue-collar</td>\n",
       "      <td>married</td>\n",
       "      <td>secondary</td>\n",
       "      <td>no</td>\n",
       "      <td>49</td>\n",
       "      <td>yes</td>\n",
       "      <td>no</td>\n",
       "      <td>cellular</td>\n",
       "      <td>14</td>\n",
       "      <td>may</td>\n",
       "      <td>566</td>\n",
       "      <td>1</td>\n",
       "      <td>370</td>\n",
       "      <td>2</td>\n",
       "      <td>failure</td>\n",
       "      <td>no</td>\n",
       "    </tr>\n",
       "    <tr>\n",
       "      <th>2</th>\n",
       "      <td>60</td>\n",
       "      <td>retired</td>\n",
       "      <td>married</td>\n",
       "      <td>primary</td>\n",
       "      <td>no</td>\n",
       "      <td>0</td>\n",
       "      <td>no</td>\n",
       "      <td>no</td>\n",
       "      <td>telephone</td>\n",
       "      <td>30</td>\n",
       "      <td>jul</td>\n",
       "      <td>130</td>\n",
       "      <td>3</td>\n",
       "      <td>-1</td>\n",
       "      <td>0</td>\n",
       "      <td>unknown</td>\n",
       "      <td>no</td>\n",
       "    </tr>\n",
       "    <tr>\n",
       "      <th>3</th>\n",
       "      <td>31</td>\n",
       "      <td>entrepreneur</td>\n",
       "      <td>single</td>\n",
       "      <td>tertiary</td>\n",
       "      <td>no</td>\n",
       "      <td>247</td>\n",
       "      <td>yes</td>\n",
       "      <td>yes</td>\n",
       "      <td>unknown</td>\n",
       "      <td>2</td>\n",
       "      <td>jun</td>\n",
       "      <td>273</td>\n",
       "      <td>1</td>\n",
       "      <td>-1</td>\n",
       "      <td>0</td>\n",
       "      <td>unknown</td>\n",
       "      <td>no</td>\n",
       "    </tr>\n",
       "    <tr>\n",
       "      <th>4</th>\n",
       "      <td>26</td>\n",
       "      <td>student</td>\n",
       "      <td>single</td>\n",
       "      <td>unknown</td>\n",
       "      <td>no</td>\n",
       "      <td>2020</td>\n",
       "      <td>no</td>\n",
       "      <td>no</td>\n",
       "      <td>telephone</td>\n",
       "      <td>28</td>\n",
       "      <td>jan</td>\n",
       "      <td>42</td>\n",
       "      <td>3</td>\n",
       "      <td>-1</td>\n",
       "      <td>0</td>\n",
       "      <td>unknown</td>\n",
       "      <td>no</td>\n",
       "    </tr>\n",
       "  </tbody>\n",
       "</table>\n",
       "</div>"
      ],
      "text/plain": [
       "   age           job  marital  education default  balance housing loan  \\\n",
       "0   41    management   single  secondary      no      764      no   no   \n",
       "1   39   blue-collar  married  secondary      no       49     yes   no   \n",
       "2   60       retired  married    primary      no        0      no   no   \n",
       "3   31  entrepreneur   single   tertiary      no      247     yes  yes   \n",
       "4   26       student   single    unknown      no     2020      no   no   \n",
       "\n",
       "     contact  day month  duration  campaign  pdays  previous poutcome   y  \n",
       "0   cellular   12   jun       230         2     -1         0  unknown  no  \n",
       "1   cellular   14   may       566         1    370         2  failure  no  \n",
       "2  telephone   30   jul       130         3     -1         0  unknown  no  \n",
       "3    unknown    2   jun       273         1     -1         0  unknown  no  \n",
       "4  telephone   28   jan        42         3     -1         0  unknown  no  "
      ]
     },
     "execution_count": 38,
     "metadata": {},
     "output_type": "execute_result"
    }
   ],
   "source": [
    "bank_test = pd.read_csv(\"bank/test.csv\", names=[\"age\", \"job\", \"marital\", \"education\", \"default\", \"balance\", \"housing\", \"loan\", \"contact\", \"day\", \"month\", \"duration\", \"campaign\", \"pdays\", \"previous\", \"poutcome\", \"y\"])\n",
    "bank_test.head()"
   ]
  },
  {
   "cell_type": "markdown",
   "id": "6f1ba979454431f9",
   "metadata": {},
   "source": [
    "### Part A"
   ]
  },
  {
   "cell_type": "code",
   "execution_count": 39,
   "id": "d809c182736292f0",
   "metadata": {
    "ExecuteTime": {
     "start_time": "2023-09-23T21:07:29.664532700Z"
    }
   },
   "outputs": [],
   "source": [
    "def make_numerical_attributes_binary(data):\n",
    "    column_types: dict[str, str] = data.dtypes.to_dict()\n",
    "    for column in column_types:\n",
    "        if column_types[column] == \"int64\" or column_types[column] == \"float64\":\n",
    "            data[column] = data[column].apply(lambda x: x >= data[column].median())"
   ]
  },
  {
   "cell_type": "markdown",
   "id": "b507236477fe01f1",
   "metadata": {},
   "source": [
    "Let's use a modified dataframe with binary attributes called binary_bank_test."
   ]
  },
  {
   "cell_type": "code",
   "execution_count": 40,
   "id": "f84f5b5a0650e5ed",
   "metadata": {
    "ExecuteTime": {
     "start_time": "2023-09-23T21:07:29.670043900Z"
    }
   },
   "outputs": [
    {
     "data": {
      "text/html": [
       "<div>\n",
       "<style scoped>\n",
       "    .dataframe tbody tr th:only-of-type {\n",
       "        vertical-align: middle;\n",
       "    }\n",
       "\n",
       "    .dataframe tbody tr th {\n",
       "        vertical-align: top;\n",
       "    }\n",
       "\n",
       "    .dataframe thead th {\n",
       "        text-align: right;\n",
       "    }\n",
       "</style>\n",
       "<table border=\"1\" class=\"dataframe\">\n",
       "  <thead>\n",
       "    <tr style=\"text-align: right;\">\n",
       "      <th></th>\n",
       "      <th>age</th>\n",
       "      <th>job</th>\n",
       "      <th>marital</th>\n",
       "      <th>education</th>\n",
       "      <th>default</th>\n",
       "      <th>balance</th>\n",
       "      <th>housing</th>\n",
       "      <th>loan</th>\n",
       "      <th>contact</th>\n",
       "      <th>day</th>\n",
       "      <th>month</th>\n",
       "      <th>duration</th>\n",
       "      <th>campaign</th>\n",
       "      <th>pdays</th>\n",
       "      <th>previous</th>\n",
       "      <th>poutcome</th>\n",
       "      <th>y</th>\n",
       "    </tr>\n",
       "  </thead>\n",
       "  <tbody>\n",
       "    <tr>\n",
       "      <th>0</th>\n",
       "      <td>True</td>\n",
       "      <td>management</td>\n",
       "      <td>single</td>\n",
       "      <td>secondary</td>\n",
       "      <td>no</td>\n",
       "      <td>True</td>\n",
       "      <td>no</td>\n",
       "      <td>no</td>\n",
       "      <td>cellular</td>\n",
       "      <td>False</td>\n",
       "      <td>jun</td>\n",
       "      <td>True</td>\n",
       "      <td>True</td>\n",
       "      <td>True</td>\n",
       "      <td>True</td>\n",
       "      <td>unknown</td>\n",
       "      <td>no</td>\n",
       "    </tr>\n",
       "    <tr>\n",
       "      <th>1</th>\n",
       "      <td>True</td>\n",
       "      <td>blue-collar</td>\n",
       "      <td>married</td>\n",
       "      <td>secondary</td>\n",
       "      <td>no</td>\n",
       "      <td>False</td>\n",
       "      <td>yes</td>\n",
       "      <td>no</td>\n",
       "      <td>cellular</td>\n",
       "      <td>False</td>\n",
       "      <td>may</td>\n",
       "      <td>True</td>\n",
       "      <td>False</td>\n",
       "      <td>True</td>\n",
       "      <td>True</td>\n",
       "      <td>failure</td>\n",
       "      <td>no</td>\n",
       "    </tr>\n",
       "    <tr>\n",
       "      <th>2</th>\n",
       "      <td>True</td>\n",
       "      <td>retired</td>\n",
       "      <td>married</td>\n",
       "      <td>primary</td>\n",
       "      <td>no</td>\n",
       "      <td>False</td>\n",
       "      <td>no</td>\n",
       "      <td>no</td>\n",
       "      <td>telephone</td>\n",
       "      <td>True</td>\n",
       "      <td>jul</td>\n",
       "      <td>False</td>\n",
       "      <td>True</td>\n",
       "      <td>True</td>\n",
       "      <td>True</td>\n",
       "      <td>unknown</td>\n",
       "      <td>no</td>\n",
       "    </tr>\n",
       "    <tr>\n",
       "      <th>3</th>\n",
       "      <td>False</td>\n",
       "      <td>entrepreneur</td>\n",
       "      <td>single</td>\n",
       "      <td>tertiary</td>\n",
       "      <td>no</td>\n",
       "      <td>False</td>\n",
       "      <td>yes</td>\n",
       "      <td>yes</td>\n",
       "      <td>unknown</td>\n",
       "      <td>False</td>\n",
       "      <td>jun</td>\n",
       "      <td>True</td>\n",
       "      <td>False</td>\n",
       "      <td>True</td>\n",
       "      <td>True</td>\n",
       "      <td>unknown</td>\n",
       "      <td>no</td>\n",
       "    </tr>\n",
       "    <tr>\n",
       "      <th>4</th>\n",
       "      <td>False</td>\n",
       "      <td>student</td>\n",
       "      <td>single</td>\n",
       "      <td>unknown</td>\n",
       "      <td>no</td>\n",
       "      <td>True</td>\n",
       "      <td>no</td>\n",
       "      <td>no</td>\n",
       "      <td>telephone</td>\n",
       "      <td>True</td>\n",
       "      <td>jan</td>\n",
       "      <td>False</td>\n",
       "      <td>True</td>\n",
       "      <td>True</td>\n",
       "      <td>True</td>\n",
       "      <td>unknown</td>\n",
       "      <td>no</td>\n",
       "    </tr>\n",
       "  </tbody>\n",
       "</table>\n",
       "</div>"
      ],
      "text/plain": [
       "     age           job  marital  education default  balance housing loan  \\\n",
       "0   True    management   single  secondary      no     True      no   no   \n",
       "1   True   blue-collar  married  secondary      no    False     yes   no   \n",
       "2   True       retired  married    primary      no    False      no   no   \n",
       "3  False  entrepreneur   single   tertiary      no    False     yes  yes   \n",
       "4  False       student   single    unknown      no     True      no   no   \n",
       "\n",
       "     contact    day month  duration  campaign  pdays  previous poutcome   y  \n",
       "0   cellular  False   jun      True      True   True      True  unknown  no  \n",
       "1   cellular  False   may      True     False   True      True  failure  no  \n",
       "2  telephone   True   jul     False      True   True      True  unknown  no  \n",
       "3    unknown  False   jun      True     False   True      True  unknown  no  \n",
       "4  telephone   True   jan     False      True   True      True  unknown  no  "
      ]
     },
     "execution_count": 40,
     "metadata": {},
     "output_type": "execute_result"
    }
   ],
   "source": [
    "binary_bank_test: pd.DataFrame = bank_test[:]\n",
    "pd.DataFrame = make_numerical_attributes_binary(binary_bank_test)\n",
    "binary_bank_test.head()"
   ]
  },
  {
   "cell_type": "code",
   "execution_count": 41,
   "id": "bf77fe5fc9d94e83",
   "metadata": {
    "ExecuteTime": {
     "start_time": "2023-09-23T21:07:29.670043900Z"
    }
   },
   "outputs": [
    {
     "data": {
      "text/html": [
       "<div>\n",
       "<style scoped>\n",
       "    .dataframe tbody tr th:only-of-type {\n",
       "        vertical-align: middle;\n",
       "    }\n",
       "\n",
       "    .dataframe tbody tr th {\n",
       "        vertical-align: top;\n",
       "    }\n",
       "\n",
       "    .dataframe thead th {\n",
       "        text-align: right;\n",
       "    }\n",
       "</style>\n",
       "<table border=\"1\" class=\"dataframe\">\n",
       "  <thead>\n",
       "    <tr style=\"text-align: right;\">\n",
       "      <th></th>\n",
       "      <th>age</th>\n",
       "      <th>job</th>\n",
       "      <th>marital</th>\n",
       "      <th>education</th>\n",
       "      <th>default</th>\n",
       "      <th>balance</th>\n",
       "      <th>housing</th>\n",
       "      <th>loan</th>\n",
       "      <th>contact</th>\n",
       "      <th>day</th>\n",
       "      <th>month</th>\n",
       "      <th>duration</th>\n",
       "      <th>campaign</th>\n",
       "      <th>pdays</th>\n",
       "      <th>previous</th>\n",
       "      <th>poutcome</th>\n",
       "      <th>y</th>\n",
       "    </tr>\n",
       "  </thead>\n",
       "  <tbody>\n",
       "    <tr>\n",
       "      <th>0</th>\n",
       "      <td>True</td>\n",
       "      <td>services</td>\n",
       "      <td>married</td>\n",
       "      <td>secondary</td>\n",
       "      <td>no</td>\n",
       "      <td>False</td>\n",
       "      <td>yes</td>\n",
       "      <td>no</td>\n",
       "      <td>unknown</td>\n",
       "      <td>False</td>\n",
       "      <td>may</td>\n",
       "      <td>False</td>\n",
       "      <td>True</td>\n",
       "      <td>True</td>\n",
       "      <td>True</td>\n",
       "      <td>unknown</td>\n",
       "      <td>no</td>\n",
       "    </tr>\n",
       "    <tr>\n",
       "      <th>1</th>\n",
       "      <td>True</td>\n",
       "      <td>blue-collar</td>\n",
       "      <td>single</td>\n",
       "      <td>secondary</td>\n",
       "      <td>no</td>\n",
       "      <td>False</td>\n",
       "      <td>yes</td>\n",
       "      <td>yes</td>\n",
       "      <td>cellular</td>\n",
       "      <td>False</td>\n",
       "      <td>feb</td>\n",
       "      <td>True</td>\n",
       "      <td>True</td>\n",
       "      <td>True</td>\n",
       "      <td>True</td>\n",
       "      <td>unknown</td>\n",
       "      <td>no</td>\n",
       "    </tr>\n",
       "    <tr>\n",
       "      <th>2</th>\n",
       "      <td>True</td>\n",
       "      <td>technician</td>\n",
       "      <td>married</td>\n",
       "      <td>secondary</td>\n",
       "      <td>no</td>\n",
       "      <td>True</td>\n",
       "      <td>no</td>\n",
       "      <td>yes</td>\n",
       "      <td>cellular</td>\n",
       "      <td>True</td>\n",
       "      <td>aug</td>\n",
       "      <td>True</td>\n",
       "      <td>False</td>\n",
       "      <td>True</td>\n",
       "      <td>True</td>\n",
       "      <td>success</td>\n",
       "      <td>yes</td>\n",
       "    </tr>\n",
       "    <tr>\n",
       "      <th>3</th>\n",
       "      <td>True</td>\n",
       "      <td>admin.</td>\n",
       "      <td>married</td>\n",
       "      <td>tertiary</td>\n",
       "      <td>no</td>\n",
       "      <td>False</td>\n",
       "      <td>yes</td>\n",
       "      <td>no</td>\n",
       "      <td>cellular</td>\n",
       "      <td>False</td>\n",
       "      <td>jul</td>\n",
       "      <td>True</td>\n",
       "      <td>False</td>\n",
       "      <td>True</td>\n",
       "      <td>True</td>\n",
       "      <td>unknown</td>\n",
       "      <td>no</td>\n",
       "    </tr>\n",
       "    <tr>\n",
       "      <th>4</th>\n",
       "      <td>False</td>\n",
       "      <td>management</td>\n",
       "      <td>single</td>\n",
       "      <td>tertiary</td>\n",
       "      <td>no</td>\n",
       "      <td>True</td>\n",
       "      <td>no</td>\n",
       "      <td>no</td>\n",
       "      <td>cellular</td>\n",
       "      <td>False</td>\n",
       "      <td>apr</td>\n",
       "      <td>False</td>\n",
       "      <td>False</td>\n",
       "      <td>True</td>\n",
       "      <td>True</td>\n",
       "      <td>unknown</td>\n",
       "      <td>yes</td>\n",
       "    </tr>\n",
       "  </tbody>\n",
       "</table>\n",
       "</div>"
      ],
      "text/plain": [
       "     age          job  marital  education default  balance housing loan  \\\n",
       "0   True     services  married  secondary      no    False     yes   no   \n",
       "1   True  blue-collar   single  secondary      no    False     yes  yes   \n",
       "2   True   technician  married  secondary      no     True      no  yes   \n",
       "3   True       admin.  married   tertiary      no    False     yes   no   \n",
       "4  False   management   single   tertiary      no     True      no   no   \n",
       "\n",
       "    contact    day month  duration  campaign  pdays  previous poutcome    y  \n",
       "0   unknown  False   may     False      True   True      True  unknown   no  \n",
       "1  cellular  False   feb      True      True   True      True  unknown   no  \n",
       "2  cellular   True   aug      True     False   True      True  success  yes  \n",
       "3  cellular  False   jul      True     False   True      True  unknown   no  \n",
       "4  cellular  False   apr     False     False   True      True  unknown  yes  "
      ]
     },
     "execution_count": 41,
     "metadata": {},
     "output_type": "execute_result"
    }
   ],
   "source": [
    "binary_bank_train: pd.DataFrame = bank_train[:]\n",
    "pd.DataFrame = make_numerical_attributes_binary(binary_bank_train)\n",
    "binary_bank_train.head()"
   ]
  },
  {
   "cell_type": "markdown",
   "id": "4f3b19a4e2741239",
   "metadata": {},
   "source": [
    "Lets build all of our trees using our helper."
   ]
  },
  {
   "cell_type": "code",
   "execution_count": 42,
   "id": "4e0692f9842f9d09",
   "metadata": {
    "ExecuteTime": {
     "start_time": "2023-09-23T21:07:29.670043900Z"
    }
   },
   "outputs": [
    {
     "data": {
      "text/plain": [
       "[['error_test', 'error_train', 'depth', 'purity'],\n",
       " [0.12480000000000002, 0.11919999999999997, 1, 'entropy'],\n",
       " [0.11140000000000005, 0.10599999999999998, 2, 'entropy'],\n",
       " [0.10660000000000003, 0.10060000000000002, 3, 'entropy'],\n",
       " [0.11280000000000001, 0.07920000000000005, 4, 'entropy'],\n",
       " [0.11939999999999995, 0.06120000000000003, 5, 'entropy'],\n",
       " [0.13, 0.04720000000000002, 6, 'entropy'],\n",
       " [0.13980000000000004, 0.03480000000000005, 7, 'entropy'],\n",
       " [0.1442, 0.02839999999999998, 8, 'entropy'],\n",
       " [0.1492, 0.02300000000000002, 9, 'entropy'],\n",
       " [0.1532, 0.016599999999999948, 10, 'entropy'],\n",
       " [0.15380000000000005, 0.01419999999999999, 11, 'entropy'],\n",
       " [0.15339999999999998, 0.013599999999999945, 12, 'entropy'],\n",
       " [0.15339999999999998, 0.013599999999999945, 13, 'entropy'],\n",
       " [0.15339999999999998, 0.013599999999999945, 14, 'entropy'],\n",
       " [0.15339999999999998, 0.013599999999999945, 15, 'entropy'],\n",
       " [0.15339999999999998, 0.013599999999999945, 16, 'entropy'],\n",
       " [0.11660000000000004, 0.10880000000000001, 1, 'ginni'],\n",
       " [0.10880000000000001, 0.10419999999999996, 2, 'ginni'],\n",
       " [0.11119999999999997, 0.09340000000000004, 3, 'ginni'],\n",
       " [0.11699999999999999, 0.07479999999999998, 4, 'ginni'],\n",
       " [0.12160000000000004, 0.059599999999999986, 5, 'ginni'],\n",
       " [0.133, 0.04700000000000004, 6, 'ginni'],\n",
       " [0.14459999999999995, 0.034399999999999986, 7, 'ginni'],\n",
       " [0.15239999999999998, 0.02639999999999998, 8, 'ginni'],\n",
       " [0.15580000000000005, 0.02100000000000002, 9, 'ginni'],\n",
       " [0.15839999999999999, 0.016599999999999948, 10, 'ginni'],\n",
       " [0.16159999999999997, 0.014399999999999968, 11, 'ginni'],\n",
       " [0.1612, 0.013800000000000034, 12, 'ginni'],\n",
       " [0.1614, 0.013599999999999945, 13, 'ginni'],\n",
       " [0.1614, 0.013599999999999945, 14, 'ginni'],\n",
       " [0.1614, 0.013599999999999945, 15, 'ginni'],\n",
       " [0.1614, 0.013599999999999945, 16, 'ginni'],\n",
       " [0.11660000000000004, 0.10880000000000001, 1, 'majority'],\n",
       " [0.10880000000000001, 0.10419999999999996, 2, 'majority'],\n",
       " [0.11099999999999999, 0.09640000000000004, 3, 'majority'],\n",
       " [0.11399999999999999, 0.08420000000000005, 4, 'majority'],\n",
       " [0.11480000000000001, 0.07140000000000002, 5, 'majority'],\n",
       " [0.12160000000000004, 0.06259999999999999, 6, 'majority'],\n",
       " [0.12819999999999998, 0.05179999999999996, 7, 'majority'],\n",
       " [0.13360000000000005, 0.044399999999999995, 8, 'majority'],\n",
       " [0.14239999999999997, 0.03720000000000001, 9, 'majority'],\n",
       " [0.14600000000000002, 0.028200000000000003, 10, 'majority'],\n",
       " [0.14900000000000002, 0.023800000000000043, 11, 'majority'],\n",
       " [0.15300000000000002, 0.021199999999999997, 12, 'majority'],\n",
       " [0.15400000000000003, 0.017000000000000015, 13, 'majority'],\n",
       " [0.15539999999999998, 0.014599999999999946, 14, 'majority'],\n",
       " [0.15480000000000005, 0.013800000000000034, 15, 'majority'],\n",
       " [0.15480000000000005, 0.013599999999999945, 16, 'majority']]"
      ]
     },
     "execution_count": 42,
     "metadata": {},
     "output_type": "execute_result"
    }
   ],
   "source": [
    "build_trees(16, binary_bank_train, binary_bank_test, \"y\")"
   ]
  },
  {
   "cell_type": "markdown",
   "id": "b2400dfa39582b8d",
   "metadata": {},
   "source": [
    "Let's now make 16 trees varying form depth of 1 through 16. We will first use entropy."
   ]
  },
  {
   "cell_type": "code",
   "execution_count": 43,
   "id": "b275283260e5ac43",
   "metadata": {
    "ExecuteTime": {
     "start_time": "2023-09-23T21:07:29.670043900Z"
    }
   },
   "outputs": [],
   "source": [
    "trees: list[DecisionTree] = []\n",
    "for i in range (1, 17):\n",
    "    tree: DecisionTree = DecisionTree(binary_bank_train)\n",
    "    tree.build(attributes=set(binary_bank_test.columns) - {\"y\"}, label=\"y\", splitting_criteria=tree.entropy, set_depth=i)\n",
    "    trees.append(tree)"
   ]
  },
  {
   "cell_type": "markdown",
   "id": "e107236bf71d83b5",
   "metadata": {},
   "source": [
    "Let's now make a prediction using the 16 trees above on the training data."
   ]
  },
  {
   "cell_type": "code",
   "execution_count": 44,
   "id": "a3096cdd7945e2e1",
   "metadata": {
    "ExecuteTime": {
     "start_time": "2023-09-23T21:07:29.670043900Z"
    }
   },
   "outputs": [
    {
     "name": "stdout",
     "output_type": "stream",
     "text": [
      "0.11919999999999997\n",
      "0.10599999999999998\n",
      "0.10060000000000002\n",
      "0.07920000000000005\n",
      "0.06120000000000003\n",
      "0.04720000000000002\n",
      "0.03480000000000005\n",
      "0.02839999999999998\n",
      "0.02300000000000002\n",
      "0.016599999999999948\n",
      "0.01419999999999999\n",
      "0.013599999999999945\n",
      "0.013599999999999945\n",
      "0.013599999999999945\n",
      "0.013599999999999945\n",
      "0.013599999999999945\n"
     ]
    }
   ],
   "source": [
    "for tree in trees:\n",
    "    print(1 - predict_dataframe(tree, binary_bank_train, \"y\"))"
   ]
  },
  {
   "cell_type": "markdown",
   "id": "b0da0e1222792660",
   "metadata": {},
   "source": []
  },
  {
   "cell_type": "markdown",
   "id": "7872f96480829558",
   "metadata": {},
   "source": [
    "Let's now make a prediction using the 16 trees above on the test data."
   ]
  },
  {
   "cell_type": "code",
   "execution_count": 45,
   "id": "4dcc2dac80ea6183",
   "metadata": {
    "ExecuteTime": {
     "start_time": "2023-09-23T21:07:29.677551700Z"
    }
   },
   "outputs": [
    {
     "name": "stdout",
     "output_type": "stream",
     "text": [
      "0.12480000000000002\n",
      "0.11140000000000005\n",
      "0.10660000000000003\n",
      "0.11280000000000001\n",
      "0.11939999999999995\n",
      "0.13\n",
      "0.13980000000000004\n",
      "0.1442\n",
      "0.1492\n",
      "0.1532\n",
      "0.15380000000000005\n",
      "0.15339999999999998\n",
      "0.15339999999999998\n",
      "0.15339999999999998\n",
      "0.15339999999999998\n",
      "0.15339999999999998\n"
     ]
    }
   ],
   "source": [
    "for tree in trees:\n",
    "    print(1 - predict_dataframe(tree, binary_bank_test, \"y\"))"
   ]
  },
  {
   "cell_type": "markdown",
   "id": "283fb298d62e73a8",
   "metadata": {},
   "source": [
    "Let's now make 16 trees varying form depth of 1 through 16. We will now use ginni_index."
   ]
  },
  {
   "cell_type": "code",
   "execution_count": 46,
   "id": "d63e8d7cef57906c",
   "metadata": {
    "ExecuteTime": {
     "start_time": "2023-09-23T21:07:29.677551700Z"
    }
   },
   "outputs": [],
   "source": [
    "trees: list[DecisionTree] = []\n",
    "for i in range (1, 17):\n",
    "    tree: DecisionTree = DecisionTree(binary_bank_train)\n",
    "    tree.build(attributes=set(binary_bank_test.columns) - {\"y\"}, label=\"y\", splitting_criteria=tree.ginni_index, set_depth=i)\n",
    "    trees.append(tree)"
   ]
  },
  {
   "cell_type": "markdown",
   "id": "ca8db04c39a23293",
   "metadata": {},
   "source": [
    "Let's now make a prediction using the 16 trees above on the train data."
   ]
  },
  {
   "cell_type": "code",
   "execution_count": 47,
   "id": "1a5b2610af314ff4",
   "metadata": {
    "ExecuteTime": {
     "start_time": "2023-09-23T21:07:29.677551700Z"
    }
   },
   "outputs": [
    {
     "name": "stdout",
     "output_type": "stream",
     "text": [
      "0.10880000000000001\n",
      "0.10419999999999996\n",
      "0.09340000000000004\n",
      "0.07479999999999998\n",
      "0.059599999999999986\n",
      "0.04700000000000004\n",
      "0.034399999999999986\n",
      "0.02639999999999998\n",
      "0.02100000000000002\n",
      "0.016599999999999948\n",
      "0.014399999999999968\n",
      "0.013800000000000034\n",
      "0.013599999999999945\n",
      "0.013599999999999945\n",
      "0.013599999999999945\n",
      "0.013599999999999945\n"
     ]
    }
   ],
   "source": [
    "for tree in trees:\n",
    "    print(1 - predict_dataframe(tree, binary_bank_train, \"y\"))"
   ]
  },
  {
   "cell_type": "markdown",
   "id": "7933d0ca295b9ebb",
   "metadata": {},
   "source": [
    "Let's now make a prediction using the 16 trees above on the test data."
   ]
  },
  {
   "cell_type": "code",
   "execution_count": 48,
   "id": "a2d394598c637d49",
   "metadata": {
    "ExecuteTime": {
     "start_time": "2023-09-23T21:07:29.677551700Z"
    }
   },
   "outputs": [
    {
     "name": "stdout",
     "output_type": "stream",
     "text": [
      "0.11660000000000004\n",
      "0.10880000000000001\n",
      "0.11119999999999997\n",
      "0.11699999999999999\n",
      "0.12160000000000004\n",
      "0.133\n",
      "0.14459999999999995\n",
      "0.15239999999999998\n",
      "0.15580000000000005\n",
      "0.15839999999999999\n",
      "0.16159999999999997\n",
      "0.1612\n",
      "0.1614\n",
      "0.1614\n",
      "0.1614\n",
      "0.1614\n"
     ]
    }
   ],
   "source": [
    "for tree in trees:\n",
    "    print(1 - predict_dataframe(tree, binary_bank_test, \"y\"))"
   ]
  },
  {
   "cell_type": "markdown",
   "id": "af0ef944f3e11bf8",
   "metadata": {},
   "source": [
    "Let's now make 16 trees varying form depth of 1 through 16. We will now use majority error."
   ]
  },
  {
   "cell_type": "code",
   "execution_count": 49,
   "id": "bdabc087fbe33577",
   "metadata": {
    "ExecuteTime": {
     "start_time": "2023-09-23T21:07:29.677551700Z"
    }
   },
   "outputs": [],
   "source": [
    "trees: list[DecisionTree] = []\n",
    "for i in range (1, 17):\n",
    "    tree: DecisionTree = DecisionTree(binary_bank_train)\n",
    "    tree.build(attributes=set(binary_bank_test.columns) - {\"y\"}, label=\"y\", splitting_criteria=tree.majority_error, set_depth=i)\n",
    "    trees.append(tree)"
   ]
  },
  {
   "cell_type": "markdown",
   "id": "dd5fd65e9cf39812",
   "metadata": {},
   "source": [
    "Let's now make a prediction using the 16 trees above on the train data."
   ]
  },
  {
   "cell_type": "code",
   "execution_count": 50,
   "id": "226fe5e33e93ea7",
   "metadata": {
    "ExecuteTime": {
     "start_time": "2023-09-23T21:07:29.677551700Z"
    }
   },
   "outputs": [
    {
     "name": "stdout",
     "output_type": "stream",
     "text": [
      "0.10880000000000001\n",
      "0.10419999999999996\n",
      "0.09640000000000004\n",
      "0.08420000000000005\n",
      "0.07140000000000002\n",
      "0.06259999999999999\n",
      "0.05179999999999996\n",
      "0.044399999999999995\n",
      "0.03720000000000001\n",
      "0.028200000000000003\n",
      "0.023800000000000043\n",
      "0.021199999999999997\n",
      "0.017000000000000015\n",
      "0.014599999999999946\n",
      "0.013800000000000034\n",
      "0.013599999999999945\n"
     ]
    }
   ],
   "source": [
    "for tree in trees:\n",
    "    print(1 - predict_dataframe(tree, binary_bank_train, \"y\"))"
   ]
  },
  {
   "cell_type": "markdown",
   "id": "1a11a47a7f19682c",
   "metadata": {},
   "source": [
    "Let's now make a prediction using the 16 trees above on the test data"
   ]
  },
  {
   "cell_type": "code",
   "execution_count": 51,
   "id": "e6d4a1bd573fcdf0",
   "metadata": {
    "ExecuteTime": {
     "start_time": "2023-09-23T21:07:29.686055Z"
    }
   },
   "outputs": [
    {
     "name": "stdout",
     "output_type": "stream",
     "text": [
      "0.11660000000000004\n",
      "0.10880000000000001\n",
      "0.11099999999999999\n",
      "0.11399999999999999\n",
      "0.11480000000000001\n",
      "0.12160000000000004\n",
      "0.12819999999999998\n",
      "0.13360000000000005\n",
      "0.14239999999999997\n",
      "0.14600000000000002\n",
      "0.14900000000000002\n",
      "0.15300000000000002\n",
      "0.15400000000000003\n",
      "0.15539999999999998\n",
      "0.15480000000000005\n",
      "0.15480000000000005\n"
     ]
    }
   ],
   "source": [
    "for tree in trees:\n",
    "    print(1 - predict_dataframe(tree, binary_bank_test, \"y\"))"
   ]
  },
  {
   "cell_type": "markdown",
   "id": "70df0c83e2b6b06b",
   "metadata": {},
   "source": [
    "### Part B"
   ]
  },
  {
   "cell_type": "code",
   "execution_count": 52,
   "id": "af335da760a03",
   "metadata": {
    "ExecuteTime": {
     "start_time": "2023-09-23T21:07:29.686055Z"
    }
   },
   "outputs": [
    {
     "name": "stdout",
     "output_type": "stream",
     "text": [
      "['secondary' 'tertiary' 'primary']\n"
     ]
    },
    {
     "data": {
      "text/html": [
       "<div>\n",
       "<style scoped>\n",
       "    .dataframe tbody tr th:only-of-type {\n",
       "        vertical-align: middle;\n",
       "    }\n",
       "\n",
       "    .dataframe tbody tr th {\n",
       "        vertical-align: top;\n",
       "    }\n",
       "\n",
       "    .dataframe thead th {\n",
       "        text-align: right;\n",
       "    }\n",
       "</style>\n",
       "<table border=\"1\" class=\"dataframe\">\n",
       "  <thead>\n",
       "    <tr style=\"text-align: right;\">\n",
       "      <th></th>\n",
       "      <th>age</th>\n",
       "      <th>job</th>\n",
       "      <th>marital</th>\n",
       "      <th>education</th>\n",
       "      <th>default</th>\n",
       "      <th>balance</th>\n",
       "      <th>housing</th>\n",
       "      <th>loan</th>\n",
       "      <th>contact</th>\n",
       "      <th>day</th>\n",
       "      <th>month</th>\n",
       "      <th>duration</th>\n",
       "      <th>campaign</th>\n",
       "      <th>pdays</th>\n",
       "      <th>previous</th>\n",
       "      <th>poutcome</th>\n",
       "      <th>y</th>\n",
       "    </tr>\n",
       "  </thead>\n",
       "  <tbody>\n",
       "    <tr>\n",
       "      <th>0</th>\n",
       "      <td>True</td>\n",
       "      <td>services</td>\n",
       "      <td>married</td>\n",
       "      <td>secondary</td>\n",
       "      <td>no</td>\n",
       "      <td>False</td>\n",
       "      <td>yes</td>\n",
       "      <td>no</td>\n",
       "      <td>cellular</td>\n",
       "      <td>False</td>\n",
       "      <td>may</td>\n",
       "      <td>False</td>\n",
       "      <td>True</td>\n",
       "      <td>True</td>\n",
       "      <td>True</td>\n",
       "      <td>unknown</td>\n",
       "      <td>no</td>\n",
       "    </tr>\n",
       "    <tr>\n",
       "      <th>1</th>\n",
       "      <td>True</td>\n",
       "      <td>blue-collar</td>\n",
       "      <td>single</td>\n",
       "      <td>secondary</td>\n",
       "      <td>no</td>\n",
       "      <td>False</td>\n",
       "      <td>yes</td>\n",
       "      <td>yes</td>\n",
       "      <td>cellular</td>\n",
       "      <td>False</td>\n",
       "      <td>feb</td>\n",
       "      <td>True</td>\n",
       "      <td>True</td>\n",
       "      <td>True</td>\n",
       "      <td>True</td>\n",
       "      <td>unknown</td>\n",
       "      <td>no</td>\n",
       "    </tr>\n",
       "    <tr>\n",
       "      <th>2</th>\n",
       "      <td>True</td>\n",
       "      <td>technician</td>\n",
       "      <td>married</td>\n",
       "      <td>secondary</td>\n",
       "      <td>no</td>\n",
       "      <td>True</td>\n",
       "      <td>no</td>\n",
       "      <td>yes</td>\n",
       "      <td>cellular</td>\n",
       "      <td>True</td>\n",
       "      <td>aug</td>\n",
       "      <td>True</td>\n",
       "      <td>False</td>\n",
       "      <td>True</td>\n",
       "      <td>True</td>\n",
       "      <td>success</td>\n",
       "      <td>yes</td>\n",
       "    </tr>\n",
       "    <tr>\n",
       "      <th>3</th>\n",
       "      <td>True</td>\n",
       "      <td>admin.</td>\n",
       "      <td>married</td>\n",
       "      <td>tertiary</td>\n",
       "      <td>no</td>\n",
       "      <td>False</td>\n",
       "      <td>yes</td>\n",
       "      <td>no</td>\n",
       "      <td>cellular</td>\n",
       "      <td>False</td>\n",
       "      <td>jul</td>\n",
       "      <td>True</td>\n",
       "      <td>False</td>\n",
       "      <td>True</td>\n",
       "      <td>True</td>\n",
       "      <td>unknown</td>\n",
       "      <td>no</td>\n",
       "    </tr>\n",
       "    <tr>\n",
       "      <th>4</th>\n",
       "      <td>False</td>\n",
       "      <td>management</td>\n",
       "      <td>single</td>\n",
       "      <td>tertiary</td>\n",
       "      <td>no</td>\n",
       "      <td>True</td>\n",
       "      <td>no</td>\n",
       "      <td>no</td>\n",
       "      <td>cellular</td>\n",
       "      <td>False</td>\n",
       "      <td>apr</td>\n",
       "      <td>False</td>\n",
       "      <td>False</td>\n",
       "      <td>True</td>\n",
       "      <td>True</td>\n",
       "      <td>unknown</td>\n",
       "      <td>yes</td>\n",
       "    </tr>\n",
       "  </tbody>\n",
       "</table>\n",
       "</div>"
      ],
      "text/plain": [
       "     age          job  marital  education default  balance housing loan  \\\n",
       "0   True     services  married  secondary      no    False     yes   no   \n",
       "1   True  blue-collar   single  secondary      no    False     yes  yes   \n",
       "2   True   technician  married  secondary      no     True      no  yes   \n",
       "3   True       admin.  married   tertiary      no    False     yes   no   \n",
       "4  False   management   single   tertiary      no     True      no   no   \n",
       "\n",
       "    contact    day month  duration  campaign  pdays  previous poutcome    y  \n",
       "0  cellular  False   may     False      True   True      True  unknown   no  \n",
       "1  cellular  False   feb      True      True   True      True  unknown   no  \n",
       "2  cellular   True   aug      True     False   True      True  success  yes  \n",
       "3  cellular  False   jul      True     False   True      True  unknown   no  \n",
       "4  cellular  False   apr     False     False   True      True  unknown  yes  "
      ]
     },
     "execution_count": 52,
     "metadata": {},
     "output_type": "execute_result"
    }
   ],
   "source": [
    "def fill_unknown(data: pd.DataFrame) -> pd.DataFrame:\n",
    "    data_copy = data[:]\n",
    "    for column in data:\n",
    "        data_copy[column] = data_copy[column].apply(lambda x: data[column].mode()[0] if x == \"unknown\" else x)\n",
    "    return data_copy\n",
    "\n",
    "binary_bank_train_no_unknown: pd.DataFrame = fill_unknown(binary_bank_train)\n",
    "print(binary_bank_train_no_unknown[\"education\"].unique()) # check to ensure no unknowns\n",
    "binary_bank_train_no_unknown.head()"
   ]
  },
  {
   "cell_type": "markdown",
   "id": "e9ffe03b12fad8c2",
   "metadata": {},
   "source": [
    "Let's also create the test data without the unknown values."
   ]
  },
  {
   "cell_type": "code",
   "execution_count": 53,
   "id": "e5dae72d6796dc4b",
   "metadata": {
    "ExecuteTime": {
     "start_time": "2023-09-23T21:07:29.686055Z"
    }
   },
   "outputs": [
    {
     "name": "stdout",
     "output_type": "stream",
     "text": [
      "['secondary' 'primary' 'tertiary']\n"
     ]
    },
    {
     "data": {
      "text/html": [
       "<div>\n",
       "<style scoped>\n",
       "    .dataframe tbody tr th:only-of-type {\n",
       "        vertical-align: middle;\n",
       "    }\n",
       "\n",
       "    .dataframe tbody tr th {\n",
       "        vertical-align: top;\n",
       "    }\n",
       "\n",
       "    .dataframe thead th {\n",
       "        text-align: right;\n",
       "    }\n",
       "</style>\n",
       "<table border=\"1\" class=\"dataframe\">\n",
       "  <thead>\n",
       "    <tr style=\"text-align: right;\">\n",
       "      <th></th>\n",
       "      <th>age</th>\n",
       "      <th>job</th>\n",
       "      <th>marital</th>\n",
       "      <th>education</th>\n",
       "      <th>default</th>\n",
       "      <th>balance</th>\n",
       "      <th>housing</th>\n",
       "      <th>loan</th>\n",
       "      <th>contact</th>\n",
       "      <th>day</th>\n",
       "      <th>month</th>\n",
       "      <th>duration</th>\n",
       "      <th>campaign</th>\n",
       "      <th>pdays</th>\n",
       "      <th>previous</th>\n",
       "      <th>poutcome</th>\n",
       "      <th>y</th>\n",
       "    </tr>\n",
       "  </thead>\n",
       "  <tbody>\n",
       "    <tr>\n",
       "      <th>0</th>\n",
       "      <td>True</td>\n",
       "      <td>management</td>\n",
       "      <td>single</td>\n",
       "      <td>secondary</td>\n",
       "      <td>no</td>\n",
       "      <td>True</td>\n",
       "      <td>no</td>\n",
       "      <td>no</td>\n",
       "      <td>cellular</td>\n",
       "      <td>False</td>\n",
       "      <td>jun</td>\n",
       "      <td>True</td>\n",
       "      <td>True</td>\n",
       "      <td>True</td>\n",
       "      <td>True</td>\n",
       "      <td>unknown</td>\n",
       "      <td>no</td>\n",
       "    </tr>\n",
       "    <tr>\n",
       "      <th>1</th>\n",
       "      <td>True</td>\n",
       "      <td>blue-collar</td>\n",
       "      <td>married</td>\n",
       "      <td>secondary</td>\n",
       "      <td>no</td>\n",
       "      <td>False</td>\n",
       "      <td>yes</td>\n",
       "      <td>no</td>\n",
       "      <td>cellular</td>\n",
       "      <td>False</td>\n",
       "      <td>may</td>\n",
       "      <td>True</td>\n",
       "      <td>False</td>\n",
       "      <td>True</td>\n",
       "      <td>True</td>\n",
       "      <td>failure</td>\n",
       "      <td>no</td>\n",
       "    </tr>\n",
       "    <tr>\n",
       "      <th>2</th>\n",
       "      <td>True</td>\n",
       "      <td>retired</td>\n",
       "      <td>married</td>\n",
       "      <td>primary</td>\n",
       "      <td>no</td>\n",
       "      <td>False</td>\n",
       "      <td>no</td>\n",
       "      <td>no</td>\n",
       "      <td>telephone</td>\n",
       "      <td>True</td>\n",
       "      <td>jul</td>\n",
       "      <td>False</td>\n",
       "      <td>True</td>\n",
       "      <td>True</td>\n",
       "      <td>True</td>\n",
       "      <td>unknown</td>\n",
       "      <td>no</td>\n",
       "    </tr>\n",
       "    <tr>\n",
       "      <th>3</th>\n",
       "      <td>False</td>\n",
       "      <td>entrepreneur</td>\n",
       "      <td>single</td>\n",
       "      <td>tertiary</td>\n",
       "      <td>no</td>\n",
       "      <td>False</td>\n",
       "      <td>yes</td>\n",
       "      <td>yes</td>\n",
       "      <td>cellular</td>\n",
       "      <td>False</td>\n",
       "      <td>jun</td>\n",
       "      <td>True</td>\n",
       "      <td>False</td>\n",
       "      <td>True</td>\n",
       "      <td>True</td>\n",
       "      <td>unknown</td>\n",
       "      <td>no</td>\n",
       "    </tr>\n",
       "    <tr>\n",
       "      <th>4</th>\n",
       "      <td>False</td>\n",
       "      <td>student</td>\n",
       "      <td>single</td>\n",
       "      <td>secondary</td>\n",
       "      <td>no</td>\n",
       "      <td>True</td>\n",
       "      <td>no</td>\n",
       "      <td>no</td>\n",
       "      <td>telephone</td>\n",
       "      <td>True</td>\n",
       "      <td>jan</td>\n",
       "      <td>False</td>\n",
       "      <td>True</td>\n",
       "      <td>True</td>\n",
       "      <td>True</td>\n",
       "      <td>unknown</td>\n",
       "      <td>no</td>\n",
       "    </tr>\n",
       "  </tbody>\n",
       "</table>\n",
       "</div>"
      ],
      "text/plain": [
       "     age           job  marital  education default  balance housing loan  \\\n",
       "0   True    management   single  secondary      no     True      no   no   \n",
       "1   True   blue-collar  married  secondary      no    False     yes   no   \n",
       "2   True       retired  married    primary      no    False      no   no   \n",
       "3  False  entrepreneur   single   tertiary      no    False     yes  yes   \n",
       "4  False       student   single  secondary      no     True      no   no   \n",
       "\n",
       "     contact    day month  duration  campaign  pdays  previous poutcome   y  \n",
       "0   cellular  False   jun      True      True   True      True  unknown  no  \n",
       "1   cellular  False   may      True     False   True      True  failure  no  \n",
       "2  telephone   True   jul     False      True   True      True  unknown  no  \n",
       "3   cellular  False   jun      True     False   True      True  unknown  no  \n",
       "4  telephone   True   jan     False      True   True      True  unknown  no  "
      ]
     },
     "execution_count": 53,
     "metadata": {},
     "output_type": "execute_result"
    }
   ],
   "source": [
    "binary_bank_test_no_unknown: pd.DataFrame = fill_unknown(binary_bank_test)\n",
    "print(binary_bank_test_no_unknown[\"education\"].unique()) # check to ensure no unknowns\n",
    "binary_bank_test_no_unknown.head()"
   ]
  },
  {
   "cell_type": "markdown",
   "id": "edec0e7ea6d69560",
   "metadata": {},
   "source": []
  },
  {
   "cell_type": "markdown",
   "id": "a94a13b3fbe63ad5",
   "metadata": {},
   "source": [
    "Lets build our tree with this data."
   ]
  },
  {
   "cell_type": "code",
   "execution_count": 54,
   "id": "a73bfdedf1877aff",
   "metadata": {
    "ExecuteTime": {
     "start_time": "2023-09-23T21:07:29.686055Z"
    }
   },
   "outputs": [
    {
     "data": {
      "text/plain": [
       "[['error_test', 'error_train', 'depth', 'purity'],\n",
       " [0.12480000000000002, 0.11919999999999997, 1, 'entropy'],\n",
       " [0.11140000000000005, 0.10599999999999998, 2, 'entropy'],\n",
       " [0.10660000000000003, 0.1008, 3, 'entropy'],\n",
       " [0.11199999999999999, 0.0806, 4, 'entropy'],\n",
       " [0.11960000000000004, 0.06340000000000001, 5, 'entropy'],\n",
       " [0.133, 0.050000000000000044, 6, 'entropy'],\n",
       " [0.14439999999999997, 0.038000000000000034, 7, 'entropy'],\n",
       " [0.14800000000000002, 0.03300000000000003, 8, 'entropy'],\n",
       " [0.1512, 0.02739999999999998, 9, 'entropy'],\n",
       " [0.15380000000000005, 0.022399999999999975, 10, 'entropy'],\n",
       " [0.15739999999999998, 0.01859999999999995, 11, 'entropy'],\n",
       " [0.1562, 0.018399999999999972, 12, 'entropy'],\n",
       " [0.1562, 0.018199999999999994, 13, 'entropy'],\n",
       " [0.1562, 0.018199999999999994, 14, 'entropy'],\n",
       " [0.1562, 0.018199999999999994, 15, 'entropy'],\n",
       " [0.1562, 0.018199999999999994, 16, 'entropy'],\n",
       " [0.11660000000000004, 0.10880000000000001, 1, 'ginni'],\n",
       " [0.10880000000000001, 0.10419999999999996, 2, 'ginni'],\n",
       " [0.11119999999999997, 0.09340000000000004, 3, 'ginni'],\n",
       " [0.11760000000000004, 0.0766, 4, 'ginni'],\n",
       " [0.12239999999999995, 0.06259999999999999, 5, 'ginni'],\n",
       " [0.134, 0.05059999999999998, 6, 'ginni'],\n",
       " [0.14880000000000004, 0.037799999999999945, 7, 'ginni'],\n",
       " [0.15380000000000005, 0.031399999999999983, 8, 'ginni'],\n",
       " [0.15659999999999996, 0.025599999999999956, 9, 'ginni'],\n",
       " [0.15880000000000005, 0.021599999999999953, 10, 'ginni'],\n",
       " [0.16259999999999997, 0.01859999999999995, 11, 'ginni'],\n",
       " [0.1614, 0.018199999999999994, 12, 'ginni'],\n",
       " [0.1614, 0.018199999999999994, 13, 'ginni'],\n",
       " [0.1614, 0.018199999999999994, 14, 'ginni'],\n",
       " [0.1614, 0.018199999999999994, 15, 'ginni'],\n",
       " [0.1614, 0.018199999999999994, 16, 'ginni'],\n",
       " [0.11660000000000004, 0.10880000000000001, 1, 'majority'],\n",
       " [0.10880000000000001, 0.10419999999999996, 2, 'majority'],\n",
       " [0.11099999999999999, 0.09640000000000004, 3, 'majority'],\n",
       " [0.11360000000000003, 0.08499999999999996, 4, 'majority'],\n",
       " [0.11619999999999997, 0.07220000000000004, 5, 'majority'],\n",
       " [0.12180000000000002, 0.06440000000000001, 6, 'majority'],\n",
       " [0.12660000000000005, 0.056599999999999984, 7, 'majority'],\n",
       " [0.133, 0.048799999999999955, 8, 'majority'],\n",
       " [0.1352, 0.043200000000000016, 9, 'majority'],\n",
       " [0.14259999999999995, 0.035800000000000054, 10, 'majority'],\n",
       " [0.14900000000000002, 0.03080000000000005, 11, 'majority'],\n",
       " [0.15180000000000005, 0.026599999999999957, 12, 'majority'],\n",
       " [0.1542, 0.023399999999999976, 13, 'majority'],\n",
       " [0.15680000000000005, 0.02100000000000002, 14, 'majority'],\n",
       " [0.15800000000000003, 0.01880000000000004, 15, 'majority'],\n",
       " [0.1582, 0.018199999999999994, 16, 'majority']]"
      ]
     },
     "execution_count": 54,
     "metadata": {},
     "output_type": "execute_result"
    }
   ],
   "source": [
    "build_trees(16, binary_bank_train_no_unknown, binary_bank_test_no_unknown, \"y\")"
   ]
  },
  {
   "cell_type": "markdown",
   "id": "35fa938029de5762",
   "metadata": {},
   "source": [
    "Let's now make 16 trees varying form depth of 1 through 16. We will first use entropy."
   ]
  },
  {
   "cell_type": "code",
   "execution_count": 55,
   "id": "12488fa875e0791e",
   "metadata": {
    "ExecuteTime": {
     "start_time": "2023-09-23T21:07:29.686055Z"
    }
   },
   "outputs": [],
   "source": [
    "trees: list[DecisionTree] = []\n",
    "for i in range (1, 17):\n",
    "    tree: DecisionTree = DecisionTree(binary_bank_train_no_unknown)\n",
    "    tree.build(attributes=set(binary_bank_test_no_unknown.columns) - {\"y\"}, label=\"y\", splitting_criteria=tree.entropy, set_depth=i)\n",
    "    trees.append(tree)"
   ]
  },
  {
   "cell_type": "markdown",
   "id": "2f90b1e0781dddd8",
   "metadata": {},
   "source": [
    "Let's now make a prediction using the 16 trees above on the training data."
   ]
  },
  {
   "cell_type": "code",
   "execution_count": 56,
   "id": "70ab31533a448aa3",
   "metadata": {
    "ExecuteTime": {
     "start_time": "2023-09-23T21:07:29.686055Z"
    }
   },
   "outputs": [
    {
     "name": "stdout",
     "output_type": "stream",
     "text": [
      "0.11919999999999997\n",
      "0.10599999999999998\n",
      "0.1008\n",
      "0.0806\n",
      "0.06340000000000001\n",
      "0.050000000000000044\n",
      "0.038000000000000034\n",
      "0.03300000000000003\n",
      "0.02739999999999998\n",
      "0.022399999999999975\n",
      "0.01859999999999995\n",
      "0.018399999999999972\n",
      "0.018199999999999994\n",
      "0.018199999999999994\n",
      "0.018199999999999994\n",
      "0.018199999999999994\n"
     ]
    }
   ],
   "source": [
    "for tree in trees:\n",
    "    print(1 - predict_dataframe(tree, binary_bank_train_no_unknown, \"y\"))"
   ]
  },
  {
   "cell_type": "markdown",
   "id": "80712a31a2dd2048",
   "metadata": {},
   "source": [
    "Let's now make a prediction using the 16 trees above on the test data."
   ]
  },
  {
   "cell_type": "code",
   "execution_count": 57,
   "id": "1415ed475e53dd70",
   "metadata": {
    "ExecuteTime": {
     "start_time": "2023-09-23T21:07:29.686055Z"
    }
   },
   "outputs": [
    {
     "name": "stdout",
     "output_type": "stream",
     "text": [
      "0.12480000000000002\n",
      "0.11140000000000005\n",
      "0.10660000000000003\n",
      "0.11199999999999999\n",
      "0.11960000000000004\n",
      "0.133\n",
      "0.14439999999999997\n",
      "0.14800000000000002\n",
      "0.1512\n",
      "0.15380000000000005\n",
      "0.15739999999999998\n",
      "0.1562\n",
      "0.1562\n",
      "0.1562\n",
      "0.1562\n",
      "0.1562\n"
     ]
    }
   ],
   "source": [
    "for tree in trees:\n",
    "    print(1 - predict_dataframe(tree, binary_bank_test_no_unknown, \"y\"))"
   ]
  },
  {
   "cell_type": "markdown",
   "id": "17314b80c3565c98",
   "metadata": {},
   "source": [
    "Let's now make 16 trees varying form depth of 1 through 16. We will now use ginni index."
   ]
  },
  {
   "cell_type": "code",
   "execution_count": 58,
   "id": "f3cf7ef08a2e0d25",
   "metadata": {
    "ExecuteTime": {
     "start_time": "2023-09-23T21:07:29.686055Z"
    }
   },
   "outputs": [],
   "source": [
    "trees: list[DecisionTree] = []\n",
    "for i in range (1, 17):\n",
    "    tree: DecisionTree = DecisionTree(binary_bank_train_no_unknown)\n",
    "    tree.build(attributes=set(binary_bank_test_no_unknown.columns) - {\"y\"}, label=\"y\", splitting_criteria=tree.entropy, set_depth=i)\n",
    "    trees.append(tree)"
   ]
  },
  {
   "cell_type": "markdown",
   "id": "ad1ce586ad36a6ce",
   "metadata": {},
   "source": [
    "Let's now make a prediction using the 16 trees above on the training data."
   ]
  },
  {
   "cell_type": "code",
   "execution_count": 59,
   "id": "5ad2e3f25d35b816",
   "metadata": {
    "ExecuteTime": {
     "start_time": "2023-09-23T21:07:29.686055Z"
    }
   },
   "outputs": [
    {
     "name": "stdout",
     "output_type": "stream",
     "text": [
      "0.11919999999999997\n",
      "0.10599999999999998\n",
      "0.1008\n",
      "0.0806\n",
      "0.06340000000000001\n",
      "0.050000000000000044\n",
      "0.038000000000000034\n",
      "0.03300000000000003\n",
      "0.02739999999999998\n",
      "0.022399999999999975\n",
      "0.01859999999999995\n",
      "0.018399999999999972\n",
      "0.018199999999999994\n",
      "0.018199999999999994\n",
      "0.018199999999999994\n",
      "0.018199999999999994\n"
     ]
    }
   ],
   "source": [
    "for tree in trees:\n",
    "    print(1 - predict_dataframe(tree, binary_bank_train_no_unknown, \"y\"))"
   ]
  },
  {
   "cell_type": "markdown",
   "id": "7f0039c0fcfbb8cf",
   "metadata": {},
   "source": [
    "Let's now make a prediction using the 16 trees above on the test data."
   ]
  },
  {
   "cell_type": "code",
   "execution_count": 60,
   "id": "c32596bab2ea7ada",
   "metadata": {
    "ExecuteTime": {
     "start_time": "2023-09-23T21:07:29.686055Z"
    }
   },
   "outputs": [
    {
     "name": "stdout",
     "output_type": "stream",
     "text": [
      "0.12480000000000002\n",
      "0.11140000000000005\n",
      "0.10660000000000003\n",
      "0.11199999999999999\n",
      "0.11960000000000004\n",
      "0.133\n",
      "0.14439999999999997\n",
      "0.14800000000000002\n",
      "0.1512\n",
      "0.15380000000000005\n",
      "0.15739999999999998\n",
      "0.1562\n",
      "0.1562\n",
      "0.1562\n",
      "0.1562\n",
      "0.1562\n"
     ]
    }
   ],
   "source": [
    "for tree in trees:\n",
    "    print(1 - predict_dataframe(tree, binary_bank_test_no_unknown, \"y\"))"
   ]
  },
  {
   "cell_type": "markdown",
   "id": "730e3cad907f1592",
   "metadata": {},
   "source": [
    "Let's now make 16 trees varying form depth of 1 through 16. We will now use majority error."
   ]
  },
  {
   "cell_type": "code",
   "execution_count": 61,
   "id": "c490839705e9e025",
   "metadata": {
    "ExecuteTime": {
     "start_time": "2023-09-23T21:07:29.686055Z"
    }
   },
   "outputs": [],
   "source": [
    "trees: list[DecisionTree] = []\n",
    "for i in range (1, 17):\n",
    "    tree: DecisionTree = DecisionTree(binary_bank_train_no_unknown)\n",
    "    tree.build(attributes=set(binary_bank_train_no_unknown.columns) - {\"y\"}, label=\"y\", splitting_criteria=tree.majority_error, set_depth=i)\n",
    "    trees.append(tree)"
   ]
  },
  {
   "cell_type": "markdown",
   "id": "cc77f970f6785059",
   "metadata": {},
   "source": [
    "Let's now make a prediction using the 16 trees above on the train data."
   ]
  },
  {
   "cell_type": "code",
   "execution_count": 62,
   "id": "c9f8503919adad7a",
   "metadata": {
    "ExecuteTime": {
     "start_time": "2023-09-23T21:07:29.686055Z"
    }
   },
   "outputs": [
    {
     "name": "stdout",
     "output_type": "stream",
     "text": [
      "0.10880000000000001\n",
      "0.10419999999999996\n",
      "0.09640000000000004\n",
      "0.08499999999999996\n",
      "0.07220000000000004\n",
      "0.06440000000000001\n",
      "0.056599999999999984\n",
      "0.048799999999999955\n",
      "0.043200000000000016\n",
      "0.035800000000000054\n",
      "0.03080000000000005\n",
      "0.026599999999999957\n",
      "0.023399999999999976\n",
      "0.02100000000000002\n",
      "0.01880000000000004\n",
      "0.018199999999999994\n"
     ]
    }
   ],
   "source": [
    "for tree in trees:\n",
    "    print(1 - predict_dataframe(tree, binary_bank_train_no_unknown, \"y\"))"
   ]
  },
  {
   "cell_type": "markdown",
   "id": "c7cf25bae2328b7b",
   "metadata": {},
   "source": [
    "Let's now make a prediction using the 16 trees above on the test data."
   ]
  },
  {
   "cell_type": "code",
   "execution_count": 63,
   "id": "f529b19ea79be30e",
   "metadata": {
    "ExecuteTime": {
     "start_time": "2023-09-23T21:07:29.686055Z"
    }
   },
   "outputs": [
    {
     "name": "stdout",
     "output_type": "stream",
     "text": [
      "0.11660000000000004\n",
      "0.10880000000000001\n",
      "0.11099999999999999\n",
      "0.11360000000000003\n",
      "0.11619999999999997\n",
      "0.12180000000000002\n",
      "0.12660000000000005\n",
      "0.133\n",
      "0.1352\n",
      "0.14259999999999995\n",
      "0.14900000000000002\n",
      "0.15180000000000005\n",
      "0.1542\n",
      "0.15680000000000005\n",
      "0.15800000000000003\n",
      "0.1582\n"
     ]
    }
   ],
   "source": [
    "for tree in trees:\n",
    "    print(1 - predict_dataframe(tree, binary_bank_test_no_unknown, \"y\"))"
   ]
  },
  {
   "cell_type": "markdown",
   "id": "970330d9fca35287",
   "metadata": {},
   "source": [
    "### Part C\n",
    "We notice above that the trees that had the unknown value (rather than the imputed one) performed ever so slightly worse than the tress that imputed the value of the unknowns based of the error on the training and test sets. We also found that the test errors performed worse than the training errors. We also notice that both the training and test errors converge to an error percentage after a certain number of nodes. We also notice that the testing error starts higher (relatively), dips, and then rises again. This is likely due to overfitting."
   ]
  }
 ],
 "metadata": {
  "kernelspec": {
   "display_name": "Python 3 (ipykernel)",
   "language": "python",
   "name": "python3"
  },
  "language_info": {
   "codemirror_mode": {
    "name": "ipython",
    "version": 3
   },
   "file_extension": ".py",
   "mimetype": "text/x-python",
   "name": "python",
   "nbconvert_exporter": "python",
   "pygments_lexer": "ipython3",
   "version": "3.11.4"
  }
 },
 "nbformat": 4,
 "nbformat_minor": 5
}
