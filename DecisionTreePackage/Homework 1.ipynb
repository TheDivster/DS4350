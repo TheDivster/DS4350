{
 "cells": [
  {
   "cell_type": "markdown",
   "id": "9ace33a44caced6a",
   "metadata": {},
   "source": [
    "# Homework 1"
   ]
  },
  {
   "cell_type": "code",
   "execution_count": 1,
   "id": "initial_id",
   "metadata": {
    "ExecuteTime": {
     "end_time": "2023-09-23T19:15:16.400890Z",
     "start_time": "2023-09-23T19:15:15.989416Z"
    }
   },
   "outputs": [],
   "source": [
    "import pandas as pd\n",
    "from DecisionTree import DecisionTree"
   ]
  },
  {
   "cell_type": "markdown",
   "id": "8196d580987da70d",
   "metadata": {},
   "source": [
    "## Question 1\n",
    "### Part a\n",
    "Part a is done in DecisionTree.py\n",
    "\n",
    "### Part b"
   ]
  },
  {
   "cell_type": "code",
   "execution_count": 2,
   "id": "84fce659de2f3e3",
   "metadata": {
    "ExecuteTime": {
     "end_time": "2023-09-23T19:15:16.402314Z",
     "start_time": "2023-09-23T19:15:16.294790Z"
    }
   },
   "outputs": [
    {
     "data": {
      "text/plain": "  buying  maint  doors persons lug_boot safety  label\n0    low  vhigh      4       4      big    med    acc\n1    low   high  5more       4      med   high  vgood\n2  vhigh    med      2       2      big   high  unacc\n3   high   high      2       2    small   high  unacc\n4  vhigh    low      3       2      big    low  unacc",
      "text/html": "<div>\n<style scoped>\n    .dataframe tbody tr th:only-of-type {\n        vertical-align: middle;\n    }\n\n    .dataframe tbody tr th {\n        vertical-align: top;\n    }\n\n    .dataframe thead th {\n        text-align: right;\n    }\n</style>\n<table border=\"1\" class=\"dataframe\">\n  <thead>\n    <tr style=\"text-align: right;\">\n      <th></th>\n      <th>buying</th>\n      <th>maint</th>\n      <th>doors</th>\n      <th>persons</th>\n      <th>lug_boot</th>\n      <th>safety</th>\n      <th>label</th>\n    </tr>\n  </thead>\n  <tbody>\n    <tr>\n      <th>0</th>\n      <td>low</td>\n      <td>vhigh</td>\n      <td>4</td>\n      <td>4</td>\n      <td>big</td>\n      <td>med</td>\n      <td>acc</td>\n    </tr>\n    <tr>\n      <th>1</th>\n      <td>low</td>\n      <td>high</td>\n      <td>5more</td>\n      <td>4</td>\n      <td>med</td>\n      <td>high</td>\n      <td>vgood</td>\n    </tr>\n    <tr>\n      <th>2</th>\n      <td>vhigh</td>\n      <td>med</td>\n      <td>2</td>\n      <td>2</td>\n      <td>big</td>\n      <td>high</td>\n      <td>unacc</td>\n    </tr>\n    <tr>\n      <th>3</th>\n      <td>high</td>\n      <td>high</td>\n      <td>2</td>\n      <td>2</td>\n      <td>small</td>\n      <td>high</td>\n      <td>unacc</td>\n    </tr>\n    <tr>\n      <th>4</th>\n      <td>vhigh</td>\n      <td>low</td>\n      <td>3</td>\n      <td>2</td>\n      <td>big</td>\n      <td>low</td>\n      <td>unacc</td>\n    </tr>\n  </tbody>\n</table>\n</div>"
     },
     "execution_count": 2,
     "metadata": {},
     "output_type": "execute_result"
    }
   ],
   "source": [
    "car_train: pd.DataFrame = pd.read_csv(\"Car/train.csv\", names=[\"buying\", \"maint\", \"doors\", \"persons\", \"lug_boot\", \"safety\", \"label\"])\n",
    "car_train.head()"
   ]
  },
  {
   "cell_type": "code",
   "execution_count": 3,
   "id": "4096c11074769e53",
   "metadata": {
    "ExecuteTime": {
     "end_time": "2023-09-23T19:15:16.402870Z",
     "start_time": "2023-09-23T19:15:16.304336Z"
    }
   },
   "outputs": [
    {
     "data": {
      "text/plain": "    buying maint  doors persons lug_boot safety  label\n723   high  high      4    more    small    low  unacc\n724    med  high  5more    more      big    low  unacc\n725    low  high      4       2      big    med  unacc\n726  vhigh  high      2       2      med   high  unacc\n727    med   med      4    more      med   high  vgood",
      "text/html": "<div>\n<style scoped>\n    .dataframe tbody tr th:only-of-type {\n        vertical-align: middle;\n    }\n\n    .dataframe tbody tr th {\n        vertical-align: top;\n    }\n\n    .dataframe thead th {\n        text-align: right;\n    }\n</style>\n<table border=\"1\" class=\"dataframe\">\n  <thead>\n    <tr style=\"text-align: right;\">\n      <th></th>\n      <th>buying</th>\n      <th>maint</th>\n      <th>doors</th>\n      <th>persons</th>\n      <th>lug_boot</th>\n      <th>safety</th>\n      <th>label</th>\n    </tr>\n  </thead>\n  <tbody>\n    <tr>\n      <th>723</th>\n      <td>high</td>\n      <td>high</td>\n      <td>4</td>\n      <td>more</td>\n      <td>small</td>\n      <td>low</td>\n      <td>unacc</td>\n    </tr>\n    <tr>\n      <th>724</th>\n      <td>med</td>\n      <td>high</td>\n      <td>5more</td>\n      <td>more</td>\n      <td>big</td>\n      <td>low</td>\n      <td>unacc</td>\n    </tr>\n    <tr>\n      <th>725</th>\n      <td>low</td>\n      <td>high</td>\n      <td>4</td>\n      <td>2</td>\n      <td>big</td>\n      <td>med</td>\n      <td>unacc</td>\n    </tr>\n    <tr>\n      <th>726</th>\n      <td>vhigh</td>\n      <td>high</td>\n      <td>2</td>\n      <td>2</td>\n      <td>med</td>\n      <td>high</td>\n      <td>unacc</td>\n    </tr>\n    <tr>\n      <th>727</th>\n      <td>med</td>\n      <td>med</td>\n      <td>4</td>\n      <td>more</td>\n      <td>med</td>\n      <td>high</td>\n      <td>vgood</td>\n    </tr>\n  </tbody>\n</table>\n</div>"
     },
     "execution_count": 3,
     "metadata": {},
     "output_type": "execute_result"
    }
   ],
   "source": [
    "car_test: pd.DataFrame = pd.read_csv(\"Car/test.csv\", names=[\"buying\", \"maint\", \"doors\", \"persons\", \"lug_boot\", \"safety\", \"label\"])\n",
    "car_test.tail()"
   ]
  },
  {
   "cell_type": "markdown",
   "id": "a90095bd6d3295aa",
   "metadata": {},
   "source": [
    "Below is a helper function that will come in handy for predicting accuracy for large batches of data."
   ]
  },
  {
   "cell_type": "code",
   "execution_count": 4,
   "id": "a04f0ffc963d528f",
   "metadata": {
    "ExecuteTime": {
     "end_time": "2023-09-23T19:15:16.402989Z",
     "start_time": "2023-09-23T19:15:16.310194Z"
    }
   },
   "outputs": [],
   "source": [
    "def predict_dataframe(model: DecisionTree, test_data: pd.DataFrame, label: str) -> float:\n",
    "    accuracy_count: int = 0 # represents the count of correct predictions\n",
    "    for j in range(test_data.shape[0]):\n",
    "        if model.predict(test_data, j) == test_data[label].iloc[j]:\n",
    "            accuracy_count += 1\n",
    "    return accuracy_count / test_data.shape[0]\n"
   ]
  },
  {
   "cell_type": "markdown",
   "id": "1d7de3149614603c",
   "metadata": {},
   "source": [
    "Helper to build trees in tabular format."
   ]
  },
  {
   "cell_type": "code",
   "execution_count": 5,
   "id": "8322f74347d7c002",
   "metadata": {
    "ExecuteTime": {
     "end_time": "2023-09-23T19:15:16.403130Z",
     "start_time": "2023-09-23T19:15:16.314829Z"
    }
   },
   "outputs": [],
   "source": [
    "def build_trees(depth: int, train: pd.DataFrame, test: pd.DataFrame, label: str) -> pd.DataFrame:\n",
    "    output_df: pd.DataFrame = pd.DataFrame(columns=[\"error_test\", \"error_train\", \"depth\", \"purity\"])\n",
    "    for i in range (depth, 0, - 1):\n",
    "        tree: DecisionTree = DecisionTree(train)\n",
    "        tree.build(attributes=set(train.columns) - {label}, label=\"label\", splitting_criteria=tree.entropy, set_depth=i)\n",
    "        output_df.loc[-1] = [1 - predict_dataframe(tree, test, label), 1 - predict_dataframe(tree, train, label), i,\n",
    "                            \"entropy\"]\n",
    "        output_df.index = output_df.index + 1  # shifting index\n",
    "        output_df = output_df.sort_index()\n",
    "        \n",
    "    for i in range (depth, 0, - 1):\n",
    "        tree: DecisionTree = DecisionTree(car_train)\n",
    "        tree.build(attributes=set(car_train.columns) - {\"label\"}, label=\"label\", splitting_criteria=tree.ginni_index, set_depth=i)\n",
    "        output_df.loc[-1] = [1 - predict_dataframe(tree, test, label), 1 - predict_dataframe(tree, train, label), i,\n",
    "                            \"ginni\"]\n",
    "        output_df.index = output_df.index + 1  # shifting index\n",
    "        output_df = output_df.sort_index()\n",
    "    for i in range (depth, 0, - 1):\n",
    "        tree: DecisionTree = DecisionTree(car_train)\n",
    "        tree.build(attributes=set(car_train.columns) - {\"label\"}, label=\"label\", splitting_criteria=tree.majority_error, set_depth=i)\n",
    "        output_df.loc[-1] = [1 - predict_dataframe(tree, test, label), 1 - predict_dataframe(tree, train, label), i,\n",
    "                            \"majority\"]\n",
    "        output_df.index = output_df.index + 1  # shifting index\n",
    "        output_df = output_df.sort_index()\n",
    "    return output_df\n",
    "    "
   ]
  },
  {
   "cell_type": "markdown",
   "id": "86462d716d27cdb6",
   "metadata": {},
   "source": []
  },
  {
   "cell_type": "markdown",
   "id": "8f5b080e1e2553cc",
   "metadata": {},
   "source": [
    "Lets build out table for cars"
   ]
  },
  {
   "cell_type": "code",
   "execution_count": 6,
   "id": "bdb918ccc96fdfc4",
   "metadata": {
    "ExecuteTime": {
     "end_time": "2023-09-23T19:15:18.419566Z",
     "start_time": "2023-09-23T19:15:16.317893Z"
    }
   },
   "outputs": [
    {
     "data": {
      "text/plain": "    error_test  error_train  depth    purity\n0     0.296703        0.302      1  majority\n1     0.222527        0.222      2  majority\n2     0.186813        0.174      3  majority\n3     0.134615        0.089      4  majority\n4     0.086538        0.031      5  majority\n5     0.086538        0.000      6  majority\n6     0.296703        0.302      1     ginni\n7     0.222527        0.222      2     ginni\n8     0.184066        0.176      3     ginni\n9     0.137363        0.089      4     ginni\n10    0.081044        0.027      5     ginni\n11    0.081044        0.000      6     ginni\n12    0.296703        0.302      1   entropy\n13    0.222527        0.222      2   entropy\n14    0.196429        0.181      3   entropy\n15    0.151099        0.082      4   entropy\n16    0.081044        0.027      5   entropy\n17    0.081044        0.000      6   entropy",
      "text/html": "<div>\n<style scoped>\n    .dataframe tbody tr th:only-of-type {\n        vertical-align: middle;\n    }\n\n    .dataframe tbody tr th {\n        vertical-align: top;\n    }\n\n    .dataframe thead th {\n        text-align: right;\n    }\n</style>\n<table border=\"1\" class=\"dataframe\">\n  <thead>\n    <tr style=\"text-align: right;\">\n      <th></th>\n      <th>error_test</th>\n      <th>error_train</th>\n      <th>depth</th>\n      <th>purity</th>\n    </tr>\n  </thead>\n  <tbody>\n    <tr>\n      <th>0</th>\n      <td>0.296703</td>\n      <td>0.302</td>\n      <td>1</td>\n      <td>majority</td>\n    </tr>\n    <tr>\n      <th>1</th>\n      <td>0.222527</td>\n      <td>0.222</td>\n      <td>2</td>\n      <td>majority</td>\n    </tr>\n    <tr>\n      <th>2</th>\n      <td>0.186813</td>\n      <td>0.174</td>\n      <td>3</td>\n      <td>majority</td>\n    </tr>\n    <tr>\n      <th>3</th>\n      <td>0.134615</td>\n      <td>0.089</td>\n      <td>4</td>\n      <td>majority</td>\n    </tr>\n    <tr>\n      <th>4</th>\n      <td>0.086538</td>\n      <td>0.031</td>\n      <td>5</td>\n      <td>majority</td>\n    </tr>\n    <tr>\n      <th>5</th>\n      <td>0.086538</td>\n      <td>0.000</td>\n      <td>6</td>\n      <td>majority</td>\n    </tr>\n    <tr>\n      <th>6</th>\n      <td>0.296703</td>\n      <td>0.302</td>\n      <td>1</td>\n      <td>ginni</td>\n    </tr>\n    <tr>\n      <th>7</th>\n      <td>0.222527</td>\n      <td>0.222</td>\n      <td>2</td>\n      <td>ginni</td>\n    </tr>\n    <tr>\n      <th>8</th>\n      <td>0.184066</td>\n      <td>0.176</td>\n      <td>3</td>\n      <td>ginni</td>\n    </tr>\n    <tr>\n      <th>9</th>\n      <td>0.137363</td>\n      <td>0.089</td>\n      <td>4</td>\n      <td>ginni</td>\n    </tr>\n    <tr>\n      <th>10</th>\n      <td>0.081044</td>\n      <td>0.027</td>\n      <td>5</td>\n      <td>ginni</td>\n    </tr>\n    <tr>\n      <th>11</th>\n      <td>0.081044</td>\n      <td>0.000</td>\n      <td>6</td>\n      <td>ginni</td>\n    </tr>\n    <tr>\n      <th>12</th>\n      <td>0.296703</td>\n      <td>0.302</td>\n      <td>1</td>\n      <td>entropy</td>\n    </tr>\n    <tr>\n      <th>13</th>\n      <td>0.222527</td>\n      <td>0.222</td>\n      <td>2</td>\n      <td>entropy</td>\n    </tr>\n    <tr>\n      <th>14</th>\n      <td>0.196429</td>\n      <td>0.181</td>\n      <td>3</td>\n      <td>entropy</td>\n    </tr>\n    <tr>\n      <th>15</th>\n      <td>0.151099</td>\n      <td>0.082</td>\n      <td>4</td>\n      <td>entropy</td>\n    </tr>\n    <tr>\n      <th>16</th>\n      <td>0.081044</td>\n      <td>0.027</td>\n      <td>5</td>\n      <td>entropy</td>\n    </tr>\n    <tr>\n      <th>17</th>\n      <td>0.081044</td>\n      <td>0.000</td>\n      <td>6</td>\n      <td>entropy</td>\n    </tr>\n  </tbody>\n</table>\n</div>"
     },
     "execution_count": 6,
     "metadata": {},
     "output_type": "execute_result"
    }
   ],
   "source": [
    "build_trees(6, car_train, car_test, \"label\")"
   ]
  },
  {
   "cell_type": "markdown",
   "id": "df2fde506530c4cb",
   "metadata": {},
   "source": [
    "Let's first build the trees varying from depth 1 to depth 6 for entropy as the splitting criterion."
   ]
  },
  {
   "cell_type": "code",
   "execution_count": 7,
   "id": "b2f73ea9b7c0f4dd",
   "metadata": {
    "ExecuteTime": {
     "end_time": "2023-09-23T19:15:18.795162Z",
     "start_time": "2023-09-23T19:15:18.417012Z"
    }
   },
   "outputs": [],
   "source": [
    "trees: list[DecisionTree] = []\n",
    "for i in range (1, 7):\n",
    "    tree: DecisionTree = DecisionTree(car_train)\n",
    "    tree.build(attributes=set(car_train.columns) - {\"label\"}, label=\"label\", splitting_criteria=tree.entropy, set_depth=i)\n",
    "    trees.append(tree)"
   ]
  },
  {
   "cell_type": "markdown",
   "id": "44f20dff8cf0743d",
   "metadata": {},
   "source": [
    "Below is the sequentially printed output for depths 1 though 6 for entropy as the splitting criteria. The predictions are for the test data in test.csv."
   ]
  },
  {
   "cell_type": "code",
   "execution_count": 8,
   "id": "90717302871b4877",
   "metadata": {
    "ExecuteTime": {
     "end_time": "2023-09-23T19:15:18.904967Z",
     "start_time": "2023-09-23T19:15:18.816782Z"
    }
   },
   "outputs": [
    {
     "name": "stdout",
     "output_type": "stream",
     "text": [
      "0.29670329670329665\n",
      "0.22252747252747251\n",
      "0.1964285714285714\n",
      "0.15109890109890112\n",
      "0.08104395604395609\n",
      "0.08104395604395609\n"
     ]
    }
   ],
   "source": [
    "for tree in trees:\n",
    "    print(1 - predict_dataframe(tree, car_test, \"label\"))"
   ]
  },
  {
   "cell_type": "markdown",
   "id": "b74a2b546b5af7cd",
   "metadata": {},
   "source": [
    "Below is the sequentially printed output for depths 1 though 6 for entropy as the splitting criteria. The predictions are for the train data in train.csv."
   ]
  },
  {
   "cell_type": "code",
   "execution_count": 9,
   "id": "c9333c9317d3c21b",
   "metadata": {
    "ExecuteTime": {
     "end_time": "2023-09-23T19:15:19.044137Z",
     "start_time": "2023-09-23T19:15:18.913055Z"
    }
   },
   "outputs": [
    {
     "name": "stdout",
     "output_type": "stream",
     "text": [
      "0.30200000000000005\n",
      "0.22199999999999998\n",
      "0.18100000000000005\n",
      "0.08199999999999996\n",
      "0.027000000000000024\n",
      "0.0\n"
     ]
    }
   ],
   "source": [
    "for tree in trees:\n",
    "    print(1 - predict_dataframe(tree, car_train, \"label\"))"
   ]
  },
  {
   "cell_type": "markdown",
   "id": "68070bd63a9dc18e",
   "metadata": {},
   "source": [
    "Let's build the trees varying from depth 1 to depth 6 for ginni_index as the splitting criterion."
   ]
  },
  {
   "cell_type": "code",
   "execution_count": 10,
   "id": "74b7b377f762975c",
   "metadata": {
    "ExecuteTime": {
     "end_time": "2023-09-23T19:15:19.451998Z",
     "start_time": "2023-09-23T19:15:19.044875Z"
    }
   },
   "outputs": [],
   "source": [
    "trees: list[DecisionTree] = []\n",
    "for i in range (1, 7):\n",
    "    tree: DecisionTree = DecisionTree(car_train)\n",
    "    tree.build(attributes=set(car_train.columns) - {\"label\"}, label=\"label\", splitting_criteria=tree.ginni_index, set_depth=i)\n",
    "    trees.append(tree)"
   ]
  },
  {
   "cell_type": "markdown",
   "id": "bdac33b0ba042d7b",
   "metadata": {},
   "source": [
    "Below is the sequentially printed output for depths 1 though 6 for ginni index as the splitting criteria. The predictions are for the test data in test.csv."
   ]
  },
  {
   "cell_type": "code",
   "execution_count": 11,
   "id": "46250a43ac023f32",
   "metadata": {
    "ExecuteTime": {
     "end_time": "2023-09-23T19:15:19.554627Z",
     "start_time": "2023-09-23T19:15:19.464791Z"
    }
   },
   "outputs": [
    {
     "name": "stdout",
     "output_type": "stream",
     "text": [
      "0.29670329670329665\n",
      "0.22252747252747251\n",
      "0.18406593406593408\n",
      "0.13736263736263732\n",
      "0.08104395604395609\n",
      "0.08104395604395609\n"
     ]
    }
   ],
   "source": [
    "for tree in trees:\n",
    "    print(1 - predict_dataframe(tree, car_test, \"label\"))"
   ]
  },
  {
   "cell_type": "markdown",
   "id": "a15393d1b7651ef8",
   "metadata": {},
   "source": [
    "Below is the sequentially printed output for depths 1 though 6 for ginni index as the splitting criteria. The predictions are for the train data in train.csv."
   ]
  },
  {
   "cell_type": "code",
   "execution_count": 12,
   "id": "8c768796af39827f",
   "metadata": {
    "ExecuteTime": {
     "end_time": "2023-09-23T19:15:19.699206Z",
     "start_time": "2023-09-23T19:15:19.567006Z"
    }
   },
   "outputs": [
    {
     "name": "stdout",
     "output_type": "stream",
     "text": [
      "0.30200000000000005\n",
      "0.22199999999999998\n",
      "0.17600000000000005\n",
      "0.08899999999999997\n",
      "0.027000000000000024\n",
      "0.0\n"
     ]
    }
   ],
   "source": [
    "for tree in trees:\n",
    "    print(1 - predict_dataframe(tree, car_train, \"label\"))"
   ]
  },
  {
   "cell_type": "markdown",
   "id": "62e899fcf0cedd27",
   "metadata": {},
   "source": [
    "Let's build the trees varying from depth 1 to depth 6 for ginni_index as the splitting criterion."
   ]
  },
  {
   "cell_type": "code",
   "execution_count": 13,
   "id": "fa50b9569bc881e2",
   "metadata": {
    "ExecuteTime": {
     "end_time": "2023-09-23T19:15:20.306640Z",
     "start_time": "2023-09-23T19:15:19.702084Z"
    }
   },
   "outputs": [],
   "source": [
    "trees: list[DecisionTree] = []\n",
    "for i in range (1, 7):\n",
    "    tree: DecisionTree = DecisionTree(car_train)\n",
    "    tree.build(attributes=set(car_train.columns) - {\"label\"}, label=\"label\", splitting_criteria=tree.majority_error, set_depth=i)\n",
    "    trees.append(tree)"
   ]
  },
  {
   "cell_type": "markdown",
   "id": "faed70dce842cdbb",
   "metadata": {},
   "source": [
    "Below is the sequentially printed output for depths 1 though 6 for majority error as the splitting criteria. The predictions are for the test data in test.csv."
   ]
  },
  {
   "cell_type": "code",
   "execution_count": 14,
   "id": "c0ff563a915499b5",
   "metadata": {
    "ExecuteTime": {
     "end_time": "2023-09-23T19:15:20.415453Z",
     "start_time": "2023-09-23T19:15:20.362160Z"
    }
   },
   "outputs": [
    {
     "name": "stdout",
     "output_type": "stream",
     "text": [
      "0.29670329670329665\n",
      "0.22252747252747251\n",
      "0.18681318681318682\n",
      "0.13461538461538458\n",
      "0.08653846153846156\n",
      "0.08653846153846156\n"
     ]
    }
   ],
   "source": [
    "for tree in trees:\n",
    "    print(1 - predict_dataframe(tree, car_test, \"label\"))"
   ]
  },
  {
   "cell_type": "markdown",
   "id": "459b839e66741cad",
   "metadata": {},
   "source": [
    "Below is the sequentially printed output for depths 1 though 6 for majority error as the splitting criteria. The predictions are for the train data in train.csv."
   ]
  },
  {
   "cell_type": "code",
   "execution_count": 15,
   "id": "fdd2a9f7d2144e48",
   "metadata": {
    "ExecuteTime": {
     "end_time": "2023-09-23T19:15:20.559982Z",
     "start_time": "2023-09-23T19:15:20.428904Z"
    }
   },
   "outputs": [
    {
     "name": "stdout",
     "output_type": "stream",
     "text": [
      "0.30200000000000005\n",
      "0.22199999999999998\n",
      "0.17400000000000004\n",
      "0.08899999999999997\n",
      "0.031000000000000028\n",
      "0.0\n"
     ]
    }
   ],
   "source": [
    "for tree in trees:\n",
    "    print(1 - predict_dataframe(tree, car_train, \"label\"))"
   ]
  },
  {
   "cell_type": "markdown",
   "id": "e8a969c781301a4f",
   "metadata": {},
   "source": [
    "### Part c\n",
    "Looking at the results calculated above, we can see that as the depth of the tree increased, we saw a decrease in misclassification. However, all heuristics showed no significant decrease in misclassification after a point (tree depth = 5). This is due to the tree already reaching its max depth, so, setting the depth to a higher number won't change how the tree would classify points. In addition, we notice that at tree depth 6, all heuristics completely fit the training data even though there is about an 8% misclassificatin on the test data."
   ]
  },
  {
   "cell_type": "markdown",
   "id": "4c436306716273e1",
   "metadata": {},
   "source": [
    "## Question 3\n",
    "Let's first load our data set."
   ]
  },
  {
   "cell_type": "code",
   "execution_count": 16,
   "id": "6695099c9ea085a4",
   "metadata": {
    "ExecuteTime": {
     "end_time": "2023-09-23T19:15:20.576644Z",
     "start_time": "2023-09-23T19:15:20.561443Z"
    }
   },
   "outputs": [
    {
     "data": {
      "text/plain": "   age          job  marital  education default  balance housing loan  \\\n0   41     services  married  secondary      no        0     yes   no   \n1   48  blue-collar   single  secondary      no      312     yes  yes   \n2   55   technician  married  secondary      no     1938      no  yes   \n3   54       admin.  married   tertiary      no       59     yes   no   \n4   34   management   single   tertiary      no     2646      no   no   \n\n    contact  day month  duration  campaign  pdays  previous poutcome    y  \n0   unknown    5   may       114         2     -1         0  unknown   no  \n1  cellular    3   feb       369         2     -1         0  unknown   no  \n2  cellular   18   aug       193         1    386         3  success  yes  \n3  cellular   10   jul       268         1     -1         0  unknown   no  \n4  cellular   14   apr       142         1     -1         0  unknown  yes  ",
      "text/html": "<div>\n<style scoped>\n    .dataframe tbody tr th:only-of-type {\n        vertical-align: middle;\n    }\n\n    .dataframe tbody tr th {\n        vertical-align: top;\n    }\n\n    .dataframe thead th {\n        text-align: right;\n    }\n</style>\n<table border=\"1\" class=\"dataframe\">\n  <thead>\n    <tr style=\"text-align: right;\">\n      <th></th>\n      <th>age</th>\n      <th>job</th>\n      <th>marital</th>\n      <th>education</th>\n      <th>default</th>\n      <th>balance</th>\n      <th>housing</th>\n      <th>loan</th>\n      <th>contact</th>\n      <th>day</th>\n      <th>month</th>\n      <th>duration</th>\n      <th>campaign</th>\n      <th>pdays</th>\n      <th>previous</th>\n      <th>poutcome</th>\n      <th>y</th>\n    </tr>\n  </thead>\n  <tbody>\n    <tr>\n      <th>0</th>\n      <td>41</td>\n      <td>services</td>\n      <td>married</td>\n      <td>secondary</td>\n      <td>no</td>\n      <td>0</td>\n      <td>yes</td>\n      <td>no</td>\n      <td>unknown</td>\n      <td>5</td>\n      <td>may</td>\n      <td>114</td>\n      <td>2</td>\n      <td>-1</td>\n      <td>0</td>\n      <td>unknown</td>\n      <td>no</td>\n    </tr>\n    <tr>\n      <th>1</th>\n      <td>48</td>\n      <td>blue-collar</td>\n      <td>single</td>\n      <td>secondary</td>\n      <td>no</td>\n      <td>312</td>\n      <td>yes</td>\n      <td>yes</td>\n      <td>cellular</td>\n      <td>3</td>\n      <td>feb</td>\n      <td>369</td>\n      <td>2</td>\n      <td>-1</td>\n      <td>0</td>\n      <td>unknown</td>\n      <td>no</td>\n    </tr>\n    <tr>\n      <th>2</th>\n      <td>55</td>\n      <td>technician</td>\n      <td>married</td>\n      <td>secondary</td>\n      <td>no</td>\n      <td>1938</td>\n      <td>no</td>\n      <td>yes</td>\n      <td>cellular</td>\n      <td>18</td>\n      <td>aug</td>\n      <td>193</td>\n      <td>1</td>\n      <td>386</td>\n      <td>3</td>\n      <td>success</td>\n      <td>yes</td>\n    </tr>\n    <tr>\n      <th>3</th>\n      <td>54</td>\n      <td>admin.</td>\n      <td>married</td>\n      <td>tertiary</td>\n      <td>no</td>\n      <td>59</td>\n      <td>yes</td>\n      <td>no</td>\n      <td>cellular</td>\n      <td>10</td>\n      <td>jul</td>\n      <td>268</td>\n      <td>1</td>\n      <td>-1</td>\n      <td>0</td>\n      <td>unknown</td>\n      <td>no</td>\n    </tr>\n    <tr>\n      <th>4</th>\n      <td>34</td>\n      <td>management</td>\n      <td>single</td>\n      <td>tertiary</td>\n      <td>no</td>\n      <td>2646</td>\n      <td>no</td>\n      <td>no</td>\n      <td>cellular</td>\n      <td>14</td>\n      <td>apr</td>\n      <td>142</td>\n      <td>1</td>\n      <td>-1</td>\n      <td>0</td>\n      <td>unknown</td>\n      <td>yes</td>\n    </tr>\n  </tbody>\n</table>\n</div>"
     },
     "execution_count": 16,
     "metadata": {},
     "output_type": "execute_result"
    }
   ],
   "source": [
    "bank_train = pd.read_csv(\"bank/train.csv\", names=[\"age\", \"job\", \"marital\", \"education\", \"default\", \"balance\", \"housing\", \"loan\", \"contact\", \"day\", \"month\", \"duration\", \"campaign\", \"pdays\", \"previous\", \"poutcome\", \"y\"])\n",
    "bank_train.head()"
   ]
  },
  {
   "cell_type": "code",
   "execution_count": 17,
   "id": "2261766709819d1d",
   "metadata": {
    "ExecuteTime": {
     "end_time": "2023-09-23T19:15:20.611911Z",
     "start_time": "2023-09-23T19:15:20.574025Z"
    }
   },
   "outputs": [
    {
     "data": {
      "text/plain": "   age           job  marital  education default  balance housing loan  \\\n0   41    management   single  secondary      no      764      no   no   \n1   39   blue-collar  married  secondary      no       49     yes   no   \n2   60       retired  married    primary      no        0      no   no   \n3   31  entrepreneur   single   tertiary      no      247     yes  yes   \n4   26       student   single    unknown      no     2020      no   no   \n\n     contact  day month  duration  campaign  pdays  previous poutcome   y  \n0   cellular   12   jun       230         2     -1         0  unknown  no  \n1   cellular   14   may       566         1    370         2  failure  no  \n2  telephone   30   jul       130         3     -1         0  unknown  no  \n3    unknown    2   jun       273         1     -1         0  unknown  no  \n4  telephone   28   jan        42         3     -1         0  unknown  no  ",
      "text/html": "<div>\n<style scoped>\n    .dataframe tbody tr th:only-of-type {\n        vertical-align: middle;\n    }\n\n    .dataframe tbody tr th {\n        vertical-align: top;\n    }\n\n    .dataframe thead th {\n        text-align: right;\n    }\n</style>\n<table border=\"1\" class=\"dataframe\">\n  <thead>\n    <tr style=\"text-align: right;\">\n      <th></th>\n      <th>age</th>\n      <th>job</th>\n      <th>marital</th>\n      <th>education</th>\n      <th>default</th>\n      <th>balance</th>\n      <th>housing</th>\n      <th>loan</th>\n      <th>contact</th>\n      <th>day</th>\n      <th>month</th>\n      <th>duration</th>\n      <th>campaign</th>\n      <th>pdays</th>\n      <th>previous</th>\n      <th>poutcome</th>\n      <th>y</th>\n    </tr>\n  </thead>\n  <tbody>\n    <tr>\n      <th>0</th>\n      <td>41</td>\n      <td>management</td>\n      <td>single</td>\n      <td>secondary</td>\n      <td>no</td>\n      <td>764</td>\n      <td>no</td>\n      <td>no</td>\n      <td>cellular</td>\n      <td>12</td>\n      <td>jun</td>\n      <td>230</td>\n      <td>2</td>\n      <td>-1</td>\n      <td>0</td>\n      <td>unknown</td>\n      <td>no</td>\n    </tr>\n    <tr>\n      <th>1</th>\n      <td>39</td>\n      <td>blue-collar</td>\n      <td>married</td>\n      <td>secondary</td>\n      <td>no</td>\n      <td>49</td>\n      <td>yes</td>\n      <td>no</td>\n      <td>cellular</td>\n      <td>14</td>\n      <td>may</td>\n      <td>566</td>\n      <td>1</td>\n      <td>370</td>\n      <td>2</td>\n      <td>failure</td>\n      <td>no</td>\n    </tr>\n    <tr>\n      <th>2</th>\n      <td>60</td>\n      <td>retired</td>\n      <td>married</td>\n      <td>primary</td>\n      <td>no</td>\n      <td>0</td>\n      <td>no</td>\n      <td>no</td>\n      <td>telephone</td>\n      <td>30</td>\n      <td>jul</td>\n      <td>130</td>\n      <td>3</td>\n      <td>-1</td>\n      <td>0</td>\n      <td>unknown</td>\n      <td>no</td>\n    </tr>\n    <tr>\n      <th>3</th>\n      <td>31</td>\n      <td>entrepreneur</td>\n      <td>single</td>\n      <td>tertiary</td>\n      <td>no</td>\n      <td>247</td>\n      <td>yes</td>\n      <td>yes</td>\n      <td>unknown</td>\n      <td>2</td>\n      <td>jun</td>\n      <td>273</td>\n      <td>1</td>\n      <td>-1</td>\n      <td>0</td>\n      <td>unknown</td>\n      <td>no</td>\n    </tr>\n    <tr>\n      <th>4</th>\n      <td>26</td>\n      <td>student</td>\n      <td>single</td>\n      <td>unknown</td>\n      <td>no</td>\n      <td>2020</td>\n      <td>no</td>\n      <td>no</td>\n      <td>telephone</td>\n      <td>28</td>\n      <td>jan</td>\n      <td>42</td>\n      <td>3</td>\n      <td>-1</td>\n      <td>0</td>\n      <td>unknown</td>\n      <td>no</td>\n    </tr>\n  </tbody>\n</table>\n</div>"
     },
     "execution_count": 17,
     "metadata": {},
     "output_type": "execute_result"
    }
   ],
   "source": [
    "bank_test = pd.read_csv(\"bank/test.csv\", names=[\"age\", \"job\", \"marital\", \"education\", \"default\", \"balance\", \"housing\", \"loan\", \"contact\", \"day\", \"month\", \"duration\", \"campaign\", \"pdays\", \"previous\", \"poutcome\", \"y\"])\n",
    "bank_test.head()"
   ]
  },
  {
   "cell_type": "markdown",
   "id": "6f1ba979454431f9",
   "metadata": {},
   "source": [
    "### Part A"
   ]
  },
  {
   "cell_type": "code",
   "execution_count": 18,
   "id": "d809c182736292f0",
   "metadata": {
    "ExecuteTime": {
     "end_time": "2023-09-23T19:15:20.612194Z",
     "start_time": "2023-09-23T19:15:20.586327Z"
    }
   },
   "outputs": [],
   "source": [
    "def make_numerical_attributes_binary(data):\n",
    "    column_types: dict[str, str] = data.dtypes.to_dict()\n",
    "    for column in column_types:\n",
    "        if column_types[column] == \"int64\" or column_types[column] == \"float64\":\n",
    "            data[column] = data[column].apply(lambda x: x >= data[column].median())"
   ]
  },
  {
   "cell_type": "markdown",
   "id": "b507236477fe01f1",
   "metadata": {},
   "source": [
    "Let's use a modified dataframe with binary attributes called binary_bank_test."
   ]
  },
  {
   "cell_type": "code",
   "execution_count": 19,
   "id": "f84f5b5a0650e5ed",
   "metadata": {
    "ExecuteTime": {
     "end_time": "2023-09-23T19:15:21.192254Z",
     "start_time": "2023-09-23T19:15:20.589009Z"
    }
   },
   "outputs": [
    {
     "data": {
      "text/plain": "     age           job  marital  education default  balance housing loan  \\\n0   True    management   single  secondary      no     True      no   no   \n1   True   blue-collar  married  secondary      no    False     yes   no   \n2   True       retired  married    primary      no    False      no   no   \n3  False  entrepreneur   single   tertiary      no    False     yes  yes   \n4  False       student   single    unknown      no     True      no   no   \n\n     contact    day month  duration  campaign  pdays  previous poutcome   y  \n0   cellular  False   jun      True      True   True      True  unknown  no  \n1   cellular  False   may      True     False   True      True  failure  no  \n2  telephone   True   jul     False      True   True      True  unknown  no  \n3    unknown  False   jun      True     False   True      True  unknown  no  \n4  telephone   True   jan     False      True   True      True  unknown  no  ",
      "text/html": "<div>\n<style scoped>\n    .dataframe tbody tr th:only-of-type {\n        vertical-align: middle;\n    }\n\n    .dataframe tbody tr th {\n        vertical-align: top;\n    }\n\n    .dataframe thead th {\n        text-align: right;\n    }\n</style>\n<table border=\"1\" class=\"dataframe\">\n  <thead>\n    <tr style=\"text-align: right;\">\n      <th></th>\n      <th>age</th>\n      <th>job</th>\n      <th>marital</th>\n      <th>education</th>\n      <th>default</th>\n      <th>balance</th>\n      <th>housing</th>\n      <th>loan</th>\n      <th>contact</th>\n      <th>day</th>\n      <th>month</th>\n      <th>duration</th>\n      <th>campaign</th>\n      <th>pdays</th>\n      <th>previous</th>\n      <th>poutcome</th>\n      <th>y</th>\n    </tr>\n  </thead>\n  <tbody>\n    <tr>\n      <th>0</th>\n      <td>True</td>\n      <td>management</td>\n      <td>single</td>\n      <td>secondary</td>\n      <td>no</td>\n      <td>True</td>\n      <td>no</td>\n      <td>no</td>\n      <td>cellular</td>\n      <td>False</td>\n      <td>jun</td>\n      <td>True</td>\n      <td>True</td>\n      <td>True</td>\n      <td>True</td>\n      <td>unknown</td>\n      <td>no</td>\n    </tr>\n    <tr>\n      <th>1</th>\n      <td>True</td>\n      <td>blue-collar</td>\n      <td>married</td>\n      <td>secondary</td>\n      <td>no</td>\n      <td>False</td>\n      <td>yes</td>\n      <td>no</td>\n      <td>cellular</td>\n      <td>False</td>\n      <td>may</td>\n      <td>True</td>\n      <td>False</td>\n      <td>True</td>\n      <td>True</td>\n      <td>failure</td>\n      <td>no</td>\n    </tr>\n    <tr>\n      <th>2</th>\n      <td>True</td>\n      <td>retired</td>\n      <td>married</td>\n      <td>primary</td>\n      <td>no</td>\n      <td>False</td>\n      <td>no</td>\n      <td>no</td>\n      <td>telephone</td>\n      <td>True</td>\n      <td>jul</td>\n      <td>False</td>\n      <td>True</td>\n      <td>True</td>\n      <td>True</td>\n      <td>unknown</td>\n      <td>no</td>\n    </tr>\n    <tr>\n      <th>3</th>\n      <td>False</td>\n      <td>entrepreneur</td>\n      <td>single</td>\n      <td>tertiary</td>\n      <td>no</td>\n      <td>False</td>\n      <td>yes</td>\n      <td>yes</td>\n      <td>unknown</td>\n      <td>False</td>\n      <td>jun</td>\n      <td>True</td>\n      <td>False</td>\n      <td>True</td>\n      <td>True</td>\n      <td>unknown</td>\n      <td>no</td>\n    </tr>\n    <tr>\n      <th>4</th>\n      <td>False</td>\n      <td>student</td>\n      <td>single</td>\n      <td>unknown</td>\n      <td>no</td>\n      <td>True</td>\n      <td>no</td>\n      <td>no</td>\n      <td>telephone</td>\n      <td>True</td>\n      <td>jan</td>\n      <td>False</td>\n      <td>True</td>\n      <td>True</td>\n      <td>True</td>\n      <td>unknown</td>\n      <td>no</td>\n    </tr>\n  </tbody>\n</table>\n</div>"
     },
     "execution_count": 19,
     "metadata": {},
     "output_type": "execute_result"
    }
   ],
   "source": [
    "binary_bank_test: pd.DataFrame = bank_test[:]\n",
    "pd.DataFrame = make_numerical_attributes_binary(binary_bank_test)\n",
    "binary_bank_test.head()"
   ]
  },
  {
   "cell_type": "code",
   "execution_count": 20,
   "id": "bf77fe5fc9d94e83",
   "metadata": {
    "ExecuteTime": {
     "end_time": "2023-09-23T19:15:21.724462Z",
     "start_time": "2023-09-23T19:15:21.181608Z"
    }
   },
   "outputs": [
    {
     "data": {
      "text/plain": "     age          job  marital  education default  balance housing loan  \\\n0   True     services  married  secondary      no    False     yes   no   \n1   True  blue-collar   single  secondary      no    False     yes  yes   \n2   True   technician  married  secondary      no     True      no  yes   \n3   True       admin.  married   tertiary      no    False     yes   no   \n4  False   management   single   tertiary      no     True      no   no   \n\n    contact    day month  duration  campaign  pdays  previous poutcome    y  \n0   unknown  False   may     False      True   True      True  unknown   no  \n1  cellular  False   feb      True      True   True      True  unknown   no  \n2  cellular   True   aug      True     False   True      True  success  yes  \n3  cellular  False   jul      True     False   True      True  unknown   no  \n4  cellular  False   apr     False     False   True      True  unknown  yes  ",
      "text/html": "<div>\n<style scoped>\n    .dataframe tbody tr th:only-of-type {\n        vertical-align: middle;\n    }\n\n    .dataframe tbody tr th {\n        vertical-align: top;\n    }\n\n    .dataframe thead th {\n        text-align: right;\n    }\n</style>\n<table border=\"1\" class=\"dataframe\">\n  <thead>\n    <tr style=\"text-align: right;\">\n      <th></th>\n      <th>age</th>\n      <th>job</th>\n      <th>marital</th>\n      <th>education</th>\n      <th>default</th>\n      <th>balance</th>\n      <th>housing</th>\n      <th>loan</th>\n      <th>contact</th>\n      <th>day</th>\n      <th>month</th>\n      <th>duration</th>\n      <th>campaign</th>\n      <th>pdays</th>\n      <th>previous</th>\n      <th>poutcome</th>\n      <th>y</th>\n    </tr>\n  </thead>\n  <tbody>\n    <tr>\n      <th>0</th>\n      <td>True</td>\n      <td>services</td>\n      <td>married</td>\n      <td>secondary</td>\n      <td>no</td>\n      <td>False</td>\n      <td>yes</td>\n      <td>no</td>\n      <td>unknown</td>\n      <td>False</td>\n      <td>may</td>\n      <td>False</td>\n      <td>True</td>\n      <td>True</td>\n      <td>True</td>\n      <td>unknown</td>\n      <td>no</td>\n    </tr>\n    <tr>\n      <th>1</th>\n      <td>True</td>\n      <td>blue-collar</td>\n      <td>single</td>\n      <td>secondary</td>\n      <td>no</td>\n      <td>False</td>\n      <td>yes</td>\n      <td>yes</td>\n      <td>cellular</td>\n      <td>False</td>\n      <td>feb</td>\n      <td>True</td>\n      <td>True</td>\n      <td>True</td>\n      <td>True</td>\n      <td>unknown</td>\n      <td>no</td>\n    </tr>\n    <tr>\n      <th>2</th>\n      <td>True</td>\n      <td>technician</td>\n      <td>married</td>\n      <td>secondary</td>\n      <td>no</td>\n      <td>True</td>\n      <td>no</td>\n      <td>yes</td>\n      <td>cellular</td>\n      <td>True</td>\n      <td>aug</td>\n      <td>True</td>\n      <td>False</td>\n      <td>True</td>\n      <td>True</td>\n      <td>success</td>\n      <td>yes</td>\n    </tr>\n    <tr>\n      <th>3</th>\n      <td>True</td>\n      <td>admin.</td>\n      <td>married</td>\n      <td>tertiary</td>\n      <td>no</td>\n      <td>False</td>\n      <td>yes</td>\n      <td>no</td>\n      <td>cellular</td>\n      <td>False</td>\n      <td>jul</td>\n      <td>True</td>\n      <td>False</td>\n      <td>True</td>\n      <td>True</td>\n      <td>unknown</td>\n      <td>no</td>\n    </tr>\n    <tr>\n      <th>4</th>\n      <td>False</td>\n      <td>management</td>\n      <td>single</td>\n      <td>tertiary</td>\n      <td>no</td>\n      <td>True</td>\n      <td>no</td>\n      <td>no</td>\n      <td>cellular</td>\n      <td>False</td>\n      <td>apr</td>\n      <td>False</td>\n      <td>False</td>\n      <td>True</td>\n      <td>True</td>\n      <td>unknown</td>\n      <td>yes</td>\n    </tr>\n  </tbody>\n</table>\n</div>"
     },
     "execution_count": 20,
     "metadata": {},
     "output_type": "execute_result"
    }
   ],
   "source": [
    "binary_bank_train: pd.DataFrame = bank_train[:]\n",
    "pd.DataFrame = make_numerical_attributes_binary(binary_bank_train)\n",
    "binary_bank_train.head()"
   ]
  },
  {
   "cell_type": "markdown",
   "id": "4f3b19a4e2741239",
   "metadata": {},
   "source": [
    "Lets build all of our trees using our helper."
   ]
  },
  {
   "cell_type": "code",
   "execution_count": 21,
   "id": "4e0692f9842f9d09",
   "metadata": {
    "ExecuteTime": {
     "end_time": "2023-09-23T19:15:21.957557Z",
     "start_time": "2023-09-23T19:15:21.723414Z"
    }
   },
   "outputs": [
    {
     "ename": "TypeError",
     "evalue": "'NoneType' object is not callable",
     "output_type": "error",
     "traceback": [
      "\u001B[0;31m---------------------------------------------------------------------------\u001B[0m",
      "\u001B[0;31mTypeError\u001B[0m                                 Traceback (most recent call last)",
      "Cell \u001B[0;32mIn[21], line 1\u001B[0m\n\u001B[0;32m----> 1\u001B[0m build_trees(\u001B[38;5;241m16\u001B[39m, binary_bank_train, binary_bank_test, \u001B[38;5;124m\"\u001B[39m\u001B[38;5;124my\u001B[39m\u001B[38;5;124m\"\u001B[39m)\n",
      "Cell \u001B[0;32mIn[5], line 2\u001B[0m, in \u001B[0;36mbuild_trees\u001B[0;34m(depth, train, test, label)\u001B[0m\n\u001B[1;32m      1\u001B[0m \u001B[38;5;28;01mdef\u001B[39;00m \u001B[38;5;21mbuild_trees\u001B[39m(depth: \u001B[38;5;28mint\u001B[39m, train: pd\u001B[38;5;241m.\u001B[39mDataFrame, test: pd\u001B[38;5;241m.\u001B[39mDataFrame, label: \u001B[38;5;28mstr\u001B[39m) \u001B[38;5;241m-\u001B[39m\u001B[38;5;241m>\u001B[39m pd\u001B[38;5;241m.\u001B[39mDataFrame:\n\u001B[0;32m----> 2\u001B[0m     output_df: pd\u001B[38;5;241m.\u001B[39mDataFrame \u001B[38;5;241m=\u001B[39m pd\u001B[38;5;241m.\u001B[39mDataFrame(columns\u001B[38;5;241m=\u001B[39m[\u001B[38;5;124m\"\u001B[39m\u001B[38;5;124merror_test\u001B[39m\u001B[38;5;124m\"\u001B[39m, \u001B[38;5;124m\"\u001B[39m\u001B[38;5;124merror_train\u001B[39m\u001B[38;5;124m\"\u001B[39m, \u001B[38;5;124m\"\u001B[39m\u001B[38;5;124mdepth\u001B[39m\u001B[38;5;124m\"\u001B[39m, \u001B[38;5;124m\"\u001B[39m\u001B[38;5;124mpurity\u001B[39m\u001B[38;5;124m\"\u001B[39m])\n\u001B[1;32m      3\u001B[0m     \u001B[38;5;28;01mfor\u001B[39;00m i \u001B[38;5;129;01min\u001B[39;00m \u001B[38;5;28mrange\u001B[39m (depth, \u001B[38;5;241m0\u001B[39m, \u001B[38;5;241m-\u001B[39m \u001B[38;5;241m1\u001B[39m):\n\u001B[1;32m      4\u001B[0m         tree: DecisionTree \u001B[38;5;241m=\u001B[39m DecisionTree(train)\n",
      "\u001B[0;31mTypeError\u001B[0m: 'NoneType' object is not callable"
     ]
    }
   ],
   "source": [
    "build_trees(16, binary_bank_train, binary_bank_test, \"y\")"
   ]
  },
  {
   "cell_type": "markdown",
   "id": "b2400dfa39582b8d",
   "metadata": {},
   "source": [
    "Let's now make 16 trees varying form depth of 1 through 16. We will first use entropy."
   ]
  },
  {
   "cell_type": "code",
   "execution_count": null,
   "id": "b275283260e5ac43",
   "metadata": {
    "ExecuteTime": {
     "end_time": "2023-09-23T19:15:21.959761Z",
     "start_time": "2023-09-23T19:15:21.957909Z"
    }
   },
   "outputs": [],
   "source": [
    "trees: list[DecisionTree] = []\n",
    "for i in range (1, 17):\n",
    "    tree: DecisionTree = DecisionTree(binary_bank_train)\n",
    "    tree.build(attributes=set(binary_bank_test.columns) - {\"y\"}, label=\"y\", splitting_criteria=tree.entropy, set_depth=i)\n",
    "    trees.append(tree)"
   ]
  },
  {
   "cell_type": "markdown",
   "id": "e107236bf71d83b5",
   "metadata": {},
   "source": [
    "Let's now make a prediction using the 16 trees above on the training data."
   ]
  },
  {
   "cell_type": "code",
   "execution_count": null,
   "id": "a3096cdd7945e2e1",
   "metadata": {
    "ExecuteTime": {
     "start_time": "2023-09-23T19:15:21.958961Z"
    }
   },
   "outputs": [],
   "source": [
    "for tree in trees:\n",
    "    print(1 - predict_dataframe(tree, binary_bank_train, \"y\"))"
   ]
  },
  {
   "cell_type": "markdown",
   "id": "b0da0e1222792660",
   "metadata": {},
   "source": []
  },
  {
   "cell_type": "markdown",
   "id": "7872f96480829558",
   "metadata": {},
   "source": [
    "Let's now make a prediction using the 16 trees above on the test data."
   ]
  },
  {
   "cell_type": "code",
   "execution_count": null,
   "id": "4dcc2dac80ea6183",
   "metadata": {
    "ExecuteTime": {
     "end_time": "2023-09-23T19:15:21.961570Z",
     "start_time": "2023-09-23T19:15:21.960398Z"
    }
   },
   "outputs": [],
   "source": [
    "for tree in trees:\n",
    "    print(1 - predict_dataframe(tree, binary_bank_test, \"y\"))"
   ]
  },
  {
   "cell_type": "markdown",
   "id": "283fb298d62e73a8",
   "metadata": {},
   "source": [
    "Let's now make 16 trees varying form depth of 1 through 16. We will now use ginni_index."
   ]
  },
  {
   "cell_type": "code",
   "execution_count": null,
   "id": "d63e8d7cef57906c",
   "metadata": {
    "ExecuteTime": {
     "end_time": "2023-09-23T19:15:21.962171Z",
     "start_time": "2023-09-23T19:15:21.961701Z"
    }
   },
   "outputs": [],
   "source": [
    "trees: list[DecisionTree] = []\n",
    "for i in range (1, 17):\n",
    "    tree: DecisionTree = DecisionTree(binary_bank_train)\n",
    "    tree.build(attributes=set(binary_bank_test.columns) - {\"y\"}, label=\"y\", splitting_criteria=tree.ginni_index, set_depth=i)\n",
    "    trees.append(tree)"
   ]
  },
  {
   "cell_type": "markdown",
   "id": "ca8db04c39a23293",
   "metadata": {},
   "source": [
    "Let's now make a prediction using the 16 trees above on the train data."
   ]
  },
  {
   "cell_type": "code",
   "execution_count": null,
   "id": "1a5b2610af314ff4",
   "metadata": {
    "ExecuteTime": {
     "start_time": "2023-09-23T19:15:21.963118Z"
    }
   },
   "outputs": [],
   "source": [
    "for tree in trees:\n",
    "    print(1 - predict_dataframe(tree, binary_bank_train, \"y\"))"
   ]
  },
  {
   "cell_type": "markdown",
   "id": "7933d0ca295b9ebb",
   "metadata": {},
   "source": [
    "Let's now make a prediction using the 16 trees above on the test data."
   ]
  },
  {
   "cell_type": "code",
   "execution_count": null,
   "id": "a2d394598c637d49",
   "metadata": {
    "ExecuteTime": {
     "start_time": "2023-09-23T19:15:21.964396Z"
    }
   },
   "outputs": [],
   "source": [
    "for tree in trees:\n",
    "    print(1 - predict_dataframe(tree, binary_bank_test, \"y\"))"
   ]
  },
  {
   "cell_type": "markdown",
   "id": "af0ef944f3e11bf8",
   "metadata": {},
   "source": [
    "Let's now make 16 trees varying form depth of 1 through 16. We will now use majority error."
   ]
  },
  {
   "cell_type": "code",
   "execution_count": null,
   "id": "bdabc087fbe33577",
   "metadata": {
    "ExecuteTime": {
     "start_time": "2023-09-23T19:15:21.965481Z"
    }
   },
   "outputs": [],
   "source": [
    "trees: list[DecisionTree] = []\n",
    "for i in range (1, 17):\n",
    "    tree: DecisionTree = DecisionTree(binary_bank_train)\n",
    "    tree.build(attributes=set(binary_bank_test.columns) - {\"y\"}, label=\"y\", splitting_criteria=tree.majority_error, set_depth=i)\n",
    "    trees.append(tree)"
   ]
  },
  {
   "cell_type": "markdown",
   "id": "dd5fd65e9cf39812",
   "metadata": {},
   "source": [
    "Let's now make a prediction using the 16 trees above on the train data."
   ]
  },
  {
   "cell_type": "code",
   "execution_count": null,
   "id": "226fe5e33e93ea7",
   "metadata": {
    "ExecuteTime": {
     "start_time": "2023-09-23T19:15:21.966467Z"
    }
   },
   "outputs": [],
   "source": [
    "for tree in trees:\n",
    "    print(1 - predict_dataframe(tree, binary_bank_train, \"y\"))"
   ]
  },
  {
   "cell_type": "markdown",
   "id": "1a11a47a7f19682c",
   "metadata": {},
   "source": [
    "Let's now make a prediction using the 16 trees above on the test data"
   ]
  },
  {
   "cell_type": "code",
   "execution_count": null,
   "id": "e6d4a1bd573fcdf0",
   "metadata": {
    "ExecuteTime": {
     "start_time": "2023-09-23T19:15:21.967537Z"
    }
   },
   "outputs": [],
   "source": [
    "for tree in trees:\n",
    "    print(1 - predict_dataframe(tree, binary_bank_test, \"y\"))"
   ]
  },
  {
   "cell_type": "markdown",
   "id": "70df0c83e2b6b06b",
   "metadata": {},
   "source": [
    "### Part B"
   ]
  },
  {
   "cell_type": "code",
   "execution_count": null,
   "id": "af335da760a03",
   "metadata": {
    "ExecuteTime": {
     "start_time": "2023-09-23T19:15:21.968564Z"
    }
   },
   "outputs": [],
   "source": [
    "def fill_unknown(data: pd.DataFrame) -> pd.DataFrame:\n",
    "    data_copy = data[:]\n",
    "    for column in data:\n",
    "        data_copy[column] = data_copy[column].apply(lambda x: data[column].mode()[0] if x == \"unknown\" else x)\n",
    "    return data_copy\n",
    "\n",
    "binary_bank_train_no_unknown: pd.DataFrame = fill_unknown(binary_bank_train)\n",
    "print(binary_bank_train_no_unknown[\"education\"].unique()) # check to ensure no unknowns\n",
    "binary_bank_train_no_unknown.head()"
   ]
  },
  {
   "cell_type": "markdown",
   "id": "e9ffe03b12fad8c2",
   "metadata": {},
   "source": [
    "Let's also create the test data without the unknown values."
   ]
  },
  {
   "cell_type": "code",
   "execution_count": null,
   "id": "e5dae72d6796dc4b",
   "metadata": {
    "ExecuteTime": {
     "start_time": "2023-09-23T19:15:21.969370Z"
    }
   },
   "outputs": [],
   "source": [
    "binary_bank_test_no_unknown: pd.DataFrame = fill_unknown(binary_bank_test)\n",
    "print(binary_bank_test_no_unknown[\"education\"].unique()) # check to ensure no unknowns\n",
    "binary_bank_test_no_unknown.head()"
   ]
  },
  {
   "cell_type": "markdown",
   "id": "edec0e7ea6d69560",
   "metadata": {},
   "source": []
  },
  {
   "cell_type": "markdown",
   "id": "a94a13b3fbe63ad5",
   "metadata": {},
   "source": [
    "Lets build our tree with this data."
   ]
  },
  {
   "cell_type": "code",
   "execution_count": null,
   "id": "a73bfdedf1877aff",
   "metadata": {
    "ExecuteTime": {
     "end_time": "2023-09-23T19:15:21.975473Z",
     "start_time": "2023-09-23T19:15:21.970201Z"
    }
   },
   "outputs": [],
   "source": [
    "build_trees(16, binary_bank_train_no_unknown, binary_bank_test_no_unknown, \"y\")"
   ]
  },
  {
   "cell_type": "markdown",
   "id": "35fa938029de5762",
   "metadata": {},
   "source": [
    "Let's now make 16 trees varying form depth of 1 through 16. We will first use entropy."
   ]
  },
  {
   "cell_type": "code",
   "execution_count": null,
   "id": "12488fa875e0791e",
   "metadata": {
    "ExecuteTime": {
     "start_time": "2023-09-23T19:15:21.970746Z"
    }
   },
   "outputs": [],
   "source": [
    "trees: list[DecisionTree] = []\n",
    "for i in range (1, 17):\n",
    "    tree: DecisionTree = DecisionTree(binary_bank_train_no_unknown)\n",
    "    tree.build(attributes=set(binary_bank_test_no_unknown.columns) - {\"y\"}, label=\"y\", splitting_criteria=tree.entropy, set_depth=i)\n",
    "    trees.append(tree)"
   ]
  },
  {
   "cell_type": "markdown",
   "id": "2f90b1e0781dddd8",
   "metadata": {},
   "source": [
    "Let's now make a prediction using the 16 trees above on the training data."
   ]
  },
  {
   "cell_type": "code",
   "execution_count": null,
   "id": "70ab31533a448aa3",
   "metadata": {
    "ExecuteTime": {
     "start_time": "2023-09-23T19:15:21.971403Z"
    }
   },
   "outputs": [],
   "source": [
    "for tree in trees:\n",
    "    print(1 - predict_dataframe(tree, binary_bank_train_no_unknown, \"y\"))"
   ]
  },
  {
   "cell_type": "markdown",
   "id": "80712a31a2dd2048",
   "metadata": {},
   "source": [
    "Let's now make a prediction using the 16 trees above on the test data."
   ]
  },
  {
   "cell_type": "code",
   "execution_count": null,
   "id": "1415ed475e53dd70",
   "metadata": {
    "ExecuteTime": {
     "start_time": "2023-09-23T19:15:21.972126Z"
    }
   },
   "outputs": [],
   "source": [
    "for tree in trees:\n",
    "    print(1 - predict_dataframe(tree, binary_bank_test_no_unknown, \"y\"))"
   ]
  },
  {
   "cell_type": "markdown",
   "id": "17314b80c3565c98",
   "metadata": {},
   "source": [
    "Let's now make 16 trees varying form depth of 1 through 16. We will now use ginni index."
   ]
  },
  {
   "cell_type": "code",
   "execution_count": null,
   "id": "f3cf7ef08a2e0d25",
   "metadata": {
    "ExecuteTime": {
     "start_time": "2023-09-23T19:15:21.972778Z"
    }
   },
   "outputs": [],
   "source": [
    "trees: list[DecisionTree] = []\n",
    "for i in range (1, 17):\n",
    "    tree: DecisionTree = DecisionTree(binary_bank_train_no_unknown)\n",
    "    tree.build(attributes=set(binary_bank_test_no_unknown.columns) - {\"y\"}, label=\"y\", splitting_criteria=tree.entropy, set_depth=i)\n",
    "    trees.append(tree)"
   ]
  },
  {
   "cell_type": "markdown",
   "id": "ad1ce586ad36a6ce",
   "metadata": {},
   "source": [
    "Let's now make a prediction using the 16 trees above on the training data."
   ]
  },
  {
   "cell_type": "code",
   "execution_count": null,
   "id": "5ad2e3f25d35b816",
   "metadata": {
    "ExecuteTime": {
     "start_time": "2023-09-23T19:15:21.973474Z"
    }
   },
   "outputs": [],
   "source": [
    "for tree in trees:\n",
    "    print(1 - predict_dataframe(tree, binary_bank_train_no_unknown, \"y\"))"
   ]
  },
  {
   "cell_type": "markdown",
   "id": "7f0039c0fcfbb8cf",
   "metadata": {},
   "source": [
    "Let's now make a prediction using the 16 trees above on the test data."
   ]
  },
  {
   "cell_type": "code",
   "execution_count": null,
   "id": "c32596bab2ea7ada",
   "metadata": {
    "ExecuteTime": {
     "start_time": "2023-09-23T19:15:21.973994Z"
    }
   },
   "outputs": [],
   "source": [
    "for tree in trees:\n",
    "    print(1 - predict_dataframe(tree, binary_bank_test_no_unknown, \"y\"))"
   ]
  },
  {
   "cell_type": "markdown",
   "id": "730e3cad907f1592",
   "metadata": {},
   "source": [
    "Let's now make 16 trees varying form depth of 1 through 16. We will now use majority error."
   ]
  },
  {
   "cell_type": "code",
   "execution_count": null,
   "id": "c490839705e9e025",
   "metadata": {
    "ExecuteTime": {
     "start_time": "2023-09-23T19:15:21.974647Z"
    }
   },
   "outputs": [],
   "source": [
    "trees: list[DecisionTree] = []\n",
    "for i in range (1, 17):\n",
    "    tree: DecisionTree = DecisionTree(binary_bank_train_no_unknown)\n",
    "    tree.build(attributes=set(binary_bank_train_no_unknown.columns) - {\"y\"}, label=\"y\", splitting_criteria=tree.majority_error, set_depth=i)\n",
    "    trees.append(tree)"
   ]
  },
  {
   "cell_type": "markdown",
   "id": "cc77f970f6785059",
   "metadata": {},
   "source": [
    "Let's now make a prediction using the 16 trees above on the train data."
   ]
  },
  {
   "cell_type": "code",
   "execution_count": null,
   "id": "c9f8503919adad7a",
   "metadata": {
    "ExecuteTime": {
     "end_time": "2023-09-23T19:15:21.978152Z",
     "start_time": "2023-09-23T19:15:21.975675Z"
    }
   },
   "outputs": [],
   "source": [
    "for tree in trees:\n",
    "    print(1 - predict_dataframe(tree, binary_bank_train_no_unknown, \"y\"))"
   ]
  },
  {
   "cell_type": "markdown",
   "id": "c7cf25bae2328b7b",
   "metadata": {},
   "source": [
    "Let's now make a prediction using the 16 trees above on the test data."
   ]
  },
  {
   "cell_type": "code",
   "execution_count": null,
   "id": "f529b19ea79be30e",
   "metadata": {
    "ExecuteTime": {
     "start_time": "2023-09-23T19:15:21.976114Z"
    }
   },
   "outputs": [],
   "source": [
    "for tree in trees:\n",
    "    print(1 - predict_dataframe(tree, binary_bank_test_no_unknown, \"y\"))"
   ]
  },
  {
   "cell_type": "markdown",
   "id": "970330d9fca35287",
   "metadata": {},
   "source": [
    "### Part C\n",
    "We notice above that the trees that had the unknown value (rather than the imputed one) performed ever so slightly worse than the tress that imputed the value of the unknowns based of the error on the training and test sets. We also found that the test errors performed worse than the training errors. We also notice that both the training and test errors converge to an error percentage after a certain number of nodes. We also notice that the training error starts higher (relatively), dips, and then rises again. This is likely due to overfitting."
   ]
  }
 ],
 "metadata": {
  "kernelspec": {
   "display_name": "Python 3 (ipykernel)",
   "language": "python",
   "name": "python3"
  },
  "language_info": {
   "codemirror_mode": {
    "name": "ipython",
    "version": 3
   },
   "file_extension": ".py",
   "mimetype": "text/x-python",
   "name": "python",
   "nbconvert_exporter": "python",
   "pygments_lexer": "ipython3",
   "version": "3.11.4"
  }
 },
 "nbformat": 4,
 "nbformat_minor": 5
}
