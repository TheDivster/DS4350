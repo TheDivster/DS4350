{
 "cells": [
  {
   "cell_type": "markdown",
   "source": [
    "# Homework 1"
   ],
   "metadata": {
    "collapsed": false
   },
   "id": "9ace33a44caced6a"
  },
  {
   "cell_type": "code",
   "execution_count": 64,
   "id": "initial_id",
   "metadata": {
    "collapsed": true,
    "ExecuteTime": {
     "end_time": "2023-09-22T07:27:19.712688Z",
     "start_time": "2023-09-22T07:27:19.672590Z"
    }
   },
   "outputs": [],
   "source": [
    "import pandas as pd\n",
    "from DecisionTree import DecisionTree"
   ]
  },
  {
   "cell_type": "markdown",
   "source": [
    "## Question 1\n",
    "### Part a\n",
    "Part a is done in DecisionTree.py\n",
    "\n",
    "### Part b"
   ],
   "metadata": {
    "collapsed": false
   },
   "id": "8196d580987da70d"
  },
  {
   "cell_type": "code",
   "execution_count": 65,
   "outputs": [
    {
     "data": {
      "text/plain": "  buying  maint  doors persons lug_boot safety  label\n0    low  vhigh      4       4      big    med    acc\n1    low   high  5more       4      med   high  vgood\n2  vhigh    med      2       2      big   high  unacc\n3   high   high      2       2    small   high  unacc\n4  vhigh    low      3       2      big    low  unacc",
      "text/html": "<div>\n<style scoped>\n    .dataframe tbody tr th:only-of-type {\n        vertical-align: middle;\n    }\n\n    .dataframe tbody tr th {\n        vertical-align: top;\n    }\n\n    .dataframe thead th {\n        text-align: right;\n    }\n</style>\n<table border=\"1\" class=\"dataframe\">\n  <thead>\n    <tr style=\"text-align: right;\">\n      <th></th>\n      <th>buying</th>\n      <th>maint</th>\n      <th>doors</th>\n      <th>persons</th>\n      <th>lug_boot</th>\n      <th>safety</th>\n      <th>label</th>\n    </tr>\n  </thead>\n  <tbody>\n    <tr>\n      <th>0</th>\n      <td>low</td>\n      <td>vhigh</td>\n      <td>4</td>\n      <td>4</td>\n      <td>big</td>\n      <td>med</td>\n      <td>acc</td>\n    </tr>\n    <tr>\n      <th>1</th>\n      <td>low</td>\n      <td>high</td>\n      <td>5more</td>\n      <td>4</td>\n      <td>med</td>\n      <td>high</td>\n      <td>vgood</td>\n    </tr>\n    <tr>\n      <th>2</th>\n      <td>vhigh</td>\n      <td>med</td>\n      <td>2</td>\n      <td>2</td>\n      <td>big</td>\n      <td>high</td>\n      <td>unacc</td>\n    </tr>\n    <tr>\n      <th>3</th>\n      <td>high</td>\n      <td>high</td>\n      <td>2</td>\n      <td>2</td>\n      <td>small</td>\n      <td>high</td>\n      <td>unacc</td>\n    </tr>\n    <tr>\n      <th>4</th>\n      <td>vhigh</td>\n      <td>low</td>\n      <td>3</td>\n      <td>2</td>\n      <td>big</td>\n      <td>low</td>\n      <td>unacc</td>\n    </tr>\n  </tbody>\n</table>\n</div>"
     },
     "execution_count": 65,
     "metadata": {},
     "output_type": "execute_result"
    }
   ],
   "source": [
    "car_train: pd.DataFrame = pd.read_csv(\"Car/train.csv\", names=[\"buying\", \"maint\", \"doors\", \"persons\", \"lug_boot\", \"safety\", \"label\"])\n",
    "car_train.head()"
   ],
   "metadata": {
    "collapsed": false,
    "ExecuteTime": {
     "end_time": "2023-09-22T07:27:19.722527Z",
     "start_time": "2023-09-22T07:27:19.677049Z"
    }
   },
   "id": "84fce659de2f3e3"
  },
  {
   "cell_type": "code",
   "execution_count": 66,
   "outputs": [
    {
     "data": {
      "text/plain": "    buying maint  doors persons lug_boot safety  label\n723   high  high      4    more    small    low  unacc\n724    med  high  5more    more      big    low  unacc\n725    low  high      4       2      big    med  unacc\n726  vhigh  high      2       2      med   high  unacc\n727    med   med      4    more      med   high  vgood",
      "text/html": "<div>\n<style scoped>\n    .dataframe tbody tr th:only-of-type {\n        vertical-align: middle;\n    }\n\n    .dataframe tbody tr th {\n        vertical-align: top;\n    }\n\n    .dataframe thead th {\n        text-align: right;\n    }\n</style>\n<table border=\"1\" class=\"dataframe\">\n  <thead>\n    <tr style=\"text-align: right;\">\n      <th></th>\n      <th>buying</th>\n      <th>maint</th>\n      <th>doors</th>\n      <th>persons</th>\n      <th>lug_boot</th>\n      <th>safety</th>\n      <th>label</th>\n    </tr>\n  </thead>\n  <tbody>\n    <tr>\n      <th>723</th>\n      <td>high</td>\n      <td>high</td>\n      <td>4</td>\n      <td>more</td>\n      <td>small</td>\n      <td>low</td>\n      <td>unacc</td>\n    </tr>\n    <tr>\n      <th>724</th>\n      <td>med</td>\n      <td>high</td>\n      <td>5more</td>\n      <td>more</td>\n      <td>big</td>\n      <td>low</td>\n      <td>unacc</td>\n    </tr>\n    <tr>\n      <th>725</th>\n      <td>low</td>\n      <td>high</td>\n      <td>4</td>\n      <td>2</td>\n      <td>big</td>\n      <td>med</td>\n      <td>unacc</td>\n    </tr>\n    <tr>\n      <th>726</th>\n      <td>vhigh</td>\n      <td>high</td>\n      <td>2</td>\n      <td>2</td>\n      <td>med</td>\n      <td>high</td>\n      <td>unacc</td>\n    </tr>\n    <tr>\n      <th>727</th>\n      <td>med</td>\n      <td>med</td>\n      <td>4</td>\n      <td>more</td>\n      <td>med</td>\n      <td>high</td>\n      <td>vgood</td>\n    </tr>\n  </tbody>\n</table>\n</div>"
     },
     "execution_count": 66,
     "metadata": {},
     "output_type": "execute_result"
    }
   ],
   "source": [
    "car_test: pd.DataFrame = pd.read_csv(\"Car/test.csv\", names=[\"buying\", \"maint\", \"doors\", \"persons\", \"lug_boot\", \"safety\", \"label\"])\n",
    "car_test.tail()"
   ],
   "metadata": {
    "collapsed": false,
    "ExecuteTime": {
     "end_time": "2023-09-22T07:27:19.757237Z",
     "start_time": "2023-09-22T07:27:19.687753Z"
    }
   },
   "id": "4096c11074769e53"
  },
  {
   "cell_type": "markdown",
   "source": [
    "Below is a helper function that will come in handy for predicting accuracy for large batches of data."
   ],
   "metadata": {
    "collapsed": false
   },
   "id": "a90095bd6d3295aa"
  },
  {
   "cell_type": "code",
   "execution_count": 67,
   "outputs": [],
   "source": [
    "def predict_dataframe(model: DecisionTree, test_data: pd.DataFrame, label: str) -> float:\n",
    "    accuracy_count: int = 0 # represents the count of correct predictions\n",
    "    for j in range(test_data.shape[0]):\n",
    "        if model.predict(test_data, j) == test_data[label].iloc[j]:\n",
    "            accuracy_count += 1\n",
    "    return accuracy_count / test_data.shape[0]\n"
   ],
   "metadata": {
    "collapsed": false,
    "ExecuteTime": {
     "end_time": "2023-09-22T07:27:19.758327Z",
     "start_time": "2023-09-22T07:27:19.695383Z"
    }
   },
   "id": "a04f0ffc963d528f"
  },
  {
   "cell_type": "markdown",
   "source": [
    "Let's first build the trees varying from depth 1 to depth 6 for entropy as the splitting criterion."
   ],
   "metadata": {
    "collapsed": false
   },
   "id": "df2fde506530c4cb"
  },
  {
   "cell_type": "code",
   "execution_count": 68,
   "outputs": [],
   "source": [
    "trees: list[DecisionTree] = []\n",
    "for i in range (1, 7):\n",
    "    tree: DecisionTree = DecisionTree(car_train)\n",
    "    tree.build(attributes=set(car_train.columns) - {\"label\"}, label=\"label\", splitting_criteria=tree.entropy, set_depth=i)\n",
    "    trees.append(tree)"
   ],
   "metadata": {
    "collapsed": false,
    "ExecuteTime": {
     "end_time": "2023-09-22T07:27:20.093805Z",
     "start_time": "2023-09-22T07:27:19.703265Z"
    }
   },
   "id": "b2f73ea9b7c0f4dd"
  },
  {
   "cell_type": "markdown",
   "source": [
    "Below is the sequentially printed output for depths 1 though 6 for entropy as the splitting criteria. The predictions are for the test data in test.csv."
   ],
   "metadata": {
    "collapsed": false
   },
   "id": "44f20dff8cf0743d"
  },
  {
   "cell_type": "code",
   "execution_count": 69,
   "outputs": [
    {
     "name": "stdout",
     "output_type": "stream",
     "text": [
      "0.29670329670329665\n",
      "0.22252747252747251\n",
      "0.1964285714285714\n",
      "0.15109890109890112\n",
      "0.08379120879120883\n",
      "0.08379120879120883\n"
     ]
    }
   ],
   "source": [
    "for tree in trees:\n",
    "    print(1 - predict_dataframe(tree, car_test, \"label\"))"
   ],
   "metadata": {
    "collapsed": false,
    "ExecuteTime": {
     "end_time": "2023-09-22T07:27:20.196401Z",
     "start_time": "2023-09-22T07:27:20.141235Z"
    }
   },
   "id": "90717302871b4877"
  },
  {
   "cell_type": "markdown",
   "source": [
    "Below is the sequentially printed output for depths 1 though 6 for entropy as the splitting criteria. The predictions are for the train data in train.csv."
   ],
   "metadata": {
    "collapsed": false
   },
   "id": "b74a2b546b5af7cd"
  },
  {
   "cell_type": "code",
   "execution_count": 70,
   "outputs": [
    {
     "name": "stdout",
     "output_type": "stream",
     "text": [
      "0.30200000000000005\n",
      "0.22199999999999998\n",
      "0.18100000000000005\n",
      "0.08199999999999996\n",
      "0.027000000000000024\n",
      "0.0\n"
     ]
    }
   ],
   "source": [
    "for tree in trees:\n",
    "    print(1 - predict_dataframe(tree, car_train, \"label\"))"
   ],
   "metadata": {
    "collapsed": false,
    "ExecuteTime": {
     "end_time": "2023-09-22T07:27:20.334862Z",
     "start_time": "2023-09-22T07:27:20.238422Z"
    }
   },
   "id": "c9333c9317d3c21b"
  },
  {
   "cell_type": "markdown",
   "source": [
    "Let's build the trees varying from depth 1 to depth 6 for ginni_index as the splitting criterion."
   ],
   "metadata": {
    "collapsed": false
   },
   "id": "68070bd63a9dc18e"
  },
  {
   "cell_type": "code",
   "execution_count": 71,
   "outputs": [],
   "source": [
    "trees: list[DecisionTree] = []\n",
    "for i in range (1, 7):\n",
    "    tree: DecisionTree = DecisionTree(car_train)\n",
    "    tree.build(attributes=set(car_train.columns) - {\"label\"}, label=\"label\", splitting_criteria=tree.ginni_index, set_depth=i)\n",
    "    trees.append(tree)"
   ],
   "metadata": {
    "collapsed": false,
    "ExecuteTime": {
     "end_time": "2023-09-22T07:27:20.778457Z",
     "start_time": "2023-09-22T07:27:20.333652Z"
    }
   },
   "id": "74b7b377f762975c"
  },
  {
   "cell_type": "markdown",
   "source": [
    "Below is the sequentially printed output for depths 1 though 6 for ginni index as the splitting criteria. The predictions are for the test data in test.csv."
   ],
   "metadata": {
    "collapsed": false
   },
   "id": "bdac33b0ba042d7b"
  },
  {
   "cell_type": "code",
   "execution_count": 72,
   "outputs": [
    {
     "name": "stdout",
     "output_type": "stream",
     "text": [
      "0.29670329670329665\n",
      "0.22252747252747251\n",
      "0.18406593406593408\n",
      "0.13736263736263732\n",
      "0.08379120879120883\n",
      "0.08379120879120883\n"
     ]
    }
   ],
   "source": [
    "for tree in trees:\n",
    "    print(1 - predict_dataframe(tree, car_test, \"label\"))"
   ],
   "metadata": {
    "collapsed": false,
    "ExecuteTime": {
     "end_time": "2023-09-22T07:27:20.847755Z",
     "start_time": "2023-09-22T07:27:20.804502Z"
    }
   },
   "id": "46250a43ac023f32"
  },
  {
   "cell_type": "markdown",
   "source": [
    "Below is the sequentially printed output for depths 1 though 6 for ginni index as the splitting criteria. The predictions are for the train data in train.csv."
   ],
   "metadata": {
    "collapsed": false
   },
   "id": "a15393d1b7651ef8"
  },
  {
   "cell_type": "code",
   "execution_count": 73,
   "outputs": [
    {
     "name": "stdout",
     "output_type": "stream",
     "text": [
      "0.30200000000000005\n",
      "0.22199999999999998\n",
      "0.17600000000000005\n",
      "0.08899999999999997\n",
      "0.027000000000000024\n",
      "0.0\n"
     ]
    }
   ],
   "source": [
    "for tree in trees:\n",
    "    print(1 - predict_dataframe(tree, car_train, \"label\"))"
   ],
   "metadata": {
    "collapsed": false,
    "ExecuteTime": {
     "end_time": "2023-09-22T07:27:20.992921Z",
     "start_time": "2023-09-22T07:27:20.884653Z"
    }
   },
   "id": "8c768796af39827f"
  },
  {
   "cell_type": "markdown",
   "source": [
    "Let's build the trees varying from depth 1 to depth 6 for ginni_index as the splitting criterion."
   ],
   "metadata": {
    "collapsed": false
   },
   "id": "62e899fcf0cedd27"
  },
  {
   "cell_type": "code",
   "execution_count": 74,
   "outputs": [],
   "source": [
    "trees: list[DecisionTree] = []\n",
    "for i in range (1, 7):\n",
    "    tree: DecisionTree = DecisionTree(car_train)\n",
    "    tree.build(attributes=set(car_train.columns) - {\"label\"}, label=\"label\", splitting_criteria=tree.majority_error, set_depth=i)\n",
    "    trees.append(tree)"
   ],
   "metadata": {
    "collapsed": false,
    "ExecuteTime": {
     "end_time": "2023-09-22T07:27:21.764718Z",
     "start_time": "2023-09-22T07:27:20.994517Z"
    }
   },
   "id": "fa50b9569bc881e2"
  },
  {
   "cell_type": "markdown",
   "source": [
    "Below is the sequentially printed output for depths 1 though 6 for majority error as the splitting criteria. The predictions are for the test data in test.csv."
   ],
   "metadata": {
    "collapsed": false
   },
   "id": "faed70dce842cdbb"
  },
  {
   "cell_type": "code",
   "execution_count": 75,
   "outputs": [
    {
     "name": "stdout",
     "output_type": "stream",
     "text": [
      "0.29670329670329665\n",
      "0.3159340659340659\n",
      "0.2554945054945055\n",
      "0.22252747252747251\n",
      "0.16620879120879117\n",
      "0.16620879120879117\n"
     ]
    }
   ],
   "source": [
    "for tree in trees:\n",
    "    print(1 - predict_dataframe(tree, car_test, \"label\"))"
   ],
   "metadata": {
    "collapsed": false,
    "ExecuteTime": {
     "end_time": "2023-09-22T07:27:21.890647Z",
     "start_time": "2023-09-22T07:27:21.780538Z"
    }
   },
   "id": "c0ff563a915499b5"
  },
  {
   "cell_type": "markdown",
   "source": [
    "Below is the sequentially printed output for depths 1 though 6 for majority error as the splitting criteria. The predictions are for the train data in train.csv."
   ],
   "metadata": {
    "collapsed": false
   },
   "id": "459b839e66741cad"
  },
  {
   "cell_type": "code",
   "execution_count": 76,
   "outputs": [
    {
     "name": "stdout",
     "output_type": "stream",
     "text": [
      "0.30200000000000005\n",
      "0.30100000000000005\n",
      "0.22699999999999998\n",
      "0.127\n",
      "0.040000000000000036\n",
      "0.0\n"
     ]
    }
   ],
   "source": [
    "for tree in trees:\n",
    "    print(1 - predict_dataframe(tree, car_train, \"label\"))"
   ],
   "metadata": {
    "collapsed": false,
    "ExecuteTime": {
     "end_time": "2023-09-22T07:27:22.059768Z",
     "start_time": "2023-09-22T07:27:21.908003Z"
    }
   },
   "id": "fdd2a9f7d2144e48"
  },
  {
   "cell_type": "markdown",
   "source": [
    "### Part c\n",
    "Looking at the results calculated above, we can see that as the depth of the tree increased, we saw a decrease in misclassification. However, all heuristics showed no significant decrease in misclassification after a point (tree depth = 5). This is due to the tree already reaching its max depth, so, setting the depth to a higher number won't change how the tree would classify points. In addition, we notice that at tree depth 6, all heuristics completely fit the training data even though there is about an 8% misclassificatin on the test data."
   ],
   "metadata": {
    "collapsed": false
   },
   "id": "e8a969c781301a4f"
  },
  {
   "cell_type": "markdown",
   "source": [
    "## Question 3\n",
    "Let's first load our data set."
   ],
   "metadata": {
    "collapsed": false
   },
   "id": "4c436306716273e1"
  },
  {
   "cell_type": "code",
   "execution_count": 77,
   "outputs": [
    {
     "data": {
      "text/plain": "   age          job  marital  education default  balance housing loan  \\\n0   41     services  married  secondary      no        0     yes   no   \n1   48  blue-collar   single  secondary      no      312     yes  yes   \n2   55   technician  married  secondary      no     1938      no  yes   \n3   54       admin.  married   tertiary      no       59     yes   no   \n4   34   management   single   tertiary      no     2646      no   no   \n\n    contact  day month  duration  campaign  pdays  previous poutcome    y  \n0   unknown    5   may       114         2     -1         0  unknown   no  \n1  cellular    3   feb       369         2     -1         0  unknown   no  \n2  cellular   18   aug       193         1    386         3  success  yes  \n3  cellular   10   jul       268         1     -1         0  unknown   no  \n4  cellular   14   apr       142         1     -1         0  unknown  yes  ",
      "text/html": "<div>\n<style scoped>\n    .dataframe tbody tr th:only-of-type {\n        vertical-align: middle;\n    }\n\n    .dataframe tbody tr th {\n        vertical-align: top;\n    }\n\n    .dataframe thead th {\n        text-align: right;\n    }\n</style>\n<table border=\"1\" class=\"dataframe\">\n  <thead>\n    <tr style=\"text-align: right;\">\n      <th></th>\n      <th>age</th>\n      <th>job</th>\n      <th>marital</th>\n      <th>education</th>\n      <th>default</th>\n      <th>balance</th>\n      <th>housing</th>\n      <th>loan</th>\n      <th>contact</th>\n      <th>day</th>\n      <th>month</th>\n      <th>duration</th>\n      <th>campaign</th>\n      <th>pdays</th>\n      <th>previous</th>\n      <th>poutcome</th>\n      <th>y</th>\n    </tr>\n  </thead>\n  <tbody>\n    <tr>\n      <th>0</th>\n      <td>41</td>\n      <td>services</td>\n      <td>married</td>\n      <td>secondary</td>\n      <td>no</td>\n      <td>0</td>\n      <td>yes</td>\n      <td>no</td>\n      <td>unknown</td>\n      <td>5</td>\n      <td>may</td>\n      <td>114</td>\n      <td>2</td>\n      <td>-1</td>\n      <td>0</td>\n      <td>unknown</td>\n      <td>no</td>\n    </tr>\n    <tr>\n      <th>1</th>\n      <td>48</td>\n      <td>blue-collar</td>\n      <td>single</td>\n      <td>secondary</td>\n      <td>no</td>\n      <td>312</td>\n      <td>yes</td>\n      <td>yes</td>\n      <td>cellular</td>\n      <td>3</td>\n      <td>feb</td>\n      <td>369</td>\n      <td>2</td>\n      <td>-1</td>\n      <td>0</td>\n      <td>unknown</td>\n      <td>no</td>\n    </tr>\n    <tr>\n      <th>2</th>\n      <td>55</td>\n      <td>technician</td>\n      <td>married</td>\n      <td>secondary</td>\n      <td>no</td>\n      <td>1938</td>\n      <td>no</td>\n      <td>yes</td>\n      <td>cellular</td>\n      <td>18</td>\n      <td>aug</td>\n      <td>193</td>\n      <td>1</td>\n      <td>386</td>\n      <td>3</td>\n      <td>success</td>\n      <td>yes</td>\n    </tr>\n    <tr>\n      <th>3</th>\n      <td>54</td>\n      <td>admin.</td>\n      <td>married</td>\n      <td>tertiary</td>\n      <td>no</td>\n      <td>59</td>\n      <td>yes</td>\n      <td>no</td>\n      <td>cellular</td>\n      <td>10</td>\n      <td>jul</td>\n      <td>268</td>\n      <td>1</td>\n      <td>-1</td>\n      <td>0</td>\n      <td>unknown</td>\n      <td>no</td>\n    </tr>\n    <tr>\n      <th>4</th>\n      <td>34</td>\n      <td>management</td>\n      <td>single</td>\n      <td>tertiary</td>\n      <td>no</td>\n      <td>2646</td>\n      <td>no</td>\n      <td>no</td>\n      <td>cellular</td>\n      <td>14</td>\n      <td>apr</td>\n      <td>142</td>\n      <td>1</td>\n      <td>-1</td>\n      <td>0</td>\n      <td>unknown</td>\n      <td>yes</td>\n    </tr>\n  </tbody>\n</table>\n</div>"
     },
     "execution_count": 77,
     "metadata": {},
     "output_type": "execute_result"
    }
   ],
   "source": [
    "bank_train = pd.read_csv(\"bank/train.csv\", names=[\"age\", \"job\", \"marital\", \"education\", \"default\", \"balance\", \"housing\", \"loan\", \"contact\", \"day\", \"month\", \"duration\", \"campaign\", \"pdays\", \"previous\", \"poutcome\", \"y\"])\n",
    "bank_train.head()"
   ],
   "metadata": {
    "collapsed": false,
    "ExecuteTime": {
     "end_time": "2023-09-22T07:27:22.070116Z",
     "start_time": "2023-09-22T07:27:22.059453Z"
    }
   },
   "id": "6695099c9ea085a4"
  },
  {
   "cell_type": "code",
   "execution_count": 78,
   "outputs": [
    {
     "data": {
      "text/plain": "   age           job  marital  education default  balance housing loan  \\\n0   41    management   single  secondary      no      764      no   no   \n1   39   blue-collar  married  secondary      no       49     yes   no   \n2   60       retired  married    primary      no        0      no   no   \n3   31  entrepreneur   single   tertiary      no      247     yes  yes   \n4   26       student   single    unknown      no     2020      no   no   \n\n     contact  day month  duration  campaign  pdays  previous poutcome   y  \n0   cellular   12   jun       230         2     -1         0  unknown  no  \n1   cellular   14   may       566         1    370         2  failure  no  \n2  telephone   30   jul       130         3     -1         0  unknown  no  \n3    unknown    2   jun       273         1     -1         0  unknown  no  \n4  telephone   28   jan        42         3     -1         0  unknown  no  ",
      "text/html": "<div>\n<style scoped>\n    .dataframe tbody tr th:only-of-type {\n        vertical-align: middle;\n    }\n\n    .dataframe tbody tr th {\n        vertical-align: top;\n    }\n\n    .dataframe thead th {\n        text-align: right;\n    }\n</style>\n<table border=\"1\" class=\"dataframe\">\n  <thead>\n    <tr style=\"text-align: right;\">\n      <th></th>\n      <th>age</th>\n      <th>job</th>\n      <th>marital</th>\n      <th>education</th>\n      <th>default</th>\n      <th>balance</th>\n      <th>housing</th>\n      <th>loan</th>\n      <th>contact</th>\n      <th>day</th>\n      <th>month</th>\n      <th>duration</th>\n      <th>campaign</th>\n      <th>pdays</th>\n      <th>previous</th>\n      <th>poutcome</th>\n      <th>y</th>\n    </tr>\n  </thead>\n  <tbody>\n    <tr>\n      <th>0</th>\n      <td>41</td>\n      <td>management</td>\n      <td>single</td>\n      <td>secondary</td>\n      <td>no</td>\n      <td>764</td>\n      <td>no</td>\n      <td>no</td>\n      <td>cellular</td>\n      <td>12</td>\n      <td>jun</td>\n      <td>230</td>\n      <td>2</td>\n      <td>-1</td>\n      <td>0</td>\n      <td>unknown</td>\n      <td>no</td>\n    </tr>\n    <tr>\n      <th>1</th>\n      <td>39</td>\n      <td>blue-collar</td>\n      <td>married</td>\n      <td>secondary</td>\n      <td>no</td>\n      <td>49</td>\n      <td>yes</td>\n      <td>no</td>\n      <td>cellular</td>\n      <td>14</td>\n      <td>may</td>\n      <td>566</td>\n      <td>1</td>\n      <td>370</td>\n      <td>2</td>\n      <td>failure</td>\n      <td>no</td>\n    </tr>\n    <tr>\n      <th>2</th>\n      <td>60</td>\n      <td>retired</td>\n      <td>married</td>\n      <td>primary</td>\n      <td>no</td>\n      <td>0</td>\n      <td>no</td>\n      <td>no</td>\n      <td>telephone</td>\n      <td>30</td>\n      <td>jul</td>\n      <td>130</td>\n      <td>3</td>\n      <td>-1</td>\n      <td>0</td>\n      <td>unknown</td>\n      <td>no</td>\n    </tr>\n    <tr>\n      <th>3</th>\n      <td>31</td>\n      <td>entrepreneur</td>\n      <td>single</td>\n      <td>tertiary</td>\n      <td>no</td>\n      <td>247</td>\n      <td>yes</td>\n      <td>yes</td>\n      <td>unknown</td>\n      <td>2</td>\n      <td>jun</td>\n      <td>273</td>\n      <td>1</td>\n      <td>-1</td>\n      <td>0</td>\n      <td>unknown</td>\n      <td>no</td>\n    </tr>\n    <tr>\n      <th>4</th>\n      <td>26</td>\n      <td>student</td>\n      <td>single</td>\n      <td>unknown</td>\n      <td>no</td>\n      <td>2020</td>\n      <td>no</td>\n      <td>no</td>\n      <td>telephone</td>\n      <td>28</td>\n      <td>jan</td>\n      <td>42</td>\n      <td>3</td>\n      <td>-1</td>\n      <td>0</td>\n      <td>unknown</td>\n      <td>no</td>\n    </tr>\n  </tbody>\n</table>\n</div>"
     },
     "execution_count": 78,
     "metadata": {},
     "output_type": "execute_result"
    }
   ],
   "source": [
    "bank_test = pd.read_csv(\"bank/test.csv\", names=[\"age\", \"job\", \"marital\", \"education\", \"default\", \"balance\", \"housing\", \"loan\", \"contact\", \"day\", \"month\", \"duration\", \"campaign\", \"pdays\", \"previous\", \"poutcome\", \"y\"])\n",
    "bank_test.head()"
   ],
   "metadata": {
    "collapsed": false,
    "ExecuteTime": {
     "end_time": "2023-09-22T07:27:22.096912Z",
     "start_time": "2023-09-22T07:27:22.070946Z"
    }
   },
   "id": "2261766709819d1d"
  },
  {
   "cell_type": "markdown",
   "source": [
    "### Part A"
   ],
   "metadata": {
    "collapsed": false
   },
   "id": "6f1ba979454431f9"
  },
  {
   "cell_type": "code",
   "execution_count": 79,
   "outputs": [],
   "source": [
    "def make_numerical_attributes_binary(data):\n",
    "    column_types: dict[str, str] = data.dtypes.to_dict()\n",
    "    for column in column_types:\n",
    "        if column_types[column] == \"int64\" or column_types[column] == \"float64\":\n",
    "            data[column] = data[column].apply(lambda x: x >= data[column].median())"
   ],
   "metadata": {
    "collapsed": false,
    "ExecuteTime": {
     "end_time": "2023-09-22T07:27:22.097372Z",
     "start_time": "2023-09-22T07:27:22.081772Z"
    }
   },
   "id": "d809c182736292f0"
  },
  {
   "cell_type": "markdown",
   "source": [
    "Let's use a modified dataframe with binary attributes called binary_bank_test."
   ],
   "metadata": {
    "collapsed": false
   },
   "id": "b507236477fe01f1"
  },
  {
   "cell_type": "code",
   "execution_count": 80,
   "outputs": [
    {
     "data": {
      "text/plain": "     age           job  marital  education default  balance housing loan  \\\n0   True    management   single  secondary      no     True      no   no   \n1   True   blue-collar  married  secondary      no    False     yes   no   \n2   True       retired  married    primary      no    False      no   no   \n3  False  entrepreneur   single   tertiary      no    False     yes  yes   \n4  False       student   single    unknown      no     True      no   no   \n\n     contact    day month  duration  campaign  pdays  previous poutcome   y  \n0   cellular  False   jun      True      True   True      True  unknown  no  \n1   cellular  False   may      True     False   True      True  failure  no  \n2  telephone   True   jul     False      True   True      True  unknown  no  \n3    unknown  False   jun      True     False   True      True  unknown  no  \n4  telephone   True   jan     False      True   True      True  unknown  no  ",
      "text/html": "<div>\n<style scoped>\n    .dataframe tbody tr th:only-of-type {\n        vertical-align: middle;\n    }\n\n    .dataframe tbody tr th {\n        vertical-align: top;\n    }\n\n    .dataframe thead th {\n        text-align: right;\n    }\n</style>\n<table border=\"1\" class=\"dataframe\">\n  <thead>\n    <tr style=\"text-align: right;\">\n      <th></th>\n      <th>age</th>\n      <th>job</th>\n      <th>marital</th>\n      <th>education</th>\n      <th>default</th>\n      <th>balance</th>\n      <th>housing</th>\n      <th>loan</th>\n      <th>contact</th>\n      <th>day</th>\n      <th>month</th>\n      <th>duration</th>\n      <th>campaign</th>\n      <th>pdays</th>\n      <th>previous</th>\n      <th>poutcome</th>\n      <th>y</th>\n    </tr>\n  </thead>\n  <tbody>\n    <tr>\n      <th>0</th>\n      <td>True</td>\n      <td>management</td>\n      <td>single</td>\n      <td>secondary</td>\n      <td>no</td>\n      <td>True</td>\n      <td>no</td>\n      <td>no</td>\n      <td>cellular</td>\n      <td>False</td>\n      <td>jun</td>\n      <td>True</td>\n      <td>True</td>\n      <td>True</td>\n      <td>True</td>\n      <td>unknown</td>\n      <td>no</td>\n    </tr>\n    <tr>\n      <th>1</th>\n      <td>True</td>\n      <td>blue-collar</td>\n      <td>married</td>\n      <td>secondary</td>\n      <td>no</td>\n      <td>False</td>\n      <td>yes</td>\n      <td>no</td>\n      <td>cellular</td>\n      <td>False</td>\n      <td>may</td>\n      <td>True</td>\n      <td>False</td>\n      <td>True</td>\n      <td>True</td>\n      <td>failure</td>\n      <td>no</td>\n    </tr>\n    <tr>\n      <th>2</th>\n      <td>True</td>\n      <td>retired</td>\n      <td>married</td>\n      <td>primary</td>\n      <td>no</td>\n      <td>False</td>\n      <td>no</td>\n      <td>no</td>\n      <td>telephone</td>\n      <td>True</td>\n      <td>jul</td>\n      <td>False</td>\n      <td>True</td>\n      <td>True</td>\n      <td>True</td>\n      <td>unknown</td>\n      <td>no</td>\n    </tr>\n    <tr>\n      <th>3</th>\n      <td>False</td>\n      <td>entrepreneur</td>\n      <td>single</td>\n      <td>tertiary</td>\n      <td>no</td>\n      <td>False</td>\n      <td>yes</td>\n      <td>yes</td>\n      <td>unknown</td>\n      <td>False</td>\n      <td>jun</td>\n      <td>True</td>\n      <td>False</td>\n      <td>True</td>\n      <td>True</td>\n      <td>unknown</td>\n      <td>no</td>\n    </tr>\n    <tr>\n      <th>4</th>\n      <td>False</td>\n      <td>student</td>\n      <td>single</td>\n      <td>unknown</td>\n      <td>no</td>\n      <td>True</td>\n      <td>no</td>\n      <td>no</td>\n      <td>telephone</td>\n      <td>True</td>\n      <td>jan</td>\n      <td>False</td>\n      <td>True</td>\n      <td>True</td>\n      <td>True</td>\n      <td>unknown</td>\n      <td>no</td>\n    </tr>\n  </tbody>\n</table>\n</div>"
     },
     "execution_count": 80,
     "metadata": {},
     "output_type": "execute_result"
    }
   ],
   "source": [
    "binary_bank_test: pd.DataFrame = bank_test[:]\n",
    "pd.DataFrame = make_numerical_attributes_binary(binary_bank_test)\n",
    "binary_bank_test.head()"
   ],
   "metadata": {
    "collapsed": false,
    "ExecuteTime": {
     "end_time": "2023-09-22T07:27:22.643554Z",
     "start_time": "2023-09-22T07:27:22.084665Z"
    }
   },
   "id": "f84f5b5a0650e5ed"
  },
  {
   "cell_type": "code",
   "execution_count": 97,
   "outputs": [
    {
     "name": "stdout",
     "output_type": "stream",
     "text": [
      "['services' 'blue-collar' 'technician' 'admin.' 'management' 'unknown'\n",
      " 'student' 'self-employed' 'retired' 'housemaid' 'unemployed'\n",
      " 'entrepreneur']\n"
     ]
    },
    {
     "data": {
      "text/plain": "     age          job  marital  education default  balance housing loan  \\\n0   True     services  married  secondary      no    False     yes   no   \n1   True  blue-collar   single  secondary      no    False     yes  yes   \n2   True   technician  married  secondary      no     True      no  yes   \n3   True       admin.  married   tertiary      no    False     yes   no   \n4  False   management   single   tertiary      no     True      no   no   \n\n    contact    day month  duration  campaign  pdays  previous poutcome    y  \n0   unknown  False   may     False      True   True      True  unknown   no  \n1  cellular  False   feb      True      True   True      True  unknown   no  \n2  cellular   True   aug      True     False   True      True  success  yes  \n3  cellular  False   jul      True     False   True      True  unknown   no  \n4  cellular  False   apr     False     False   True      True  unknown  yes  ",
      "text/html": "<div>\n<style scoped>\n    .dataframe tbody tr th:only-of-type {\n        vertical-align: middle;\n    }\n\n    .dataframe tbody tr th {\n        vertical-align: top;\n    }\n\n    .dataframe thead th {\n        text-align: right;\n    }\n</style>\n<table border=\"1\" class=\"dataframe\">\n  <thead>\n    <tr style=\"text-align: right;\">\n      <th></th>\n      <th>age</th>\n      <th>job</th>\n      <th>marital</th>\n      <th>education</th>\n      <th>default</th>\n      <th>balance</th>\n      <th>housing</th>\n      <th>loan</th>\n      <th>contact</th>\n      <th>day</th>\n      <th>month</th>\n      <th>duration</th>\n      <th>campaign</th>\n      <th>pdays</th>\n      <th>previous</th>\n      <th>poutcome</th>\n      <th>y</th>\n    </tr>\n  </thead>\n  <tbody>\n    <tr>\n      <th>0</th>\n      <td>True</td>\n      <td>services</td>\n      <td>married</td>\n      <td>secondary</td>\n      <td>no</td>\n      <td>False</td>\n      <td>yes</td>\n      <td>no</td>\n      <td>unknown</td>\n      <td>False</td>\n      <td>may</td>\n      <td>False</td>\n      <td>True</td>\n      <td>True</td>\n      <td>True</td>\n      <td>unknown</td>\n      <td>no</td>\n    </tr>\n    <tr>\n      <th>1</th>\n      <td>True</td>\n      <td>blue-collar</td>\n      <td>single</td>\n      <td>secondary</td>\n      <td>no</td>\n      <td>False</td>\n      <td>yes</td>\n      <td>yes</td>\n      <td>cellular</td>\n      <td>False</td>\n      <td>feb</td>\n      <td>True</td>\n      <td>True</td>\n      <td>True</td>\n      <td>True</td>\n      <td>unknown</td>\n      <td>no</td>\n    </tr>\n    <tr>\n      <th>2</th>\n      <td>True</td>\n      <td>technician</td>\n      <td>married</td>\n      <td>secondary</td>\n      <td>no</td>\n      <td>True</td>\n      <td>no</td>\n      <td>yes</td>\n      <td>cellular</td>\n      <td>True</td>\n      <td>aug</td>\n      <td>True</td>\n      <td>False</td>\n      <td>True</td>\n      <td>True</td>\n      <td>success</td>\n      <td>yes</td>\n    </tr>\n    <tr>\n      <th>3</th>\n      <td>True</td>\n      <td>admin.</td>\n      <td>married</td>\n      <td>tertiary</td>\n      <td>no</td>\n      <td>False</td>\n      <td>yes</td>\n      <td>no</td>\n      <td>cellular</td>\n      <td>False</td>\n      <td>jul</td>\n      <td>True</td>\n      <td>False</td>\n      <td>True</td>\n      <td>True</td>\n      <td>unknown</td>\n      <td>no</td>\n    </tr>\n    <tr>\n      <th>4</th>\n      <td>False</td>\n      <td>management</td>\n      <td>single</td>\n      <td>tertiary</td>\n      <td>no</td>\n      <td>True</td>\n      <td>no</td>\n      <td>no</td>\n      <td>cellular</td>\n      <td>False</td>\n      <td>apr</td>\n      <td>False</td>\n      <td>False</td>\n      <td>True</td>\n      <td>True</td>\n      <td>unknown</td>\n      <td>yes</td>\n    </tr>\n  </tbody>\n</table>\n</div>"
     },
     "execution_count": 97,
     "metadata": {},
     "output_type": "execute_result"
    }
   ],
   "source": [
    "binary_bank_train: pd.DataFrame = bank_train[:]\n",
    "pd.DataFrame = make_numerical_attributes_binary(binary_bank_train)\n",
    "binary_bank_train.head()"
   ],
   "metadata": {
    "collapsed": false,
    "ExecuteTime": {
     "end_time": "2023-09-22T07:57:48.392223Z",
     "start_time": "2023-09-22T07:57:47.857294Z"
    }
   },
   "id": "bf77fe5fc9d94e83"
  },
  {
   "cell_type": "markdown",
   "source": [
    "Let's now make 16 trees varying form depth of 1 through 16. We will first use entropy."
   ],
   "metadata": {
    "collapsed": false
   },
   "id": "b2400dfa39582b8d"
  },
  {
   "cell_type": "code",
   "execution_count": 82,
   "outputs": [],
   "source": [
    "trees: list[DecisionTree] = []\n",
    "for i in range (1, 17):\n",
    "    tree: DecisionTree = DecisionTree(binary_bank_test)\n",
    "    tree.build(attributes=set(binary_bank_test.columns) - {\"y\"}, label=\"y\", splitting_criteria=tree.entropy, set_depth=i)\n",
    "    trees.append(tree)"
   ],
   "metadata": {
    "collapsed": false,
    "ExecuteTime": {
     "end_time": "2023-09-22T07:27:54.998122Z",
     "start_time": "2023-09-22T07:27:23.159302Z"
    }
   },
   "id": "b275283260e5ac43"
  },
  {
   "cell_type": "markdown",
   "source": [
    "Let's now make a prediction using the 16 trees above on the training data."
   ],
   "metadata": {
    "collapsed": false
   },
   "id": "e107236bf71d83b5"
  },
  {
   "cell_type": "code",
   "execution_count": 83,
   "outputs": [
    {
     "name": "stdout",
     "output_type": "stream",
     "text": [
      "0.11919999999999997\n",
      "0.11180000000000001\n",
      "0.10860000000000003\n",
      "0.10860000000000003\n",
      "0.11739999999999995\n",
      "0.129\n",
      "0.136\n",
      "0.14339999999999997\n",
      "0.14600000000000002\n",
      "0.15000000000000002\n",
      "0.14939999999999998\n",
      "0.15000000000000002\n",
      "0.15000000000000002\n",
      "0.15000000000000002\n",
      "0.15000000000000002\n",
      "0.15000000000000002\n"
     ]
    }
   ],
   "source": [
    "for tree in trees:\n",
    "    print(1 - predict_dataframe(tree, binary_bank_train, \"y\"))"
   ],
   "metadata": {
    "collapsed": false,
    "ExecuteTime": {
     "end_time": "2023-09-22T07:28:03.446805Z",
     "start_time": "2023-09-22T07:27:55.053556Z"
    }
   },
   "id": "a3096cdd7945e2e1"
  },
  {
   "cell_type": "markdown",
   "source": [],
   "metadata": {
    "collapsed": false
   },
   "id": "b0da0e1222792660"
  },
  {
   "cell_type": "markdown",
   "source": [
    "Let's now make a prediction using the 16 trees above on the test data."
   ],
   "metadata": {
    "collapsed": false
   },
   "id": "7872f96480829558"
  },
  {
   "cell_type": "code",
   "execution_count": 85,
   "outputs": [
    {
     "name": "stdout",
     "output_type": "stream",
     "text": [
      "0.12480000000000002\n",
      "0.11480000000000001\n",
      "0.09619999999999995\n",
      "0.08020000000000005\n",
      "0.06279999999999997\n",
      "0.046599999999999975\n",
      "0.032399999999999984\n",
      "0.02400000000000002\n",
      "0.018199999999999994\n",
      "0.014000000000000012\n",
      "0.012399999999999967\n",
      "0.01200000000000001\n",
      "0.01200000000000001\n",
      "0.01200000000000001\n",
      "0.01200000000000001\n",
      "0.01200000000000001\n"
     ]
    }
   ],
   "source": [
    "for tree in trees:\n",
    "    print(1 - predict_dataframe(tree, binary_bank_test, \"y\"))"
   ],
   "metadata": {
    "collapsed": false,
    "ExecuteTime": {
     "end_time": "2023-09-22T07:31:31.977557Z",
     "start_time": "2023-09-22T07:31:23.797358Z"
    }
   },
   "id": "4dcc2dac80ea6183"
  },
  {
   "cell_type": "markdown",
   "source": [
    "Let's now make 16 trees varying form depth of 1 through 16. We will now use ginni_index."
   ],
   "metadata": {
    "collapsed": false
   },
   "id": "283fb298d62e73a8"
  },
  {
   "cell_type": "code",
   "execution_count": 86,
   "outputs": [],
   "source": [
    "trees: list[DecisionTree] = []\n",
    "for i in range (1, 17):\n",
    "    tree: DecisionTree = DecisionTree(binary_bank_test)\n",
    "    tree.build(attributes=set(binary_bank_test.columns) - {\"y\"}, label=\"y\", splitting_criteria=tree.ginni_index, set_depth=i)\n",
    "    trees.append(tree)"
   ],
   "metadata": {
    "collapsed": false,
    "ExecuteTime": {
     "end_time": "2023-09-22T07:33:30.516068Z",
     "start_time": "2023-09-22T07:32:58.010571Z"
    }
   },
   "id": "d63e8d7cef57906c"
  },
  {
   "cell_type": "markdown",
   "source": [
    "Let's now make a prediction using the 16 trees above on the train data."
   ],
   "metadata": {
    "collapsed": false
   },
   "id": "ca8db04c39a23293"
  },
  {
   "cell_type": "code",
   "execution_count": 87,
   "outputs": [
    {
     "name": "stdout",
     "output_type": "stream",
     "text": [
      "0.10880000000000001\n",
      "0.10560000000000003\n",
      "0.11060000000000003\n",
      "0.11699999999999999\n",
      "0.122\n",
      "0.12939999999999996\n",
      "0.1402\n",
      "0.14680000000000004\n",
      "0.15080000000000005\n",
      "0.15500000000000003\n",
      "0.15459999999999996\n",
      "0.15480000000000005\n",
      "0.15480000000000005\n",
      "0.15480000000000005\n",
      "0.15480000000000005\n",
      "0.15480000000000005\n"
     ]
    }
   ],
   "source": [
    "for tree in trees:\n",
    "    print(1 - predict_dataframe(tree, binary_bank_train, \"y\"))"
   ],
   "metadata": {
    "collapsed": false,
    "ExecuteTime": {
     "end_time": "2023-09-22T07:33:46.686485Z",
     "start_time": "2023-09-22T07:33:37.669630Z"
    }
   },
   "id": "1a5b2610af314ff4"
  },
  {
   "cell_type": "markdown",
   "source": [
    "Let's now make a prediction using the 16 trees above on the test data."
   ],
   "metadata": {
    "collapsed": false
   },
   "id": "7933d0ca295b9ebb"
  },
  {
   "cell_type": "code",
   "execution_count": 88,
   "outputs": [
    {
     "name": "stdout",
     "output_type": "stream",
     "text": [
      "0.11660000000000004\n",
      "0.1078\n",
      "0.09340000000000004\n",
      "0.07679999999999998\n",
      "0.05820000000000003\n",
      "0.04500000000000004\n",
      "0.03159999999999996\n",
      "0.023800000000000043\n",
      "0.018399999999999972\n",
      "0.014399999999999968\n",
      "0.012199999999999989\n",
      "0.01200000000000001\n",
      "0.01200000000000001\n",
      "0.01200000000000001\n",
      "0.01200000000000001\n",
      "0.01200000000000001\n"
     ]
    }
   ],
   "source": [
    "for tree in trees:\n",
    "    print(1 - predict_dataframe(tree, binary_bank_test, \"y\"))"
   ],
   "metadata": {
    "collapsed": false,
    "ExecuteTime": {
     "end_time": "2023-09-22T07:33:58.562777Z",
     "start_time": "2023-09-22T07:33:49.963153Z"
    }
   },
   "id": "a2d394598c637d49"
  },
  {
   "cell_type": "markdown",
   "source": [
    "Let's now make 16 trees varying form depth of 1 through 16. We will now use majority error."
   ],
   "metadata": {
    "collapsed": false
   },
   "id": "af0ef944f3e11bf8"
  },
  {
   "cell_type": "code",
   "execution_count": 89,
   "outputs": [],
   "source": [
    "trees: list[DecisionTree] = []\n",
    "for i in range (1, 17):\n",
    "    tree: DecisionTree = DecisionTree(binary_bank_test)\n",
    "    tree.build(attributes=set(binary_bank_test.columns) - {\"y\"}, label=\"y\", splitting_criteria=tree.majority_error, set_depth=i)\n",
    "    trees.append(tree)"
   ],
   "metadata": {
    "collapsed": false,
    "ExecuteTime": {
     "end_time": "2023-09-22T07:38:05.716652Z",
     "start_time": "2023-09-22T07:37:16.172682Z"
    }
   },
   "id": "bdabc087fbe33577"
  },
  {
   "cell_type": "markdown",
   "source": [
    "Let's now make a prediction using the 16 trees above on the train data."
   ],
   "metadata": {
    "collapsed": false
   },
   "id": "dd5fd65e9cf39812"
  },
  {
   "cell_type": "code",
   "execution_count": 90,
   "outputs": [
    {
     "name": "stdout",
     "output_type": "stream",
     "text": [
      "0.10880000000000001\n",
      "0.10560000000000003\n",
      "0.10999999999999999\n",
      "0.11599999999999999\n",
      "0.12219999999999998\n",
      "0.12880000000000003\n",
      "0.13539999999999996\n",
      "0.14339999999999997\n",
      "0.14759999999999995\n",
      "0.15339999999999998\n",
      "0.15580000000000005\n",
      "0.15680000000000005\n",
      "0.15880000000000005\n",
      "0.16080000000000005\n",
      "0.16159999999999997\n",
      "0.16180000000000005\n"
     ]
    }
   ],
   "source": [
    "for tree in trees:\n",
    "    print(1 - predict_dataframe(tree, binary_bank_train, \"y\"))"
   ],
   "metadata": {
    "collapsed": false,
    "ExecuteTime": {
     "end_time": "2023-09-22T07:38:42.887043Z",
     "start_time": "2023-09-22T07:38:31.973428Z"
    }
   },
   "id": "226fe5e33e93ea7"
  },
  {
   "cell_type": "markdown",
   "source": [
    "Let's now make a prediction using the 16 trees above on the test data"
   ],
   "metadata": {
    "collapsed": false
   },
   "id": "1a11a47a7f19682c"
  },
  {
   "cell_type": "code",
   "execution_count": 91,
   "outputs": [
    {
     "name": "stdout",
     "output_type": "stream",
     "text": [
      "0.11660000000000004\n",
      "0.1078\n",
      "0.0928\n",
      "0.08040000000000003\n",
      "0.0686\n",
      "0.059599999999999986\n",
      "0.0494\n",
      "0.041000000000000036\n",
      "0.035800000000000054\n",
      "0.02739999999999998\n",
      "0.021199999999999997\n",
      "0.018199999999999994\n",
      "0.015199999999999991\n",
      "0.01319999999999999\n",
      "0.012199999999999989\n",
      "0.01200000000000001\n"
     ]
    }
   ],
   "source": [
    "for tree in trees:\n",
    "    print(1 - predict_dataframe(tree, binary_bank_test, \"y\"))"
   ],
   "metadata": {
    "collapsed": false,
    "ExecuteTime": {
     "end_time": "2023-09-22T07:39:04.787472Z",
     "start_time": "2023-09-22T07:38:54.394401Z"
    }
   },
   "id": "e6d4a1bd573fcdf0"
  },
  {
   "cell_type": "markdown",
   "source": [
    "### Part B"
   ],
   "metadata": {
    "collapsed": false
   },
   "id": "70df0c83e2b6b06b"
  },
  {
   "cell_type": "code",
   "execution_count": 98,
   "outputs": [
    {
     "name": "stdout",
     "output_type": "stream",
     "text": [
      "['secondary' 'tertiary' 'primary']\n"
     ]
    },
    {
     "data": {
      "text/plain": "     age          job  marital  education default  balance housing loan  \\\n0   True     services  married  secondary      no    False     yes   no   \n1   True  blue-collar   single  secondary      no    False     yes  yes   \n2   True   technician  married  secondary      no     True      no  yes   \n3   True       admin.  married   tertiary      no    False     yes   no   \n4  False   management   single   tertiary      no     True      no   no   \n\n    contact    day month  duration  campaign  pdays  previous poutcome    y  \n0  cellular  False   may     False      True   True      True  unknown   no  \n1  cellular  False   feb      True      True   True      True  unknown   no  \n2  cellular   True   aug      True     False   True      True  success  yes  \n3  cellular  False   jul      True     False   True      True  unknown   no  \n4  cellular  False   apr     False     False   True      True  unknown  yes  ",
      "text/html": "<div>\n<style scoped>\n    .dataframe tbody tr th:only-of-type {\n        vertical-align: middle;\n    }\n\n    .dataframe tbody tr th {\n        vertical-align: top;\n    }\n\n    .dataframe thead th {\n        text-align: right;\n    }\n</style>\n<table border=\"1\" class=\"dataframe\">\n  <thead>\n    <tr style=\"text-align: right;\">\n      <th></th>\n      <th>age</th>\n      <th>job</th>\n      <th>marital</th>\n      <th>education</th>\n      <th>default</th>\n      <th>balance</th>\n      <th>housing</th>\n      <th>loan</th>\n      <th>contact</th>\n      <th>day</th>\n      <th>month</th>\n      <th>duration</th>\n      <th>campaign</th>\n      <th>pdays</th>\n      <th>previous</th>\n      <th>poutcome</th>\n      <th>y</th>\n    </tr>\n  </thead>\n  <tbody>\n    <tr>\n      <th>0</th>\n      <td>True</td>\n      <td>services</td>\n      <td>married</td>\n      <td>secondary</td>\n      <td>no</td>\n      <td>False</td>\n      <td>yes</td>\n      <td>no</td>\n      <td>cellular</td>\n      <td>False</td>\n      <td>may</td>\n      <td>False</td>\n      <td>True</td>\n      <td>True</td>\n      <td>True</td>\n      <td>unknown</td>\n      <td>no</td>\n    </tr>\n    <tr>\n      <th>1</th>\n      <td>True</td>\n      <td>blue-collar</td>\n      <td>single</td>\n      <td>secondary</td>\n      <td>no</td>\n      <td>False</td>\n      <td>yes</td>\n      <td>yes</td>\n      <td>cellular</td>\n      <td>False</td>\n      <td>feb</td>\n      <td>True</td>\n      <td>True</td>\n      <td>True</td>\n      <td>True</td>\n      <td>unknown</td>\n      <td>no</td>\n    </tr>\n    <tr>\n      <th>2</th>\n      <td>True</td>\n      <td>technician</td>\n      <td>married</td>\n      <td>secondary</td>\n      <td>no</td>\n      <td>True</td>\n      <td>no</td>\n      <td>yes</td>\n      <td>cellular</td>\n      <td>True</td>\n      <td>aug</td>\n      <td>True</td>\n      <td>False</td>\n      <td>True</td>\n      <td>True</td>\n      <td>success</td>\n      <td>yes</td>\n    </tr>\n    <tr>\n      <th>3</th>\n      <td>True</td>\n      <td>admin.</td>\n      <td>married</td>\n      <td>tertiary</td>\n      <td>no</td>\n      <td>False</td>\n      <td>yes</td>\n      <td>no</td>\n      <td>cellular</td>\n      <td>False</td>\n      <td>jul</td>\n      <td>True</td>\n      <td>False</td>\n      <td>True</td>\n      <td>True</td>\n      <td>unknown</td>\n      <td>no</td>\n    </tr>\n    <tr>\n      <th>4</th>\n      <td>False</td>\n      <td>management</td>\n      <td>single</td>\n      <td>tertiary</td>\n      <td>no</td>\n      <td>True</td>\n      <td>no</td>\n      <td>no</td>\n      <td>cellular</td>\n      <td>False</td>\n      <td>apr</td>\n      <td>False</td>\n      <td>False</td>\n      <td>True</td>\n      <td>True</td>\n      <td>unknown</td>\n      <td>yes</td>\n    </tr>\n  </tbody>\n</table>\n</div>"
     },
     "execution_count": 98,
     "metadata": {},
     "output_type": "execute_result"
    }
   ],
   "source": [
    "def fill_unknown(data: pd.DataFrame) -> pd.DataFrame:\n",
    "    data_copy = data[:]\n",
    "    for column in data:\n",
    "        data_copy[column] = data_copy[column].apply(lambda x: data[column].mode()[0] if x == \"unknown\" else x)\n",
    "    return data_copy\n",
    "\n",
    "binary_bank_train_no_unknown: pd.DataFrame = fill_unknown(binary_bank_train)\n",
    "print(binary_bank_train_no_unknown[\"education\"].unique()) # check to ensure no unknowns\n",
    "binary_bank_train_no_unknown.head()"
   ],
   "metadata": {
    "collapsed": false,
    "ExecuteTime": {
     "end_time": "2023-09-22T07:58:48.271439Z",
     "start_time": "2023-09-22T07:58:47.529453Z"
    }
   },
   "id": "af335da760a03"
  },
  {
   "cell_type": "markdown",
   "source": [
    "Let's also create the test data without the unknown values."
   ],
   "metadata": {
    "collapsed": false
   },
   "id": "e9ffe03b12fad8c2"
  },
  {
   "cell_type": "code",
   "execution_count": 99,
   "outputs": [
    {
     "name": "stdout",
     "output_type": "stream",
     "text": [
      "['secondary' 'primary' 'tertiary']\n"
     ]
    },
    {
     "data": {
      "text/plain": "     age           job  marital  education default  balance housing loan  \\\n0   True    management   single  secondary      no     True      no   no   \n1   True   blue-collar  married  secondary      no    False     yes   no   \n2   True       retired  married    primary      no    False      no   no   \n3  False  entrepreneur   single   tertiary      no    False     yes  yes   \n4  False       student   single  secondary      no     True      no   no   \n\n     contact    day month  duration  campaign  pdays  previous poutcome   y  \n0   cellular  False   jun      True      True   True      True  unknown  no  \n1   cellular  False   may      True     False   True      True  failure  no  \n2  telephone   True   jul     False      True   True      True  unknown  no  \n3   cellular  False   jun      True     False   True      True  unknown  no  \n4  telephone   True   jan     False      True   True      True  unknown  no  ",
      "text/html": "<div>\n<style scoped>\n    .dataframe tbody tr th:only-of-type {\n        vertical-align: middle;\n    }\n\n    .dataframe tbody tr th {\n        vertical-align: top;\n    }\n\n    .dataframe thead th {\n        text-align: right;\n    }\n</style>\n<table border=\"1\" class=\"dataframe\">\n  <thead>\n    <tr style=\"text-align: right;\">\n      <th></th>\n      <th>age</th>\n      <th>job</th>\n      <th>marital</th>\n      <th>education</th>\n      <th>default</th>\n      <th>balance</th>\n      <th>housing</th>\n      <th>loan</th>\n      <th>contact</th>\n      <th>day</th>\n      <th>month</th>\n      <th>duration</th>\n      <th>campaign</th>\n      <th>pdays</th>\n      <th>previous</th>\n      <th>poutcome</th>\n      <th>y</th>\n    </tr>\n  </thead>\n  <tbody>\n    <tr>\n      <th>0</th>\n      <td>True</td>\n      <td>management</td>\n      <td>single</td>\n      <td>secondary</td>\n      <td>no</td>\n      <td>True</td>\n      <td>no</td>\n      <td>no</td>\n      <td>cellular</td>\n      <td>False</td>\n      <td>jun</td>\n      <td>True</td>\n      <td>True</td>\n      <td>True</td>\n      <td>True</td>\n      <td>unknown</td>\n      <td>no</td>\n    </tr>\n    <tr>\n      <th>1</th>\n      <td>True</td>\n      <td>blue-collar</td>\n      <td>married</td>\n      <td>secondary</td>\n      <td>no</td>\n      <td>False</td>\n      <td>yes</td>\n      <td>no</td>\n      <td>cellular</td>\n      <td>False</td>\n      <td>may</td>\n      <td>True</td>\n      <td>False</td>\n      <td>True</td>\n      <td>True</td>\n      <td>failure</td>\n      <td>no</td>\n    </tr>\n    <tr>\n      <th>2</th>\n      <td>True</td>\n      <td>retired</td>\n      <td>married</td>\n      <td>primary</td>\n      <td>no</td>\n      <td>False</td>\n      <td>no</td>\n      <td>no</td>\n      <td>telephone</td>\n      <td>True</td>\n      <td>jul</td>\n      <td>False</td>\n      <td>True</td>\n      <td>True</td>\n      <td>True</td>\n      <td>unknown</td>\n      <td>no</td>\n    </tr>\n    <tr>\n      <th>3</th>\n      <td>False</td>\n      <td>entrepreneur</td>\n      <td>single</td>\n      <td>tertiary</td>\n      <td>no</td>\n      <td>False</td>\n      <td>yes</td>\n      <td>yes</td>\n      <td>cellular</td>\n      <td>False</td>\n      <td>jun</td>\n      <td>True</td>\n      <td>False</td>\n      <td>True</td>\n      <td>True</td>\n      <td>unknown</td>\n      <td>no</td>\n    </tr>\n    <tr>\n      <th>4</th>\n      <td>False</td>\n      <td>student</td>\n      <td>single</td>\n      <td>secondary</td>\n      <td>no</td>\n      <td>True</td>\n      <td>no</td>\n      <td>no</td>\n      <td>telephone</td>\n      <td>True</td>\n      <td>jan</td>\n      <td>False</td>\n      <td>True</td>\n      <td>True</td>\n      <td>True</td>\n      <td>unknown</td>\n      <td>no</td>\n    </tr>\n  </tbody>\n</table>\n</div>"
     },
     "execution_count": 99,
     "metadata": {},
     "output_type": "execute_result"
    }
   ],
   "source": [
    "binary_bank_test_no_unknown: pd.DataFrame = fill_unknown(binary_bank_test)\n",
    "print(binary_bank_test_no_unknown[\"education\"].unique()) # check to ensure no unknowns\n",
    "binary_bank_test_no_unknown.head()"
   ],
   "metadata": {
    "collapsed": false,
    "ExecuteTime": {
     "end_time": "2023-09-22T08:00:03.556921Z",
     "start_time": "2023-09-22T08:00:02.810209Z"
    }
   },
   "id": "e5dae72d6796dc4b"
  },
  {
   "cell_type": "markdown",
   "source": [],
   "metadata": {
    "collapsed": false
   },
   "id": "edec0e7ea6d69560"
  },
  {
   "cell_type": "markdown",
   "source": [
    "Let's now make 16 trees varying form depth of 1 through 16. We will first use entropy."
   ],
   "metadata": {
    "collapsed": false
   },
   "id": "35fa938029de5762"
  },
  {
   "cell_type": "code",
   "execution_count": 100,
   "outputs": [],
   "source": [
    "trees: list[DecisionTree] = []\n",
    "for i in range (1, 17):\n",
    "    tree: DecisionTree = DecisionTree(binary_bank_test_no_unknown)\n",
    "    tree.build(attributes=set(binary_bank_test_no_unknown.columns) - {\"y\"}, label=\"y\", splitting_criteria=tree.entropy, set_depth=i)\n",
    "    trees.append(tree)"
   ],
   "metadata": {
    "collapsed": false,
    "ExecuteTime": {
     "end_time": "2023-09-22T08:09:21.983332Z",
     "start_time": "2023-09-22T08:08:50.204089Z"
    }
   },
   "id": "12488fa875e0791e"
  },
  {
   "cell_type": "markdown",
   "source": [
    "Let's now make a prediction using the 16 trees above on the training data."
   ],
   "metadata": {
    "collapsed": false
   },
   "id": "2f90b1e0781dddd8"
  },
  {
   "cell_type": "code",
   "execution_count": 102,
   "outputs": [
    {
     "name": "stdout",
     "output_type": "stream",
     "text": [
      "0.11919999999999997\n",
      "0.11180000000000001\n",
      "0.1078\n",
      "0.10980000000000001\n",
      "0.11619999999999997\n",
      "0.126\n",
      "0.1372\n",
      "0.1462\n",
      "0.14880000000000004\n",
      "0.1562\n",
      "0.1562\n",
      "0.1562\n",
      "0.1562\n",
      "0.1562\n",
      "0.1562\n",
      "0.1562\n"
     ]
    }
   ],
   "source": [
    "for tree in trees:\n",
    "    print(1 - predict_dataframe(tree, binary_bank_train_no_unknown, \"y\"))"
   ],
   "metadata": {
    "collapsed": false,
    "ExecuteTime": {
     "end_time": "2023-09-22T08:09:52.224609Z",
     "start_time": "2023-09-22T08:09:42.717072Z"
    }
   },
   "id": "70ab31533a448aa3"
  },
  {
   "cell_type": "markdown",
   "source": [
    "Let's now make a prediction using the 16 trees above on the test data."
   ],
   "metadata": {
    "collapsed": false
   },
   "id": "80712a31a2dd2048"
  },
  {
   "cell_type": "code",
   "execution_count": 103,
   "outputs": [
    {
     "name": "stdout",
     "output_type": "stream",
     "text": [
      "0.12480000000000002\n",
      "0.11480000000000001\n",
      "0.09519999999999995\n",
      "0.08079999999999998\n",
      "0.06540000000000001\n",
      "0.04959999999999998\n",
      "0.037799999999999945\n",
      "0.027200000000000002\n",
      "0.023599999999999954\n",
      "0.018000000000000016\n",
      "0.015599999999999947\n",
      "0.01539999999999997\n",
      "0.01539999999999997\n",
      "0.01539999999999997\n",
      "0.01539999999999997\n",
      "0.01539999999999997\n"
     ]
    }
   ],
   "source": [
    "for tree in trees:\n",
    "    print(1 - predict_dataframe(tree, binary_bank_test_no_unknown, \"y\"))"
   ],
   "metadata": {
    "collapsed": false,
    "ExecuteTime": {
     "end_time": "2023-09-22T08:10:53.926043Z",
     "start_time": "2023-09-22T08:10:45.457390Z"
    }
   },
   "id": "1415ed475e53dd70"
  },
  {
   "cell_type": "markdown",
   "source": [
    "Let's now make 16 trees varying form depth of 1 through 16. We will now use ginni index."
   ],
   "metadata": {
    "collapsed": false
   },
   "id": "17314b80c3565c98"
  },
  {
   "cell_type": "code",
   "execution_count": 104,
   "outputs": [],
   "source": [
    "trees: list[DecisionTree] = []\n",
    "for i in range (1, 17):\n",
    "    tree: DecisionTree = DecisionTree(binary_bank_test_no_unknown)\n",
    "    tree.build(attributes=set(binary_bank_test_no_unknown.columns) - {\"y\"}, label=\"y\", splitting_criteria=tree.entropy, set_depth=i)\n",
    "    trees.append(tree)"
   ],
   "metadata": {
    "collapsed": false,
    "ExecuteTime": {
     "end_time": "2023-09-22T08:14:05.539401Z",
     "start_time": "2023-09-22T08:13:32.879024Z"
    }
   },
   "id": "f3cf7ef08a2e0d25"
  },
  {
   "cell_type": "markdown",
   "source": [
    "Let's now make a prediction using the 16 trees above on the training data."
   ],
   "metadata": {
    "collapsed": false
   },
   "id": "ad1ce586ad36a6ce"
  },
  {
   "cell_type": "code",
   "execution_count": 105,
   "outputs": [
    {
     "name": "stdout",
     "output_type": "stream",
     "text": [
      "0.11919999999999997\n",
      "0.11180000000000001\n",
      "0.1078\n",
      "0.10980000000000001\n",
      "0.11619999999999997\n",
      "0.126\n",
      "0.1372\n",
      "0.1462\n",
      "0.14880000000000004\n",
      "0.1562\n",
      "0.1562\n",
      "0.1562\n",
      "0.1562\n",
      "0.1562\n",
      "0.1562\n",
      "0.1562\n"
     ]
    }
   ],
   "source": [
    "for tree in trees:\n",
    "    print(1 - predict_dataframe(tree, binary_bank_train_no_unknown, \"y\"))"
   ],
   "metadata": {
    "collapsed": false,
    "ExecuteTime": {
     "end_time": "2023-09-22T08:14:25.133227Z",
     "start_time": "2023-09-22T08:14:15.520258Z"
    }
   },
   "id": "5ad2e3f25d35b816"
  },
  {
   "cell_type": "markdown",
   "source": [
    "Let's now make a prediction using the 16 trees above on the test data."
   ],
   "metadata": {
    "collapsed": false
   },
   "id": "7f0039c0fcfbb8cf"
  },
  {
   "cell_type": "code",
   "execution_count": 106,
   "outputs": [
    {
     "name": "stdout",
     "output_type": "stream",
     "text": [
      "0.12480000000000002\n",
      "0.11480000000000001\n",
      "0.09519999999999995\n",
      "0.08079999999999998\n",
      "0.06540000000000001\n",
      "0.04959999999999998\n",
      "0.037799999999999945\n",
      "0.027200000000000002\n",
      "0.023599999999999954\n",
      "0.018000000000000016\n",
      "0.015599999999999947\n",
      "0.01539999999999997\n",
      "0.01539999999999997\n",
      "0.01539999999999997\n",
      "0.01539999999999997\n",
      "0.01539999999999997\n"
     ]
    }
   ],
   "source": [
    "for tree in trees:\n",
    "    print(1 - predict_dataframe(tree, binary_bank_test_no_unknown, \"y\"))"
   ],
   "metadata": {
    "collapsed": false,
    "ExecuteTime": {
     "end_time": "2023-09-22T08:14:35.598165Z",
     "start_time": "2023-09-22T08:14:27.128670Z"
    }
   },
   "id": "c32596bab2ea7ada"
  },
  {
   "cell_type": "markdown",
   "source": [
    "Let's now make 16 trees varying form depth of 1 through 16. We will now use majority error."
   ],
   "metadata": {
    "collapsed": false
   },
   "id": "730e3cad907f1592"
  },
  {
   "cell_type": "code",
   "execution_count": 107,
   "outputs": [],
   "source": [
    "trees: list[DecisionTree] = []\n",
    "for i in range (1, 17):\n",
    "    tree: DecisionTree = DecisionTree(binary_bank_test_no_unknown)\n",
    "    tree.build(attributes=set(binary_bank_test_no_unknown.columns) - {\"y\"}, label=\"y\", splitting_criteria=tree.majority_error, set_depth=i)\n",
    "    trees.append(tree)"
   ],
   "metadata": {
    "collapsed": false,
    "ExecuteTime": {
     "end_time": "2023-09-22T08:16:04.685359Z",
     "start_time": "2023-09-22T08:15:14.786241Z"
    }
   },
   "id": "c490839705e9e025"
  },
  {
   "cell_type": "markdown",
   "source": [
    "Let's now make a prediction using the 16 trees above on the train data."
   ],
   "metadata": {
    "collapsed": false
   },
   "id": "cc77f970f6785059"
  },
  {
   "cell_type": "code",
   "execution_count": 108,
   "outputs": [
    {
     "name": "stdout",
     "output_type": "stream",
     "text": [
      "0.10880000000000001\n",
      "0.10560000000000003\n",
      "0.10999999999999999\n",
      "0.11580000000000001\n",
      "0.12060000000000004\n",
      "0.12719999999999998\n",
      "0.13180000000000003\n",
      "0.14\n",
      "0.14500000000000002\n",
      "0.15159999999999996\n",
      "0.15639999999999998\n",
      "0.15859999999999996\n",
      "0.1612\n",
      "0.16200000000000003\n",
      "0.16259999999999997\n",
      "0.16259999999999997\n"
     ]
    }
   ],
   "source": [
    "for tree in trees:\n",
    "    print(1 - predict_dataframe(tree, binary_bank_train_no_unknown, \"y\"))"
   ],
   "metadata": {
    "collapsed": false,
    "ExecuteTime": {
     "end_time": "2023-09-22T08:16:38.220963Z",
     "start_time": "2023-09-22T08:16:25.707654Z"
    }
   },
   "id": "c9f8503919adad7a"
  },
  {
   "cell_type": "markdown",
   "source": [
    "Let's now make a prediction using the 16 trees above on the test data."
   ],
   "metadata": {
    "collapsed": false
   },
   "id": "c7cf25bae2328b7b"
  },
  {
   "cell_type": "code",
   "execution_count": 110,
   "outputs": [
    {
     "name": "stdout",
     "output_type": "stream",
     "text": [
      "0.11660000000000004\n",
      "0.1078\n",
      "0.09340000000000004\n",
      "0.08099999999999996\n",
      "0.0706\n",
      "0.061799999999999966\n",
      "0.05379999999999996\n",
      "0.0464\n",
      "0.03920000000000001\n",
      "0.031000000000000028\n",
      "0.0262\n",
      "0.021599999999999953\n",
      "0.017800000000000038\n",
      "0.015599999999999947\n",
      "0.01539999999999997\n",
      "0.01539999999999997\n"
     ]
    }
   ],
   "source": [
    "for tree in trees:\n",
    "    print(1 - predict_dataframe(tree, binary_bank_test_no_unknown, \"y\"))"
   ],
   "metadata": {
    "collapsed": false,
    "ExecuteTime": {
     "end_time": "2023-09-22T08:17:27.355809Z",
     "start_time": "2023-09-22T08:17:16.376722Z"
    }
   },
   "id": "f529b19ea79be30e"
  },
  {
   "cell_type": "markdown",
   "source": [
    "### Part C\n",
    "We notice above that the trees that had the unknown value (rather than the imputed one) performed ever so slightly better than the tress that imputed the value of the unknowns based of the error on the training and test sets. We also found that the training errors performed worse than the test errors. We also notice that both the training and test errors converge to an error percentage after a certain number of nodes."
   ],
   "metadata": {
    "collapsed": false
   },
   "id": "970330d9fca35287"
  }
 ],
 "metadata": {
  "kernelspec": {
   "display_name": "Python 3",
   "language": "python",
   "name": "python3"
  },
  "language_info": {
   "codemirror_mode": {
    "name": "ipython",
    "version": 2
   },
   "file_extension": ".py",
   "mimetype": "text/x-python",
   "name": "python",
   "nbconvert_exporter": "python",
   "pygments_lexer": "ipython2",
   "version": "2.7.6"
  }
 },
 "nbformat": 4,
 "nbformat_minor": 5
}
